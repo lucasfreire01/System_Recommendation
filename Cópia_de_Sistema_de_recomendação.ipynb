{
  "cells": [
    {
      "cell_type": "code",
      "execution_count": 1,
      "metadata": {
        "colab": {
          "base_uri": "https://localhost:8080/"
        },
        "id": "BpTtoYze5O1M",
        "outputId": "f13997eb-d351-40ae-9b47-296d8e0845fb"
      },
      "outputs": [
        {
          "output_type": "stream",
          "name": "stdout",
          "text": [
            "Looking in indexes: https://pypi.org/simple, https://us-python.pkg.dev/colab-wheels/public/simple/\n",
            "Collecting pyzipcode\n",
            "  Downloading pyzipcode-3.0.1.tar.gz (1.9 MB)\n",
            "\u001b[K     |████████████████████████████████| 1.9 MB 5.2 MB/s \n",
            "\u001b[?25hBuilding wheels for collected packages: pyzipcode\n",
            "  Building wheel for pyzipcode (setup.py) ... \u001b[?25l\u001b[?25hdone\n",
            "  Created wheel for pyzipcode: filename=pyzipcode-3.0.1-py3-none-any.whl size=1932413 sha256=0e8cd8611b6d50d264ab67feabea5ad814255e097fa4a2dc99fc5da2a33d843c\n",
            "  Stored in directory: /root/.cache/pip/wheels/34/50/3a/603a8939ad45937f7a2712f5ff2942f21b1d8b3e4b47d6c5a1\n",
            "Successfully built pyzipcode\n",
            "Installing collected packages: pyzipcode\n",
            "Successfully installed pyzipcode-3.0.1\n",
            "Looking in indexes: https://pypi.org/simple, https://us-python.pkg.dev/colab-wheels/public/simple/\n",
            "Requirement already satisfied: pandas==1.3.5 in /usr/local/lib/python3.7/dist-packages (1.3.5)\n",
            "Requirement already satisfied: pytz>=2017.3 in /usr/local/lib/python3.7/dist-packages (from pandas==1.3.5) (2022.4)\n",
            "Requirement already satisfied: numpy>=1.17.3 in /usr/local/lib/python3.7/dist-packages (from pandas==1.3.5) (1.21.6)\n",
            "Requirement already satisfied: python-dateutil>=2.7.3 in /usr/local/lib/python3.7/dist-packages (from pandas==1.3.5) (2.8.2)\n",
            "Requirement already satisfied: six>=1.5 in /usr/local/lib/python3.7/dist-packages (from python-dateutil>=2.7.3->pandas==1.3.5) (1.15.0)\n",
            "Looking in indexes: https://pypi.org/simple, https://us-python.pkg.dev/colab-wheels/public/simple/\n",
            "Collecting surprise\n",
            "  Downloading surprise-0.1-py2.py3-none-any.whl (1.8 kB)\n",
            "Collecting scikit-surprise\n",
            "  Downloading scikit-surprise-1.1.1.tar.gz (11.8 MB)\n",
            "\u001b[K     |████████████████████████████████| 11.8 MB 5.2 MB/s \n",
            "\u001b[?25hRequirement already satisfied: joblib>=0.11 in /usr/local/lib/python3.7/dist-packages (from scikit-surprise->surprise) (1.2.0)\n",
            "Requirement already satisfied: numpy>=1.11.2 in /usr/local/lib/python3.7/dist-packages (from scikit-surprise->surprise) (1.21.6)\n",
            "Requirement already satisfied: scipy>=1.0.0 in /usr/local/lib/python3.7/dist-packages (from scikit-surprise->surprise) (1.7.3)\n",
            "Requirement already satisfied: six>=1.10.0 in /usr/local/lib/python3.7/dist-packages (from scikit-surprise->surprise) (1.15.0)\n",
            "Building wheels for collected packages: scikit-surprise\n",
            "  Building wheel for scikit-surprise (setup.py) ... \u001b[?25l\u001b[?25hdone\n",
            "  Created wheel for scikit-surprise: filename=scikit_surprise-1.1.1-cp37-cp37m-linux_x86_64.whl size=1633980 sha256=0fd3d31dd732f23b1bc8dba4ec440d1293cb9e319db3770abc429cb3892cde64\n",
            "  Stored in directory: /root/.cache/pip/wheels/76/44/74/b498c42be47b2406bd27994e16c5188e337c657025ab400c1c\n",
            "Successfully built scikit-surprise\n",
            "Installing collected packages: scikit-surprise, surprise\n",
            "Successfully installed scikit-surprise-1.1.1 surprise-0.1\n",
            "Looking in indexes: https://pypi.org/simple, https://us-python.pkg.dev/colab-wheels/public/simple/\n",
            "Collecting arff\n",
            "  Downloading arff-0.9.tar.gz (4.7 kB)\n",
            "Building wheels for collected packages: arff\n",
            "  Building wheel for arff (setup.py) ... \u001b[?25l\u001b[?25hdone\n",
            "  Created wheel for arff: filename=arff-0.9-py3-none-any.whl size=4971 sha256=d84eef8dce230cac733dd5d67927dfd18fdbd9dbf77f68a8081a99341853d177\n",
            "  Stored in directory: /root/.cache/pip/wheels/fe/81/bd/4ae90e24ba860304e375da219f9205b2586dbee255f3ee70e2\n",
            "Successfully built arff\n",
            "Installing collected packages: arff\n",
            "Successfully installed arff-0.9\n"
          ]
        }
      ],
      "source": [
        "!pip install pyzipcode\n",
        "!pip install pandas==1.3.5\n",
        "!pip install surprise\n",
        "!pip install arff"
      ]
    },
    {
      "cell_type": "code",
      "execution_count": 2,
      "metadata": {
        "id": "GOIQRgrP5zV1"
      },
      "outputs": [],
      "source": [
        "import pandas as pd\n",
        "from datetime import datetime\n",
        "import matplotlib.pyplot as plt\n",
        "import seaborn as sns\n",
        "from datetime import datetime, timedelta\n",
        "from pyzipcode import ZipCodeDatabase\n",
        "import warnings\n",
        "import networkx as nx\n",
        "import math\n",
        "import numpy as np\n",
        "from sklearn.model_selection import train_test_split\n",
        "from sklearn.metrics import silhouette_score\n",
        "from scipy.cluster.hierarchy import linkage\n",
        "from scipy.cluster.hierarchy import dendrogram\n",
        "from scipy.cluster.hierarchy import cut_tree\n",
        "from surprise import Reader, Dataset, SVD\n",
        "from surprise.model_selection import cross_validate\n",
        "from surprise import accuracy\n",
        "from sklearn.metrics.pairwise import cosine_similarity\n",
        "import scipy.sparse as sp\n",
        "import arff\n",
        "\n",
        "warnings.filterwarnings('ignore')\n",
        "sns.set_style(\"darkgrid\")\n",
        "%matplotlib inline"
      ]
    },
    {
      "cell_type": "code",
      "execution_count": 3,
      "metadata": {
        "id": "7X6_LSba50YU"
      },
      "outputs": [],
      "source": [
        "nomes=['id_usuario','id_filme','avaliacao','data_avaliacao']\n",
        "dataset=pd.read_csv(\"/content/u.data\",sep=\"\\t\",names=nomes)"
      ]
    },
    {
      "cell_type": "code",
      "execution_count": 4,
      "metadata": {
        "id": "Bs0zLsnn59Oz"
      },
      "outputs": [],
      "source": [
        "data_inicio_unix = datetime(1970, 1, 1)\n",
        "dataset['data_avaliacao'] = dataset.data_avaliacao.apply(lambda x: data_inicio_unix + timedelta(seconds=x)).dt.date"
      ]
    },
    {
      "cell_type": "code",
      "execution_count": 5,
      "metadata": {
        "id": "ibx_oxWk6d1T"
      },
      "outputs": [],
      "source": [
        "dataset['id_usuario'] = dataset['id_usuario'].astype(str)\n",
        "dataset['id_filme'] = dataset['id_filme'].astype(str)"
      ]
    },
    {
      "cell_type": "code",
      "execution_count": 6,
      "metadata": {
        "id": "eJ-ifIrv6_2p",
        "colab": {
          "base_uri": "https://localhost:8080/"
        },
        "outputId": "71086a7f-eb87-4eae-bb35-a86c1817c964"
      },
      "outputs": [
        {
          "output_type": "stream",
          "name": "stdout",
          "text": [
            "\n",
            "Quantidade de linhas na base de dados: 100000 \n",
            "Quantidade de colunas na base de dados: 4 \n",
            "\n"
          ]
        }
      ],
      "source": [
        "print('\\nQuantidade de linhas na base de dados:', dataset.shape[0],'\\nQuantidade de colunas na base de dados:', dataset.shape[1],'\\n')"
      ]
    },
    {
      "cell_type": "code",
      "execution_count": 7,
      "metadata": {
        "id": "_-nZwOJbsbyB",
        "colab": {
          "base_uri": "https://localhost:8080/",
          "height": 276
        },
        "outputId": "88f52b43-0659-4488-85c3-955e3484bc7f"
      },
      "outputs": [
        {
          "output_type": "stream",
          "name": "stdout",
          "text": [
            "\n",
            "Quantidade de linhas na base de dados: 943 \n",
            "Quantidade de colunas na base de dados: 5 \n",
            "\n"
          ]
        },
        {
          "output_type": "execute_result",
          "data": {
            "text/plain": [
              "  id_usuario  idade sexo   profissao    cep\n",
              "0          1     24    M  technician  85711\n",
              "1          2     53    F       other  94043\n",
              "2          3     23    M      writer  32067\n",
              "3          4     24    M  technician  43537\n",
              "4          5     33    F       other  15213"
            ],
            "text/html": [
              "\n",
              "  <div id=\"df-0e56ddf1-24ca-4c82-9775-93abe75d2ab3\">\n",
              "    <div class=\"colab-df-container\">\n",
              "      <div>\n",
              "<style scoped>\n",
              "    .dataframe tbody tr th:only-of-type {\n",
              "        vertical-align: middle;\n",
              "    }\n",
              "\n",
              "    .dataframe tbody tr th {\n",
              "        vertical-align: top;\n",
              "    }\n",
              "\n",
              "    .dataframe thead th {\n",
              "        text-align: right;\n",
              "    }\n",
              "</style>\n",
              "<table border=\"1\" class=\"dataframe\">\n",
              "  <thead>\n",
              "    <tr style=\"text-align: right;\">\n",
              "      <th></th>\n",
              "      <th>id_usuario</th>\n",
              "      <th>idade</th>\n",
              "      <th>sexo</th>\n",
              "      <th>profissao</th>\n",
              "      <th>cep</th>\n",
              "    </tr>\n",
              "  </thead>\n",
              "  <tbody>\n",
              "    <tr>\n",
              "      <th>0</th>\n",
              "      <td>1</td>\n",
              "      <td>24</td>\n",
              "      <td>M</td>\n",
              "      <td>technician</td>\n",
              "      <td>85711</td>\n",
              "    </tr>\n",
              "    <tr>\n",
              "      <th>1</th>\n",
              "      <td>2</td>\n",
              "      <td>53</td>\n",
              "      <td>F</td>\n",
              "      <td>other</td>\n",
              "      <td>94043</td>\n",
              "    </tr>\n",
              "    <tr>\n",
              "      <th>2</th>\n",
              "      <td>3</td>\n",
              "      <td>23</td>\n",
              "      <td>M</td>\n",
              "      <td>writer</td>\n",
              "      <td>32067</td>\n",
              "    </tr>\n",
              "    <tr>\n",
              "      <th>3</th>\n",
              "      <td>4</td>\n",
              "      <td>24</td>\n",
              "      <td>M</td>\n",
              "      <td>technician</td>\n",
              "      <td>43537</td>\n",
              "    </tr>\n",
              "    <tr>\n",
              "      <th>4</th>\n",
              "      <td>5</td>\n",
              "      <td>33</td>\n",
              "      <td>F</td>\n",
              "      <td>other</td>\n",
              "      <td>15213</td>\n",
              "    </tr>\n",
              "  </tbody>\n",
              "</table>\n",
              "</div>\n",
              "      <button class=\"colab-df-convert\" onclick=\"convertToInteractive('df-0e56ddf1-24ca-4c82-9775-93abe75d2ab3')\"\n",
              "              title=\"Convert this dataframe to an interactive table.\"\n",
              "              style=\"display:none;\">\n",
              "        \n",
              "  <svg xmlns=\"http://www.w3.org/2000/svg\" height=\"24px\"viewBox=\"0 0 24 24\"\n",
              "       width=\"24px\">\n",
              "    <path d=\"M0 0h24v24H0V0z\" fill=\"none\"/>\n",
              "    <path d=\"M18.56 5.44l.94 2.06.94-2.06 2.06-.94-2.06-.94-.94-2.06-.94 2.06-2.06.94zm-11 1L8.5 8.5l.94-2.06 2.06-.94-2.06-.94L8.5 2.5l-.94 2.06-2.06.94zm10 10l.94 2.06.94-2.06 2.06-.94-2.06-.94-.94-2.06-.94 2.06-2.06.94z\"/><path d=\"M17.41 7.96l-1.37-1.37c-.4-.4-.92-.59-1.43-.59-.52 0-1.04.2-1.43.59L10.3 9.45l-7.72 7.72c-.78.78-.78 2.05 0 2.83L4 21.41c.39.39.9.59 1.41.59.51 0 1.02-.2 1.41-.59l7.78-7.78 2.81-2.81c.8-.78.8-2.07 0-2.86zM5.41 20L4 18.59l7.72-7.72 1.47 1.35L5.41 20z\"/>\n",
              "  </svg>\n",
              "      </button>\n",
              "      \n",
              "  <style>\n",
              "    .colab-df-container {\n",
              "      display:flex;\n",
              "      flex-wrap:wrap;\n",
              "      gap: 12px;\n",
              "    }\n",
              "\n",
              "    .colab-df-convert {\n",
              "      background-color: #E8F0FE;\n",
              "      border: none;\n",
              "      border-radius: 50%;\n",
              "      cursor: pointer;\n",
              "      display: none;\n",
              "      fill: #1967D2;\n",
              "      height: 32px;\n",
              "      padding: 0 0 0 0;\n",
              "      width: 32px;\n",
              "    }\n",
              "\n",
              "    .colab-df-convert:hover {\n",
              "      background-color: #E2EBFA;\n",
              "      box-shadow: 0px 1px 2px rgba(60, 64, 67, 0.3), 0px 1px 3px 1px rgba(60, 64, 67, 0.15);\n",
              "      fill: #174EA6;\n",
              "    }\n",
              "\n",
              "    [theme=dark] .colab-df-convert {\n",
              "      background-color: #3B4455;\n",
              "      fill: #D2E3FC;\n",
              "    }\n",
              "\n",
              "    [theme=dark] .colab-df-convert:hover {\n",
              "      background-color: #434B5C;\n",
              "      box-shadow: 0px 1px 3px 1px rgba(0, 0, 0, 0.15);\n",
              "      filter: drop-shadow(0px 1px 2px rgba(0, 0, 0, 0.3));\n",
              "      fill: #FFFFFF;\n",
              "    }\n",
              "  </style>\n",
              "\n",
              "      <script>\n",
              "        const buttonEl =\n",
              "          document.querySelector('#df-0e56ddf1-24ca-4c82-9775-93abe75d2ab3 button.colab-df-convert');\n",
              "        buttonEl.style.display =\n",
              "          google.colab.kernel.accessAllowed ? 'block' : 'none';\n",
              "\n",
              "        async function convertToInteractive(key) {\n",
              "          const element = document.querySelector('#df-0e56ddf1-24ca-4c82-9775-93abe75d2ab3');\n",
              "          const dataTable =\n",
              "            await google.colab.kernel.invokeFunction('convertToInteractive',\n",
              "                                                     [key], {});\n",
              "          if (!dataTable) return;\n",
              "\n",
              "          const docLinkHtml = 'Like what you see? Visit the ' +\n",
              "            '<a target=\"_blank\" href=https://colab.research.google.com/notebooks/data_table.ipynb>data table notebook</a>'\n",
              "            + ' to learn more about interactive tables.';\n",
              "          element.innerHTML = '';\n",
              "          dataTable['output_type'] = 'display_data';\n",
              "          await google.colab.output.renderOutput(dataTable, element);\n",
              "          const docLink = document.createElement('div');\n",
              "          docLink.innerHTML = docLinkHtml;\n",
              "          element.appendChild(docLink);\n",
              "        }\n",
              "      </script>\n",
              "    </div>\n",
              "  </div>\n",
              "  "
            ]
          },
          "metadata": {},
          "execution_count": 7
        }
      ],
      "source": [
        "nomes_das_colunas=['id_usuario','idade','sexo','profissao','cep']\n",
        "dataset_usuarios=pd.read_csv(\"/content/u.user\",sep=\"\\|\",names=nomes_das_colunas, engine='python')\n",
        "dataset_usuarios['id_usuario'] = dataset_usuarios['id_usuario'].astype(str)\n",
        "print('\\nQuantidade de linhas na base de dados:', dataset_usuarios.shape[0],'\\nQuantidade de colunas na base de dados:', dataset_usuarios.shape[1],'\\n')\n",
        "dataset_usuarios.head()"
      ]
    },
    {
      "cell_type": "code",
      "execution_count": 8,
      "metadata": {
        "colab": {
          "base_uri": "https://localhost:8080/",
          "height": 206
        },
        "id": "J7I9QzZi7QTA",
        "outputId": "fc22b0b3-5a84-4cc6-befb-dc438d94371e"
      },
      "outputs": [
        {
          "output_type": "execute_result",
          "data": {
            "text/plain": [
              "  id_usuario id_filme  avaliacao data_avaliacao\n",
              "0        196      242          3     1997-12-04\n",
              "1        186      302          3     1998-04-04\n",
              "2         22      377          1     1997-11-07\n",
              "3        244       51          2     1997-11-27\n",
              "4        166      346          1     1998-02-02"
            ],
            "text/html": [
              "\n",
              "  <div id=\"df-abd7c176-38b2-4ed4-bde7-e40b3b54d9e1\">\n",
              "    <div class=\"colab-df-container\">\n",
              "      <div>\n",
              "<style scoped>\n",
              "    .dataframe tbody tr th:only-of-type {\n",
              "        vertical-align: middle;\n",
              "    }\n",
              "\n",
              "    .dataframe tbody tr th {\n",
              "        vertical-align: top;\n",
              "    }\n",
              "\n",
              "    .dataframe thead th {\n",
              "        text-align: right;\n",
              "    }\n",
              "</style>\n",
              "<table border=\"1\" class=\"dataframe\">\n",
              "  <thead>\n",
              "    <tr style=\"text-align: right;\">\n",
              "      <th></th>\n",
              "      <th>id_usuario</th>\n",
              "      <th>id_filme</th>\n",
              "      <th>avaliacao</th>\n",
              "      <th>data_avaliacao</th>\n",
              "    </tr>\n",
              "  </thead>\n",
              "  <tbody>\n",
              "    <tr>\n",
              "      <th>0</th>\n",
              "      <td>196</td>\n",
              "      <td>242</td>\n",
              "      <td>3</td>\n",
              "      <td>1997-12-04</td>\n",
              "    </tr>\n",
              "    <tr>\n",
              "      <th>1</th>\n",
              "      <td>186</td>\n",
              "      <td>302</td>\n",
              "      <td>3</td>\n",
              "      <td>1998-04-04</td>\n",
              "    </tr>\n",
              "    <tr>\n",
              "      <th>2</th>\n",
              "      <td>22</td>\n",
              "      <td>377</td>\n",
              "      <td>1</td>\n",
              "      <td>1997-11-07</td>\n",
              "    </tr>\n",
              "    <tr>\n",
              "      <th>3</th>\n",
              "      <td>244</td>\n",
              "      <td>51</td>\n",
              "      <td>2</td>\n",
              "      <td>1997-11-27</td>\n",
              "    </tr>\n",
              "    <tr>\n",
              "      <th>4</th>\n",
              "      <td>166</td>\n",
              "      <td>346</td>\n",
              "      <td>1</td>\n",
              "      <td>1998-02-02</td>\n",
              "    </tr>\n",
              "  </tbody>\n",
              "</table>\n",
              "</div>\n",
              "      <button class=\"colab-df-convert\" onclick=\"convertToInteractive('df-abd7c176-38b2-4ed4-bde7-e40b3b54d9e1')\"\n",
              "              title=\"Convert this dataframe to an interactive table.\"\n",
              "              style=\"display:none;\">\n",
              "        \n",
              "  <svg xmlns=\"http://www.w3.org/2000/svg\" height=\"24px\"viewBox=\"0 0 24 24\"\n",
              "       width=\"24px\">\n",
              "    <path d=\"M0 0h24v24H0V0z\" fill=\"none\"/>\n",
              "    <path d=\"M18.56 5.44l.94 2.06.94-2.06 2.06-.94-2.06-.94-.94-2.06-.94 2.06-2.06.94zm-11 1L8.5 8.5l.94-2.06 2.06-.94-2.06-.94L8.5 2.5l-.94 2.06-2.06.94zm10 10l.94 2.06.94-2.06 2.06-.94-2.06-.94-.94-2.06-.94 2.06-2.06.94z\"/><path d=\"M17.41 7.96l-1.37-1.37c-.4-.4-.92-.59-1.43-.59-.52 0-1.04.2-1.43.59L10.3 9.45l-7.72 7.72c-.78.78-.78 2.05 0 2.83L4 21.41c.39.39.9.59 1.41.59.51 0 1.02-.2 1.41-.59l7.78-7.78 2.81-2.81c.8-.78.8-2.07 0-2.86zM5.41 20L4 18.59l7.72-7.72 1.47 1.35L5.41 20z\"/>\n",
              "  </svg>\n",
              "      </button>\n",
              "      \n",
              "  <style>\n",
              "    .colab-df-container {\n",
              "      display:flex;\n",
              "      flex-wrap:wrap;\n",
              "      gap: 12px;\n",
              "    }\n",
              "\n",
              "    .colab-df-convert {\n",
              "      background-color: #E8F0FE;\n",
              "      border: none;\n",
              "      border-radius: 50%;\n",
              "      cursor: pointer;\n",
              "      display: none;\n",
              "      fill: #1967D2;\n",
              "      height: 32px;\n",
              "      padding: 0 0 0 0;\n",
              "      width: 32px;\n",
              "    }\n",
              "\n",
              "    .colab-df-convert:hover {\n",
              "      background-color: #E2EBFA;\n",
              "      box-shadow: 0px 1px 2px rgba(60, 64, 67, 0.3), 0px 1px 3px 1px rgba(60, 64, 67, 0.15);\n",
              "      fill: #174EA6;\n",
              "    }\n",
              "\n",
              "    [theme=dark] .colab-df-convert {\n",
              "      background-color: #3B4455;\n",
              "      fill: #D2E3FC;\n",
              "    }\n",
              "\n",
              "    [theme=dark] .colab-df-convert:hover {\n",
              "      background-color: #434B5C;\n",
              "      box-shadow: 0px 1px 3px 1px rgba(0, 0, 0, 0.15);\n",
              "      filter: drop-shadow(0px 1px 2px rgba(0, 0, 0, 0.3));\n",
              "      fill: #FFFFFF;\n",
              "    }\n",
              "  </style>\n",
              "\n",
              "      <script>\n",
              "        const buttonEl =\n",
              "          document.querySelector('#df-abd7c176-38b2-4ed4-bde7-e40b3b54d9e1 button.colab-df-convert');\n",
              "        buttonEl.style.display =\n",
              "          google.colab.kernel.accessAllowed ? 'block' : 'none';\n",
              "\n",
              "        async function convertToInteractive(key) {\n",
              "          const element = document.querySelector('#df-abd7c176-38b2-4ed4-bde7-e40b3b54d9e1');\n",
              "          const dataTable =\n",
              "            await google.colab.kernel.invokeFunction('convertToInteractive',\n",
              "                                                     [key], {});\n",
              "          if (!dataTable) return;\n",
              "\n",
              "          const docLinkHtml = 'Like what you see? Visit the ' +\n",
              "            '<a target=\"_blank\" href=https://colab.research.google.com/notebooks/data_table.ipynb>data table notebook</a>'\n",
              "            + ' to learn more about interactive tables.';\n",
              "          element.innerHTML = '';\n",
              "          dataTable['output_type'] = 'display_data';\n",
              "          await google.colab.output.renderOutput(dataTable, element);\n",
              "          const docLink = document.createElement('div');\n",
              "          docLink.innerHTML = docLinkHtml;\n",
              "          element.appendChild(docLink);\n",
              "        }\n",
              "      </script>\n",
              "    </div>\n",
              "  </div>\n",
              "  "
            ]
          },
          "metadata": {},
          "execution_count": 8
        }
      ],
      "source": [
        "dataset.head()"
      ]
    },
    {
      "cell_type": "code",
      "execution_count": 9,
      "metadata": {
        "id": "-6FsWh2UO2D2"
      },
      "outputs": [],
      "source": [
        "dataset = dataset.merge(dataset_usuarios, left_on='id_usuario', right_on='id_usuario', how='left')"
      ]
    },
    {
      "cell_type": "code",
      "execution_count": 10,
      "metadata": {
        "colab": {
          "base_uri": "https://localhost:8080/"
        },
        "id": "tca11F8B7Wob",
        "outputId": "60890d90-b34a-4149-9ec2-eac0119f9833"
      },
      "outputs": [
        {
          "output_type": "execute_result",
          "data": {
            "text/plain": [
              "id_usuario        100000\n",
              "id_filme          100000\n",
              "avaliacao         100000\n",
              "data_avaliacao    100000\n",
              "idade             100000\n",
              "sexo              100000\n",
              "profissao         100000\n",
              "cep               100000\n",
              "dtype: int64"
            ]
          },
          "metadata": {},
          "execution_count": 10
        }
      ],
      "source": [
        "dataset.count()"
      ]
    },
    {
      "cell_type": "code",
      "execution_count": 11,
      "metadata": {
        "id": "MAYVOdJi7g17"
      },
      "outputs": [],
      "source": [
        "nomes_das_colunas=['id_filme','nome_filme','data_lancamento','data_lancamento_dvd','IMDb_url', \n",
        "                   'tema_desconhecido', 'tema_acao', 'tema_aventura','tema_animacao','tema_criancas',\n",
        "                   'tema_comedia','tema_crime','tema_documentario', 'tema_drama', 'tema_fantasia',\n",
        "                   'tema_preto_branco','tema_horror','tema_musical','tema_misterio', 'tema_romance',\n",
        "                   'tema_fic_cientifica','tema_suspense', 'tema_guerra','tema_velho_oeste']"
      ]
    },
    {
      "cell_type": "code",
      "execution_count": 12,
      "metadata": {
        "id": "_8u9PYed7sIQ"
      },
      "outputs": [],
      "source": [
        "temas = nomes_das_colunas[5:]"
      ]
    },
    {
      "cell_type": "code",
      "execution_count": 13,
      "metadata": {
        "id": "9yCUzkC-7yFL"
      },
      "outputs": [],
      "source": [
        "dataset_item=pd.read_csv(\"/content/u.item\",\n",
        "                    sep=\"\\|\",names=nomes_das_colunas, engine='python', encoding=\"ISO-8859-1\")"
      ]
    },
    {
      "cell_type": "code",
      "execution_count": 14,
      "metadata": {
        "id": "gyDXicoH8iAQ"
      },
      "outputs": [],
      "source": [
        "dataset_item.drop(columns=['data_lancamento_dvd','IMDb_url'], inplace=True)"
      ]
    },
    {
      "cell_type": "code",
      "execution_count": 15,
      "metadata": {
        "id": "43HeLGSU9ToR"
      },
      "outputs": [],
      "source": [
        "dataset_item['id_filme'] = dataset_item['id_filme'].astype(str)"
      ]
    },
    {
      "cell_type": "code",
      "execution_count": 16,
      "metadata": {
        "colab": {
          "base_uri": "https://localhost:8080/",
          "height": 456
        },
        "id": "gGEF4e8o9sil",
        "outputId": "63886b34-dba5-4279-ee6e-1b7e0c9bf54f"
      },
      "outputs": [
        {
          "output_type": "stream",
          "name": "stdout",
          "text": [
            "\n",
            "Quantidade de linhas na base de dados: 1682 \n",
            "Quantidade de colunas na base de dados: 22 \n",
            "\n"
          ]
        },
        {
          "output_type": "execute_result",
          "data": {
            "text/plain": [
              "  id_filme         nome_filme data_lancamento  tema_desconhecido  tema_acao  \\\n",
              "0        1   Toy Story (1995)     01-Jan-1995                  0          0   \n",
              "1        2   GoldenEye (1995)     01-Jan-1995                  0          1   \n",
              "2        3  Four Rooms (1995)     01-Jan-1995                  0          0   \n",
              "3        4  Get Shorty (1995)     01-Jan-1995                  0          1   \n",
              "4        5     Copycat (1995)     01-Jan-1995                  0          0   \n",
              "\n",
              "   tema_aventura  tema_animacao  tema_criancas  tema_comedia  tema_crime  ...  \\\n",
              "0              0              1              1             1           0  ...   \n",
              "1              1              0              0             0           0  ...   \n",
              "2              0              0              0             0           0  ...   \n",
              "3              0              0              0             1           0  ...   \n",
              "4              0              0              0             0           1  ...   \n",
              "\n",
              "   tema_fantasia  tema_preto_branco  tema_horror  tema_musical  tema_misterio  \\\n",
              "0              0                  0            0             0              0   \n",
              "1              0                  0            0             0              0   \n",
              "2              0                  0            0             0              0   \n",
              "3              0                  0            0             0              0   \n",
              "4              0                  0            0             0              0   \n",
              "\n",
              "   tema_romance  tema_fic_cientifica  tema_suspense  tema_guerra  \\\n",
              "0             0                    0              0            0   \n",
              "1             0                    0              1            0   \n",
              "2             0                    0              1            0   \n",
              "3             0                    0              0            0   \n",
              "4             0                    0              1            0   \n",
              "\n",
              "   tema_velho_oeste  \n",
              "0                 0  \n",
              "1                 0  \n",
              "2                 0  \n",
              "3                 0  \n",
              "4                 0  \n",
              "\n",
              "[5 rows x 22 columns]"
            ],
            "text/html": [
              "\n",
              "  <div id=\"df-0f62e5d7-f9a5-4343-875d-725525df5715\">\n",
              "    <div class=\"colab-df-container\">\n",
              "      <div>\n",
              "<style scoped>\n",
              "    .dataframe tbody tr th:only-of-type {\n",
              "        vertical-align: middle;\n",
              "    }\n",
              "\n",
              "    .dataframe tbody tr th {\n",
              "        vertical-align: top;\n",
              "    }\n",
              "\n",
              "    .dataframe thead th {\n",
              "        text-align: right;\n",
              "    }\n",
              "</style>\n",
              "<table border=\"1\" class=\"dataframe\">\n",
              "  <thead>\n",
              "    <tr style=\"text-align: right;\">\n",
              "      <th></th>\n",
              "      <th>id_filme</th>\n",
              "      <th>nome_filme</th>\n",
              "      <th>data_lancamento</th>\n",
              "      <th>tema_desconhecido</th>\n",
              "      <th>tema_acao</th>\n",
              "      <th>tema_aventura</th>\n",
              "      <th>tema_animacao</th>\n",
              "      <th>tema_criancas</th>\n",
              "      <th>tema_comedia</th>\n",
              "      <th>tema_crime</th>\n",
              "      <th>...</th>\n",
              "      <th>tema_fantasia</th>\n",
              "      <th>tema_preto_branco</th>\n",
              "      <th>tema_horror</th>\n",
              "      <th>tema_musical</th>\n",
              "      <th>tema_misterio</th>\n",
              "      <th>tema_romance</th>\n",
              "      <th>tema_fic_cientifica</th>\n",
              "      <th>tema_suspense</th>\n",
              "      <th>tema_guerra</th>\n",
              "      <th>tema_velho_oeste</th>\n",
              "    </tr>\n",
              "  </thead>\n",
              "  <tbody>\n",
              "    <tr>\n",
              "      <th>0</th>\n",
              "      <td>1</td>\n",
              "      <td>Toy Story (1995)</td>\n",
              "      <td>01-Jan-1995</td>\n",
              "      <td>0</td>\n",
              "      <td>0</td>\n",
              "      <td>0</td>\n",
              "      <td>1</td>\n",
              "      <td>1</td>\n",
              "      <td>1</td>\n",
              "      <td>0</td>\n",
              "      <td>...</td>\n",
              "      <td>0</td>\n",
              "      <td>0</td>\n",
              "      <td>0</td>\n",
              "      <td>0</td>\n",
              "      <td>0</td>\n",
              "      <td>0</td>\n",
              "      <td>0</td>\n",
              "      <td>0</td>\n",
              "      <td>0</td>\n",
              "      <td>0</td>\n",
              "    </tr>\n",
              "    <tr>\n",
              "      <th>1</th>\n",
              "      <td>2</td>\n",
              "      <td>GoldenEye (1995)</td>\n",
              "      <td>01-Jan-1995</td>\n",
              "      <td>0</td>\n",
              "      <td>1</td>\n",
              "      <td>1</td>\n",
              "      <td>0</td>\n",
              "      <td>0</td>\n",
              "      <td>0</td>\n",
              "      <td>0</td>\n",
              "      <td>...</td>\n",
              "      <td>0</td>\n",
              "      <td>0</td>\n",
              "      <td>0</td>\n",
              "      <td>0</td>\n",
              "      <td>0</td>\n",
              "      <td>0</td>\n",
              "      <td>0</td>\n",
              "      <td>1</td>\n",
              "      <td>0</td>\n",
              "      <td>0</td>\n",
              "    </tr>\n",
              "    <tr>\n",
              "      <th>2</th>\n",
              "      <td>3</td>\n",
              "      <td>Four Rooms (1995)</td>\n",
              "      <td>01-Jan-1995</td>\n",
              "      <td>0</td>\n",
              "      <td>0</td>\n",
              "      <td>0</td>\n",
              "      <td>0</td>\n",
              "      <td>0</td>\n",
              "      <td>0</td>\n",
              "      <td>0</td>\n",
              "      <td>...</td>\n",
              "      <td>0</td>\n",
              "      <td>0</td>\n",
              "      <td>0</td>\n",
              "      <td>0</td>\n",
              "      <td>0</td>\n",
              "      <td>0</td>\n",
              "      <td>0</td>\n",
              "      <td>1</td>\n",
              "      <td>0</td>\n",
              "      <td>0</td>\n",
              "    </tr>\n",
              "    <tr>\n",
              "      <th>3</th>\n",
              "      <td>4</td>\n",
              "      <td>Get Shorty (1995)</td>\n",
              "      <td>01-Jan-1995</td>\n",
              "      <td>0</td>\n",
              "      <td>1</td>\n",
              "      <td>0</td>\n",
              "      <td>0</td>\n",
              "      <td>0</td>\n",
              "      <td>1</td>\n",
              "      <td>0</td>\n",
              "      <td>...</td>\n",
              "      <td>0</td>\n",
              "      <td>0</td>\n",
              "      <td>0</td>\n",
              "      <td>0</td>\n",
              "      <td>0</td>\n",
              "      <td>0</td>\n",
              "      <td>0</td>\n",
              "      <td>0</td>\n",
              "      <td>0</td>\n",
              "      <td>0</td>\n",
              "    </tr>\n",
              "    <tr>\n",
              "      <th>4</th>\n",
              "      <td>5</td>\n",
              "      <td>Copycat (1995)</td>\n",
              "      <td>01-Jan-1995</td>\n",
              "      <td>0</td>\n",
              "      <td>0</td>\n",
              "      <td>0</td>\n",
              "      <td>0</td>\n",
              "      <td>0</td>\n",
              "      <td>0</td>\n",
              "      <td>1</td>\n",
              "      <td>...</td>\n",
              "      <td>0</td>\n",
              "      <td>0</td>\n",
              "      <td>0</td>\n",
              "      <td>0</td>\n",
              "      <td>0</td>\n",
              "      <td>0</td>\n",
              "      <td>0</td>\n",
              "      <td>1</td>\n",
              "      <td>0</td>\n",
              "      <td>0</td>\n",
              "    </tr>\n",
              "  </tbody>\n",
              "</table>\n",
              "<p>5 rows × 22 columns</p>\n",
              "</div>\n",
              "      <button class=\"colab-df-convert\" onclick=\"convertToInteractive('df-0f62e5d7-f9a5-4343-875d-725525df5715')\"\n",
              "              title=\"Convert this dataframe to an interactive table.\"\n",
              "              style=\"display:none;\">\n",
              "        \n",
              "  <svg xmlns=\"http://www.w3.org/2000/svg\" height=\"24px\"viewBox=\"0 0 24 24\"\n",
              "       width=\"24px\">\n",
              "    <path d=\"M0 0h24v24H0V0z\" fill=\"none\"/>\n",
              "    <path d=\"M18.56 5.44l.94 2.06.94-2.06 2.06-.94-2.06-.94-.94-2.06-.94 2.06-2.06.94zm-11 1L8.5 8.5l.94-2.06 2.06-.94-2.06-.94L8.5 2.5l-.94 2.06-2.06.94zm10 10l.94 2.06.94-2.06 2.06-.94-2.06-.94-.94-2.06-.94 2.06-2.06.94z\"/><path d=\"M17.41 7.96l-1.37-1.37c-.4-.4-.92-.59-1.43-.59-.52 0-1.04.2-1.43.59L10.3 9.45l-7.72 7.72c-.78.78-.78 2.05 0 2.83L4 21.41c.39.39.9.59 1.41.59.51 0 1.02-.2 1.41-.59l7.78-7.78 2.81-2.81c.8-.78.8-2.07 0-2.86zM5.41 20L4 18.59l7.72-7.72 1.47 1.35L5.41 20z\"/>\n",
              "  </svg>\n",
              "      </button>\n",
              "      \n",
              "  <style>\n",
              "    .colab-df-container {\n",
              "      display:flex;\n",
              "      flex-wrap:wrap;\n",
              "      gap: 12px;\n",
              "    }\n",
              "\n",
              "    .colab-df-convert {\n",
              "      background-color: #E8F0FE;\n",
              "      border: none;\n",
              "      border-radius: 50%;\n",
              "      cursor: pointer;\n",
              "      display: none;\n",
              "      fill: #1967D2;\n",
              "      height: 32px;\n",
              "      padding: 0 0 0 0;\n",
              "      width: 32px;\n",
              "    }\n",
              "\n",
              "    .colab-df-convert:hover {\n",
              "      background-color: #E2EBFA;\n",
              "      box-shadow: 0px 1px 2px rgba(60, 64, 67, 0.3), 0px 1px 3px 1px rgba(60, 64, 67, 0.15);\n",
              "      fill: #174EA6;\n",
              "    }\n",
              "\n",
              "    [theme=dark] .colab-df-convert {\n",
              "      background-color: #3B4455;\n",
              "      fill: #D2E3FC;\n",
              "    }\n",
              "\n",
              "    [theme=dark] .colab-df-convert:hover {\n",
              "      background-color: #434B5C;\n",
              "      box-shadow: 0px 1px 3px 1px rgba(0, 0, 0, 0.15);\n",
              "      filter: drop-shadow(0px 1px 2px rgba(0, 0, 0, 0.3));\n",
              "      fill: #FFFFFF;\n",
              "    }\n",
              "  </style>\n",
              "\n",
              "      <script>\n",
              "        const buttonEl =\n",
              "          document.querySelector('#df-0f62e5d7-f9a5-4343-875d-725525df5715 button.colab-df-convert');\n",
              "        buttonEl.style.display =\n",
              "          google.colab.kernel.accessAllowed ? 'block' : 'none';\n",
              "\n",
              "        async function convertToInteractive(key) {\n",
              "          const element = document.querySelector('#df-0f62e5d7-f9a5-4343-875d-725525df5715');\n",
              "          const dataTable =\n",
              "            await google.colab.kernel.invokeFunction('convertToInteractive',\n",
              "                                                     [key], {});\n",
              "          if (!dataTable) return;\n",
              "\n",
              "          const docLinkHtml = 'Like what you see? Visit the ' +\n",
              "            '<a target=\"_blank\" href=https://colab.research.google.com/notebooks/data_table.ipynb>data table notebook</a>'\n",
              "            + ' to learn more about interactive tables.';\n",
              "          element.innerHTML = '';\n",
              "          dataTable['output_type'] = 'display_data';\n",
              "          await google.colab.output.renderOutput(dataTable, element);\n",
              "          const docLink = document.createElement('div');\n",
              "          docLink.innerHTML = docLinkHtml;\n",
              "          element.appendChild(docLink);\n",
              "        }\n",
              "      </script>\n",
              "    </div>\n",
              "  </div>\n",
              "  "
            ]
          },
          "metadata": {},
          "execution_count": 16
        }
      ],
      "source": [
        "print('\\nQuantidade de linhas na base de dados:', dataset_item.shape[0],'\\nQuantidade de colunas na base de dados:', dataset_item.shape[1],'\\n')\n",
        "dataset_item.head()"
      ]
    },
    {
      "cell_type": "code",
      "source": [
        "index = dataset_item.index"
      ],
      "metadata": {
        "id": "taL8c7Cbynge"
      },
      "execution_count": 71,
      "outputs": []
    },
    {
      "cell_type": "code",
      "execution_count": 17,
      "metadata": {
        "colab": {
          "base_uri": "https://localhost:8080/"
        },
        "id": "t0112BprR-el",
        "outputId": "7808c0f5-14fa-4099-d05f-3f9dbd58321e"
      },
      "outputs": [
        {
          "output_type": "execute_result",
          "data": {
            "text/plain": [
              "id_filme               1682\n",
              "nome_filme             1682\n",
              "data_lancamento        1681\n",
              "tema_desconhecido      1682\n",
              "tema_acao              1682\n",
              "tema_aventura          1682\n",
              "tema_animacao          1682\n",
              "tema_criancas          1682\n",
              "tema_comedia           1682\n",
              "tema_crime             1682\n",
              "tema_documentario      1682\n",
              "tema_drama             1682\n",
              "tema_fantasia          1682\n",
              "tema_preto_branco      1682\n",
              "tema_horror            1682\n",
              "tema_musical           1682\n",
              "tema_misterio          1682\n",
              "tema_romance           1682\n",
              "tema_fic_cientifica    1682\n",
              "tema_suspense          1682\n",
              "tema_guerra            1682\n",
              "tema_velho_oeste       1682\n",
              "dtype: int64"
            ]
          },
          "metadata": {},
          "execution_count": 17
        }
      ],
      "source": [
        "dataset_item.count()"
      ]
    },
    {
      "cell_type": "code",
      "execution_count": 18,
      "metadata": {
        "colab": {
          "base_uri": "https://localhost:8080/",
          "height": 174
        },
        "id": "Z5brqNcTSDFC",
        "outputId": "44e01666-424f-4f9a-f9bd-a5ea32d2878e"
      },
      "outputs": [
        {
          "output_type": "execute_result",
          "data": {
            "text/plain": [
              "    id_filme nome_filme data_lancamento  tema_desconhecido  tema_acao  \\\n",
              "266      267    unknown             NaN                  1          0   \n",
              "\n",
              "     tema_aventura  tema_animacao  tema_criancas  tema_comedia  tema_crime  \\\n",
              "266              0              0              0             0           0   \n",
              "\n",
              "     ...  tema_fantasia  tema_preto_branco  tema_horror  tema_musical  \\\n",
              "266  ...              0                  0            0             0   \n",
              "\n",
              "     tema_misterio  tema_romance  tema_fic_cientifica  tema_suspense  \\\n",
              "266              0             0                    0              0   \n",
              "\n",
              "     tema_guerra  tema_velho_oeste  \n",
              "266            0                 0  \n",
              "\n",
              "[1 rows x 22 columns]"
            ],
            "text/html": [
              "\n",
              "  <div id=\"df-a0e41b21-e090-43c9-8428-f5c5ba5cd22c\">\n",
              "    <div class=\"colab-df-container\">\n",
              "      <div>\n",
              "<style scoped>\n",
              "    .dataframe tbody tr th:only-of-type {\n",
              "        vertical-align: middle;\n",
              "    }\n",
              "\n",
              "    .dataframe tbody tr th {\n",
              "        vertical-align: top;\n",
              "    }\n",
              "\n",
              "    .dataframe thead th {\n",
              "        text-align: right;\n",
              "    }\n",
              "</style>\n",
              "<table border=\"1\" class=\"dataframe\">\n",
              "  <thead>\n",
              "    <tr style=\"text-align: right;\">\n",
              "      <th></th>\n",
              "      <th>id_filme</th>\n",
              "      <th>nome_filme</th>\n",
              "      <th>data_lancamento</th>\n",
              "      <th>tema_desconhecido</th>\n",
              "      <th>tema_acao</th>\n",
              "      <th>tema_aventura</th>\n",
              "      <th>tema_animacao</th>\n",
              "      <th>tema_criancas</th>\n",
              "      <th>tema_comedia</th>\n",
              "      <th>tema_crime</th>\n",
              "      <th>...</th>\n",
              "      <th>tema_fantasia</th>\n",
              "      <th>tema_preto_branco</th>\n",
              "      <th>tema_horror</th>\n",
              "      <th>tema_musical</th>\n",
              "      <th>tema_misterio</th>\n",
              "      <th>tema_romance</th>\n",
              "      <th>tema_fic_cientifica</th>\n",
              "      <th>tema_suspense</th>\n",
              "      <th>tema_guerra</th>\n",
              "      <th>tema_velho_oeste</th>\n",
              "    </tr>\n",
              "  </thead>\n",
              "  <tbody>\n",
              "    <tr>\n",
              "      <th>266</th>\n",
              "      <td>267</td>\n",
              "      <td>unknown</td>\n",
              "      <td>NaN</td>\n",
              "      <td>1</td>\n",
              "      <td>0</td>\n",
              "      <td>0</td>\n",
              "      <td>0</td>\n",
              "      <td>0</td>\n",
              "      <td>0</td>\n",
              "      <td>0</td>\n",
              "      <td>...</td>\n",
              "      <td>0</td>\n",
              "      <td>0</td>\n",
              "      <td>0</td>\n",
              "      <td>0</td>\n",
              "      <td>0</td>\n",
              "      <td>0</td>\n",
              "      <td>0</td>\n",
              "      <td>0</td>\n",
              "      <td>0</td>\n",
              "      <td>0</td>\n",
              "    </tr>\n",
              "  </tbody>\n",
              "</table>\n",
              "<p>1 rows × 22 columns</p>\n",
              "</div>\n",
              "      <button class=\"colab-df-convert\" onclick=\"convertToInteractive('df-a0e41b21-e090-43c9-8428-f5c5ba5cd22c')\"\n",
              "              title=\"Convert this dataframe to an interactive table.\"\n",
              "              style=\"display:none;\">\n",
              "        \n",
              "  <svg xmlns=\"http://www.w3.org/2000/svg\" height=\"24px\"viewBox=\"0 0 24 24\"\n",
              "       width=\"24px\">\n",
              "    <path d=\"M0 0h24v24H0V0z\" fill=\"none\"/>\n",
              "    <path d=\"M18.56 5.44l.94 2.06.94-2.06 2.06-.94-2.06-.94-.94-2.06-.94 2.06-2.06.94zm-11 1L8.5 8.5l.94-2.06 2.06-.94-2.06-.94L8.5 2.5l-.94 2.06-2.06.94zm10 10l.94 2.06.94-2.06 2.06-.94-2.06-.94-.94-2.06-.94 2.06-2.06.94z\"/><path d=\"M17.41 7.96l-1.37-1.37c-.4-.4-.92-.59-1.43-.59-.52 0-1.04.2-1.43.59L10.3 9.45l-7.72 7.72c-.78.78-.78 2.05 0 2.83L4 21.41c.39.39.9.59 1.41.59.51 0 1.02-.2 1.41-.59l7.78-7.78 2.81-2.81c.8-.78.8-2.07 0-2.86zM5.41 20L4 18.59l7.72-7.72 1.47 1.35L5.41 20z\"/>\n",
              "  </svg>\n",
              "      </button>\n",
              "      \n",
              "  <style>\n",
              "    .colab-df-container {\n",
              "      display:flex;\n",
              "      flex-wrap:wrap;\n",
              "      gap: 12px;\n",
              "    }\n",
              "\n",
              "    .colab-df-convert {\n",
              "      background-color: #E8F0FE;\n",
              "      border: none;\n",
              "      border-radius: 50%;\n",
              "      cursor: pointer;\n",
              "      display: none;\n",
              "      fill: #1967D2;\n",
              "      height: 32px;\n",
              "      padding: 0 0 0 0;\n",
              "      width: 32px;\n",
              "    }\n",
              "\n",
              "    .colab-df-convert:hover {\n",
              "      background-color: #E2EBFA;\n",
              "      box-shadow: 0px 1px 2px rgba(60, 64, 67, 0.3), 0px 1px 3px 1px rgba(60, 64, 67, 0.15);\n",
              "      fill: #174EA6;\n",
              "    }\n",
              "\n",
              "    [theme=dark] .colab-df-convert {\n",
              "      background-color: #3B4455;\n",
              "      fill: #D2E3FC;\n",
              "    }\n",
              "\n",
              "    [theme=dark] .colab-df-convert:hover {\n",
              "      background-color: #434B5C;\n",
              "      box-shadow: 0px 1px 3px 1px rgba(0, 0, 0, 0.15);\n",
              "      filter: drop-shadow(0px 1px 2px rgba(0, 0, 0, 0.3));\n",
              "      fill: #FFFFFF;\n",
              "    }\n",
              "  </style>\n",
              "\n",
              "      <script>\n",
              "        const buttonEl =\n",
              "          document.querySelector('#df-a0e41b21-e090-43c9-8428-f5c5ba5cd22c button.colab-df-convert');\n",
              "        buttonEl.style.display =\n",
              "          google.colab.kernel.accessAllowed ? 'block' : 'none';\n",
              "\n",
              "        async function convertToInteractive(key) {\n",
              "          const element = document.querySelector('#df-a0e41b21-e090-43c9-8428-f5c5ba5cd22c');\n",
              "          const dataTable =\n",
              "            await google.colab.kernel.invokeFunction('convertToInteractive',\n",
              "                                                     [key], {});\n",
              "          if (!dataTable) return;\n",
              "\n",
              "          const docLinkHtml = 'Like what you see? Visit the ' +\n",
              "            '<a target=\"_blank\" href=https://colab.research.google.com/notebooks/data_table.ipynb>data table notebook</a>'\n",
              "            + ' to learn more about interactive tables.';\n",
              "          element.innerHTML = '';\n",
              "          dataTable['output_type'] = 'display_data';\n",
              "          await google.colab.output.renderOutput(dataTable, element);\n",
              "          const docLink = document.createElement('div');\n",
              "          docLink.innerHTML = docLinkHtml;\n",
              "          element.appendChild(docLink);\n",
              "        }\n",
              "      </script>\n",
              "    </div>\n",
              "  </div>\n",
              "  "
            ]
          },
          "metadata": {},
          "execution_count": 18
        }
      ],
      "source": [
        "dataset_item[dataset_item['data_lancamento'].isna()]"
      ]
    },
    {
      "cell_type": "code",
      "execution_count": 19,
      "metadata": {
        "id": "jhaqVlgLRwEk"
      },
      "outputs": [],
      "source": [
        "dataset_item.drop(dataset_item[dataset_item['data_lancamento'].isna()].index, inplace=True)"
      ]
    },
    {
      "cell_type": "code",
      "execution_count": 20,
      "metadata": {
        "id": "lBGv4s-ulhN4"
      },
      "outputs": [],
      "source": [
        "zcdb = ZipCodeDatabase()\n",
        "lista_auxiliar = []\n",
        "for zip_code in dataset_usuarios['cep'].values:\n",
        "    try:\n",
        "        zipcode = zcdb[int(zip_code)]\n",
        "        lista_auxiliar.append(zipcode.state)\n",
        "    except:\n",
        "        lista_auxiliar.append('OUT')\n",
        "dataset_usuarios['estado_usa'] = lista_auxiliar"
      ]
    },
    {
      "cell_type": "code",
      "execution_count": 21,
      "metadata": {
        "id": "ouoOQCCD93Px"
      },
      "outputs": [],
      "source": [
        "dataset_agrupado = dataset[['id_filme', 'avaliacao']].groupby(by='id_filme').agg(['count', 'mean'])['avaliacao'].reset_index()"
      ]
    },
    {
      "cell_type": "code",
      "execution_count": 22,
      "metadata": {
        "id": "bt9ZrkvigIVp",
        "colab": {
          "base_uri": "https://localhost:8080/",
          "height": 429
        },
        "outputId": "8ce6f879-e378-42ba-c104-fcbacec5b318"
      },
      "outputs": [
        {
          "output_type": "display_data",
          "data": {
            "text/plain": [
              "<Figure size 864x432 with 1 Axes>"
            ],
            "image/png": "[encoded data removed]"
          },
          "metadata": {
            "needs_background": "light"
          }
        }
      ],
      "source": [
        "plt.figure(figsize=(12,6))\n",
        "sns.histplot(dataset_agrupado['count'], bins=20, color= '#404040')\n",
        "plt.title('Histograma  da distribuição da quantidade das avaliações', fontsize= 18)\n",
        "plt.xlabel('Quantidade de avaliação recebidas (bins=20)', fontsize= 15)\n",
        "plt.ylabel('Quantidade de filmes que recebem essas avaliações', fontsize= 15)\n",
        "plt.savefig('Histograma_qtr_avaliação.png', dpi=400, bbox_inches='tight')\n",
        "plt.show()"
      ]
    },
    {
      "cell_type": "code",
      "execution_count": 23,
      "metadata": {
        "id": "FxNyc8Txhq3-",
        "colab": {
          "base_uri": "https://localhost:8080/",
          "height": 377
        },
        "outputId": "c891d681-474f-4c6b-e69e-465947575bef"
      },
      "outputs": [
        {
          "output_type": "display_data",
          "data": {
            "text/plain": [
              "<Figure size 576x432 with 1 Axes>"
            ],
            "image/png": "[encoded data removed]"
          },
          "metadata": {
            "needs_background": "light"
          }
        }
      ],
      "source": [
        "plt.figure(figsize=(8,6))\n",
        "sns.boxplot(y= 'count', data= dataset_agrupado)\n",
        "plt.title('Boxplot da distribuição das avaliações', fontsize=18)\n",
        "plt.ylabel('Quantidade de avaliações recebidas', fontsize=15)\n",
        "plt.show()"
      ]
    },
    {
      "cell_type": "code",
      "execution_count": 24,
      "metadata": {
        "id": "g5Z9X1NejG31",
        "colab": {
          "base_uri": "https://localhost:8080/",
          "height": 409
        },
        "outputId": "ba5110c4-de57-4f3d-b23a-9c91ef57dd1e"
      },
      "outputs": [
        {
          "output_type": "display_data",
          "data": {
            "text/plain": [
              "<Figure size 1152x432 with 1 Axes>"
            ],
            "image/png": "[encoded data removed]"
          },
          "metadata": {
            "needs_background": "light"
          }
        }
      ],
      "source": [
        "plt.figure(figsize=(16,6))\n",
        "sns.histplot(dataset_agrupado['mean'], bins=20, kde=True, color= '#404040')\n",
        "plt.title('Histograma da distribuição da media de cada avaliação', fontsize=18)\n",
        "plt.ylabel('Quantidade de filmes que recebem essa media', fontsize=15)\n",
        "plt.xlabel('Media das avaliações recebidas', fontsize=15)\n",
        "plt.savefig('Histograma_media_avaliação.png', dpi=400, bbox_inches='tight')\n",
        "plt.show()"
      ]
    },
    {
      "cell_type": "code",
      "execution_count": 25,
      "metadata": {
        "id": "ERE6aHMClQ4e",
        "colab": {
          "base_uri": "https://localhost:8080/",
          "height": 377
        },
        "outputId": "6284105b-a0e7-4fd3-e8d2-7e2cfb711da7"
      },
      "outputs": [
        {
          "output_type": "display_data",
          "data": {
            "text/plain": [
              "<Figure size 576x432 with 1 Axes>"
            ],
            "image/png": "[encoded data removed]"
          },
          "metadata": {
            "needs_background": "light"
          }
        }
      ],
      "source": [
        "plt.figure(figsize=(8,6))\n",
        "sns.boxplot(y= 'mean', data= dataset_agrupado, color= 'red')\n",
        "plt.title('Boxplot da distribuição da qualidade de avaliações', fontsize=18)\n",
        "plt.ylabel('Quantidade de avaliações recebidas', fontsize= 15)\n",
        "plt.show()"
      ]
    },
    {
      "cell_type": "code",
      "execution_count": 26,
      "metadata": {
        "id": "HDo1iVf4GE2G",
        "colab": {
          "base_uri": "https://localhost:8080/"
        },
        "outputId": "709a758b-fb8d-4ff6-d098-bd3c9d51dd7d"
      },
      "outputs": [
        {
          "output_type": "execute_result",
          "data": {
            "text/plain": [
              "id_filme    841.500000\n",
              "count        27.000000\n",
              "mean          3.161528\n",
              "dtype: float64"
            ]
          },
          "metadata": {},
          "execution_count": 26
        }
      ],
      "source": [
        "dataset_agrupado.median()"
      ]
    },
    {
      "cell_type": "code",
      "execution_count": 27,
      "metadata": {
        "id": "IFsBhMvRYJOq"
      },
      "outputs": [],
      "source": [
        "dataset_agrupado = dataset_agrupado.reset_index().merge(dataset_item, left_on='id_filme', right_on='id_filme', how='left')"
      ]
    },
    {
      "cell_type": "code",
      "execution_count": 28,
      "metadata": {
        "id": "_zb4qSyJOGeF"
      },
      "outputs": [],
      "source": [
        "dataset_agrupado['id_filme'] = dataset_agrupado['id_filme'].astype(str)"
      ]
    },
    {
      "cell_type": "code",
      "execution_count": 29,
      "metadata": {
        "id": "oFjSJ-Oxf30Q"
      },
      "outputs": [],
      "source": [
        "dataset['id_filme'] = dataset['id_filme'].astype(int)"
      ]
    },
    {
      "cell_type": "code",
      "execution_count": 30,
      "metadata": {
        "id": "8Hh9he_gf5L3"
      },
      "outputs": [],
      "source": [
        "dataset_item['id_filme'] = dataset_item['id_filme'].astype(int)"
      ]
    },
    {
      "cell_type": "code",
      "execution_count": 31,
      "metadata": {
        "id": "YjqhcF3Hf8d-"
      },
      "outputs": [],
      "source": [
        "dataset_agrupado['id_filme'] = dataset_agrupado['id_filme'].astype(int)"
      ]
    },
    {
      "cell_type": "code",
      "execution_count": 32,
      "metadata": {
        "id": "esf-_iesGTDz"
      },
      "outputs": [],
      "source": [
        "dataset_agrupado = dataset_agrupado.reset_index().merge(dataset_item, left_on='id_filme', right_on='id_filme', how='left')"
      ]
    },
    {
      "cell_type": "code",
      "execution_count": 33,
      "metadata": {
        "id": "Q1Gdu5i9QP9W",
        "colab": {
          "base_uri": "https://localhost:8080/",
          "height": 363
        },
        "outputId": "8c91f08b-b91c-467e-b0d7-fbc857196a65"
      },
      "outputs": [
        {
          "output_type": "execute_result",
          "data": {
            "text/plain": [
              "                       nome_filme_x  count\n",
              "1128               Star Wars (1977)    583\n",
              "859                  Contact (1997)    509\n",
              "2                      Fargo (1996)    508\n",
              "774       Return of the Jedi (1983)    507\n",
              "899                Liar Liar (1997)    485\n",
              "890     English Patient, The (1996)    481\n",
              "892                   Scream (1996)    478\n",
              "0                  Toy Story (1995)    452\n",
              "907            Air Force One (1997)    431\n",
              "235   Independence Day (ID4) (1996)    429"
            ],
            "text/html": [
              "\n",
              "  <div id=\"df-d501d196-ed78-4083-97ac-7157e98c7c4d\">\n",
              "    <div class=\"colab-df-container\">\n",
              "      <div>\n",
              "<style scoped>\n",
              "    .dataframe tbody tr th:only-of-type {\n",
              "        vertical-align: middle;\n",
              "    }\n",
              "\n",
              "    .dataframe tbody tr th {\n",
              "        vertical-align: top;\n",
              "    }\n",
              "\n",
              "    .dataframe thead th {\n",
              "        text-align: right;\n",
              "    }\n",
              "</style>\n",
              "<table border=\"1\" class=\"dataframe\">\n",
              "  <thead>\n",
              "    <tr style=\"text-align: right;\">\n",
              "      <th></th>\n",
              "      <th>nome_filme_x</th>\n",
              "      <th>count</th>\n",
              "    </tr>\n",
              "  </thead>\n",
              "  <tbody>\n",
              "    <tr>\n",
              "      <th>1128</th>\n",
              "      <td>Star Wars (1977)</td>\n",
              "      <td>583</td>\n",
              "    </tr>\n",
              "    <tr>\n",
              "      <th>859</th>\n",
              "      <td>Contact (1997)</td>\n",
              "      <td>509</td>\n",
              "    </tr>\n",
              "    <tr>\n",
              "      <th>2</th>\n",
              "      <td>Fargo (1996)</td>\n",
              "      <td>508</td>\n",
              "    </tr>\n",
              "    <tr>\n",
              "      <th>774</th>\n",
              "      <td>Return of the Jedi (1983)</td>\n",
              "      <td>507</td>\n",
              "    </tr>\n",
              "    <tr>\n",
              "      <th>899</th>\n",
              "      <td>Liar Liar (1997)</td>\n",
              "      <td>485</td>\n",
              "    </tr>\n",
              "    <tr>\n",
              "      <th>890</th>\n",
              "      <td>English Patient, The (1996)</td>\n",
              "      <td>481</td>\n",
              "    </tr>\n",
              "    <tr>\n",
              "      <th>892</th>\n",
              "      <td>Scream (1996)</td>\n",
              "      <td>478</td>\n",
              "    </tr>\n",
              "    <tr>\n",
              "      <th>0</th>\n",
              "      <td>Toy Story (1995)</td>\n",
              "      <td>452</td>\n",
              "    </tr>\n",
              "    <tr>\n",
              "      <th>907</th>\n",
              "      <td>Air Force One (1997)</td>\n",
              "      <td>431</td>\n",
              "    </tr>\n",
              "    <tr>\n",
              "      <th>235</th>\n",
              "      <td>Independence Day (ID4) (1996)</td>\n",
              "      <td>429</td>\n",
              "    </tr>\n",
              "  </tbody>\n",
              "</table>\n",
              "</div>\n",
              "      <button class=\"colab-df-convert\" onclick=\"convertToInteractive('df-d501d196-ed78-4083-97ac-7157e98c7c4d')\"\n",
              "              title=\"Convert this dataframe to an interactive table.\"\n",
              "              style=\"display:none;\">\n",
              "        \n",
              "  <svg xmlns=\"http://www.w3.org/2000/svg\" height=\"24px\"viewBox=\"0 0 24 24\"\n",
              "       width=\"24px\">\n",
              "    <path d=\"M0 0h24v24H0V0z\" fill=\"none\"/>\n",
              "    <path d=\"M18.56 5.44l.94 2.06.94-2.06 2.06-.94-2.06-.94-.94-2.06-.94 2.06-2.06.94zm-11 1L8.5 8.5l.94-2.06 2.06-.94-2.06-.94L8.5 2.5l-.94 2.06-2.06.94zm10 10l.94 2.06.94-2.06 2.06-.94-2.06-.94-.94-2.06-.94 2.06-2.06.94z\"/><path d=\"M17.41 7.96l-1.37-1.37c-.4-.4-.92-.59-1.43-.59-.52 0-1.04.2-1.43.59L10.3 9.45l-7.72 7.72c-.78.78-.78 2.05 0 2.83L4 21.41c.39.39.9.59 1.41.59.51 0 1.02-.2 1.41-.59l7.78-7.78 2.81-2.81c.8-.78.8-2.07 0-2.86zM5.41 20L4 18.59l7.72-7.72 1.47 1.35L5.41 20z\"/>\n",
              "  </svg>\n",
              "      </button>\n",
              "      \n",
              "  <style>\n",
              "    .colab-df-container {\n",
              "      display:flex;\n",
              "      flex-wrap:wrap;\n",
              "      gap: 12px;\n",
              "    }\n",
              "\n",
              "    .colab-df-convert {\n",
              "      background-color: #E8F0FE;\n",
              "      border: none;\n",
              "      border-radius: 50%;\n",
              "      cursor: pointer;\n",
              "      display: none;\n",
              "      fill: #1967D2;\n",
              "      height: 32px;\n",
              "      padding: 0 0 0 0;\n",
              "      width: 32px;\n",
              "    }\n",
              "\n",
              "    .colab-df-convert:hover {\n",
              "      background-color: #E2EBFA;\n",
              "      box-shadow: 0px 1px 2px rgba(60, 64, 67, 0.3), 0px 1px 3px 1px rgba(60, 64, 67, 0.15);\n",
              "      fill: #174EA6;\n",
              "    }\n",
              "\n",
              "    [theme=dark] .colab-df-convert {\n",
              "      background-color: #3B4455;\n",
              "      fill: #D2E3FC;\n",
              "    }\n",
              "\n",
              "    [theme=dark] .colab-df-convert:hover {\n",
              "      background-color: #434B5C;\n",
              "      box-shadow: 0px 1px 3px 1px rgba(0, 0, 0, 0.15);\n",
              "      filter: drop-shadow(0px 1px 2px rgba(0, 0, 0, 0.3));\n",
              "      fill: #FFFFFF;\n",
              "    }\n",
              "  </style>\n",
              "\n",
              "      <script>\n",
              "        const buttonEl =\n",
              "          document.querySelector('#df-d501d196-ed78-4083-97ac-7157e98c7c4d button.colab-df-convert');\n",
              "        buttonEl.style.display =\n",
              "          google.colab.kernel.accessAllowed ? 'block' : 'none';\n",
              "\n",
              "        async function convertToInteractive(key) {\n",
              "          const element = document.querySelector('#df-d501d196-ed78-4083-97ac-7157e98c7c4d');\n",
              "          const dataTable =\n",
              "            await google.colab.kernel.invokeFunction('convertToInteractive',\n",
              "                                                     [key], {});\n",
              "          if (!dataTable) return;\n",
              "\n",
              "          const docLinkHtml = 'Like what you see? Visit the ' +\n",
              "            '<a target=\"_blank\" href=https://colab.research.google.com/notebooks/data_table.ipynb>data table notebook</a>'\n",
              "            + ' to learn more about interactive tables.';\n",
              "          element.innerHTML = '';\n",
              "          dataTable['output_type'] = 'display_data';\n",
              "          await google.colab.output.renderOutput(dataTable, element);\n",
              "          const docLink = document.createElement('div');\n",
              "          docLink.innerHTML = docLinkHtml;\n",
              "          element.appendChild(docLink);\n",
              "        }\n",
              "      </script>\n",
              "    </div>\n",
              "  </div>\n",
              "  "
            ]
          },
          "metadata": {},
          "execution_count": 33
        }
      ],
      "source": [
        "dataset_agrupado[['nome_filme_x', 'count']].sort_values(by='count', ascending=False).head(10)"
      ]
    },
    {
      "cell_type": "code",
      "execution_count": 34,
      "metadata": {
        "id": "je0ACtEkipFi",
        "colab": {
          "base_uri": "https://localhost:8080/",
          "height": 363
        },
        "outputId": "a312094f-c764-4515-f46b-e707262d9735"
      },
      "outputs": [
        {
          "output_type": "execute_result",
          "data": {
            "text/plain": [
              "                                           nome_filme_x      mean  count\n",
              "1026                              Close Shave, A (1995)  4.491071    112\n",
              "926                             Schindler's List (1993)  4.466443    298\n",
              "760                          Wrong Trousers, The (1993)  4.466102    118\n",
              "1109                                  Casablanca (1942)  4.456790    243\n",
              "157   Wallace & Gromit: The Best of Aardman Animatio...  4.447761     67\n",
              "1283                   Shawshank Redemption, The (1994)  4.445230    283\n",
              "1243                                 Rear Window (1954)  4.387560    209\n",
              "223                          Usual Suspects, The (1995)  4.385768    267\n",
              "1128                                   Star Wars (1977)  4.358491    583\n",
              "770                                 12 Angry Men (1957)  4.344000    125"
            ],
            "text/html": [
              "\n",
              "  <div id=\"df-feeb5389-001f-48de-9ce0-ba312399db2d\">\n",
              "    <div class=\"colab-df-container\">\n",
              "      <div>\n",
              "<style scoped>\n",
              "    .dataframe tbody tr th:only-of-type {\n",
              "        vertical-align: middle;\n",
              "    }\n",
              "\n",
              "    .dataframe tbody tr th {\n",
              "        vertical-align: top;\n",
              "    }\n",
              "\n",
              "    .dataframe thead th {\n",
              "        text-align: right;\n",
              "    }\n",
              "</style>\n",
              "<table border=\"1\" class=\"dataframe\">\n",
              "  <thead>\n",
              "    <tr style=\"text-align: right;\">\n",
              "      <th></th>\n",
              "      <th>nome_filme_x</th>\n",
              "      <th>mean</th>\n",
              "      <th>count</th>\n",
              "    </tr>\n",
              "  </thead>\n",
              "  <tbody>\n",
              "    <tr>\n",
              "      <th>1026</th>\n",
              "      <td>Close Shave, A (1995)</td>\n",
              "      <td>4.491071</td>\n",
              "      <td>112</td>\n",
              "    </tr>\n",
              "    <tr>\n",
              "      <th>926</th>\n",
              "      <td>Schindler's List (1993)</td>\n",
              "      <td>4.466443</td>\n",
              "      <td>298</td>\n",
              "    </tr>\n",
              "    <tr>\n",
              "      <th>760</th>\n",
              "      <td>Wrong Trousers, The (1993)</td>\n",
              "      <td>4.466102</td>\n",
              "      <td>118</td>\n",
              "    </tr>\n",
              "    <tr>\n",
              "      <th>1109</th>\n",
              "      <td>Casablanca (1942)</td>\n",
              "      <td>4.456790</td>\n",
              "      <td>243</td>\n",
              "    </tr>\n",
              "    <tr>\n",
              "      <th>157</th>\n",
              "      <td>Wallace &amp; Gromit: The Best of Aardman Animatio...</td>\n",
              "      <td>4.447761</td>\n",
              "      <td>67</td>\n",
              "    </tr>\n",
              "    <tr>\n",
              "      <th>1283</th>\n",
              "      <td>Shawshank Redemption, The (1994)</td>\n",
              "      <td>4.445230</td>\n",
              "      <td>283</td>\n",
              "    </tr>\n",
              "    <tr>\n",
              "      <th>1243</th>\n",
              "      <td>Rear Window (1954)</td>\n",
              "      <td>4.387560</td>\n",
              "      <td>209</td>\n",
              "    </tr>\n",
              "    <tr>\n",
              "      <th>223</th>\n",
              "      <td>Usual Suspects, The (1995)</td>\n",
              "      <td>4.385768</td>\n",
              "      <td>267</td>\n",
              "    </tr>\n",
              "    <tr>\n",
              "      <th>1128</th>\n",
              "      <td>Star Wars (1977)</td>\n",
              "      <td>4.358491</td>\n",
              "      <td>583</td>\n",
              "    </tr>\n",
              "    <tr>\n",
              "      <th>770</th>\n",
              "      <td>12 Angry Men (1957)</td>\n",
              "      <td>4.344000</td>\n",
              "      <td>125</td>\n",
              "    </tr>\n",
              "  </tbody>\n",
              "</table>\n",
              "</div>\n",
              "      <button class=\"colab-df-convert\" onclick=\"convertToInteractive('df-feeb5389-001f-48de-9ce0-ba312399db2d')\"\n",
              "              title=\"Convert this dataframe to an interactive table.\"\n",
              "              style=\"display:none;\">\n",
              "        \n",
              "  <svg xmlns=\"http://www.w3.org/2000/svg\" height=\"24px\"viewBox=\"0 0 24 24\"\n",
              "       width=\"24px\">\n",
              "    <path d=\"M0 0h24v24H0V0z\" fill=\"none\"/>\n",
              "    <path d=\"M18.56 5.44l.94 2.06.94-2.06 2.06-.94-2.06-.94-.94-2.06-.94 2.06-2.06.94zm-11 1L8.5 8.5l.94-2.06 2.06-.94-2.06-.94L8.5 2.5l-.94 2.06-2.06.94zm10 10l.94 2.06.94-2.06 2.06-.94-2.06-.94-.94-2.06-.94 2.06-2.06.94z\"/><path d=\"M17.41 7.96l-1.37-1.37c-.4-.4-.92-.59-1.43-.59-.52 0-1.04.2-1.43.59L10.3 9.45l-7.72 7.72c-.78.78-.78 2.05 0 2.83L4 21.41c.39.39.9.59 1.41.59.51 0 1.02-.2 1.41-.59l7.78-7.78 2.81-2.81c.8-.78.8-2.07 0-2.86zM5.41 20L4 18.59l7.72-7.72 1.47 1.35L5.41 20z\"/>\n",
              "  </svg>\n",
              "      </button>\n",
              "      \n",
              "  <style>\n",
              "    .colab-df-container {\n",
              "      display:flex;\n",
              "      flex-wrap:wrap;\n",
              "      gap: 12px;\n",
              "    }\n",
              "\n",
              "    .colab-df-convert {\n",
              "      background-color: #E8F0FE;\n",
              "      border: none;\n",
              "      border-radius: 50%;\n",
              "      cursor: pointer;\n",
              "      display: none;\n",
              "      fill: #1967D2;\n",
              "      height: 32px;\n",
              "      padding: 0 0 0 0;\n",
              "      width: 32px;\n",
              "    }\n",
              "\n",
              "    .colab-df-convert:hover {\n",
              "      background-color: #E2EBFA;\n",
              "      box-shadow: 0px 1px 2px rgba(60, 64, 67, 0.3), 0px 1px 3px 1px rgba(60, 64, 67, 0.15);\n",
              "      fill: #174EA6;\n",
              "    }\n",
              "\n",
              "    [theme=dark] .colab-df-convert {\n",
              "      background-color: #3B4455;\n",
              "      fill: #D2E3FC;\n",
              "    }\n",
              "\n",
              "    [theme=dark] .colab-df-convert:hover {\n",
              "      background-color: #434B5C;\n",
              "      box-shadow: 0px 1px 3px 1px rgba(0, 0, 0, 0.15);\n",
              "      filter: drop-shadow(0px 1px 2px rgba(0, 0, 0, 0.3));\n",
              "      fill: #FFFFFF;\n",
              "    }\n",
              "  </style>\n",
              "\n",
              "      <script>\n",
              "        const buttonEl =\n",
              "          document.querySelector('#df-feeb5389-001f-48de-9ce0-ba312399db2d button.colab-df-convert');\n",
              "        buttonEl.style.display =\n",
              "          google.colab.kernel.accessAllowed ? 'block' : 'none';\n",
              "\n",
              "        async function convertToInteractive(key) {\n",
              "          const element = document.querySelector('#df-feeb5389-001f-48de-9ce0-ba312399db2d');\n",
              "          const dataTable =\n",
              "            await google.colab.kernel.invokeFunction('convertToInteractive',\n",
              "                                                     [key], {});\n",
              "          if (!dataTable) return;\n",
              "\n",
              "          const docLinkHtml = 'Like what you see? Visit the ' +\n",
              "            '<a target=\"_blank\" href=https://colab.research.google.com/notebooks/data_table.ipynb>data table notebook</a>'\n",
              "            + ' to learn more about interactive tables.';\n",
              "          element.innerHTML = '';\n",
              "          dataTable['output_type'] = 'display_data';\n",
              "          await google.colab.output.renderOutput(dataTable, element);\n",
              "          const docLink = document.createElement('div');\n",
              "          docLink.innerHTML = docLinkHtml;\n",
              "          element.appendChild(docLink);\n",
              "        }\n",
              "      </script>\n",
              "    </div>\n",
              "  </div>\n",
              "  "
            ]
          },
          "metadata": {},
          "execution_count": 34
        }
      ],
      "source": [
        "dataset_agrupado[dataset_agrupado['count']> 50][['nome_filme_x', 'mean', 'count']].sort_values(by='mean', ascending=False).head(10)"
      ]
    },
    {
      "cell_type": "code",
      "execution_count": 35,
      "metadata": {
        "id": "dZmzuaWOjkys",
        "colab": {
          "base_uri": "https://localhost:8080/",
          "height": 408
        },
        "outputId": "3cb39c43-aaea-4ec1-9467-770afd64ca70"
      },
      "outputs": [
        {
          "output_type": "display_data",
          "data": {
            "text/plain": [
              "<Figure size 576x432 with 1 Axes>"
            ],
            "image/png": "[encoded data removed]"
          },
          "metadata": {
            "needs_background": "light"
          }
        }
      ],
      "source": [
        "plt.figure(figsize=(8,6))\n",
        "sns.scatterplot(x='mean', y='count', data= dataset_agrupado, alpha=0.5, color='#404040')\n",
        "plt.title('Scatterplot da correção entre quantidade e qualidade de avaliações', fontsize=18)\n",
        "plt.ylabel('Media das avaliações', fontsize=15)\n",
        "plt.ylabel('Quantidade de avaliações', fontsize=15)\n",
        "plt.savefig('cor_qrt_media.png', dpi=400, bbox_inches='tight')\n",
        "plt.show()"
      ]
    },
    {
      "cell_type": "code",
      "execution_count": 36,
      "metadata": {
        "id": "bedDgUP7leah",
        "colab": {
          "base_uri": "https://localhost:8080/",
          "height": 112
        },
        "outputId": "2c050e54-77c2-4083-f0ce-77ae6bb33e78"
      },
      "outputs": [
        {
          "output_type": "execute_result",
          "data": {
            "text/plain": [
              "           mean     count\n",
              "mean   1.000000  0.429659\n",
              "count  0.429659  1.000000"
            ],
            "text/html": [
              "\n",
              "  <div id=\"df-dd6634d5-eeeb-4d3c-aad7-fed6ee0f871a\">\n",
              "    <div class=\"colab-df-container\">\n",
              "      <div>\n",
              "<style scoped>\n",
              "    .dataframe tbody tr th:only-of-type {\n",
              "        vertical-align: middle;\n",
              "    }\n",
              "\n",
              "    .dataframe tbody tr th {\n",
              "        vertical-align: top;\n",
              "    }\n",
              "\n",
              "    .dataframe thead th {\n",
              "        text-align: right;\n",
              "    }\n",
              "</style>\n",
              "<table border=\"1\" class=\"dataframe\">\n",
              "  <thead>\n",
              "    <tr style=\"text-align: right;\">\n",
              "      <th></th>\n",
              "      <th>mean</th>\n",
              "      <th>count</th>\n",
              "    </tr>\n",
              "  </thead>\n",
              "  <tbody>\n",
              "    <tr>\n",
              "      <th>mean</th>\n",
              "      <td>1.000000</td>\n",
              "      <td>0.429659</td>\n",
              "    </tr>\n",
              "    <tr>\n",
              "      <th>count</th>\n",
              "      <td>0.429659</td>\n",
              "      <td>1.000000</td>\n",
              "    </tr>\n",
              "  </tbody>\n",
              "</table>\n",
              "</div>\n",
              "      <button class=\"colab-df-convert\" onclick=\"convertToInteractive('df-dd6634d5-eeeb-4d3c-aad7-fed6ee0f871a')\"\n",
              "              title=\"Convert this dataframe to an interactive table.\"\n",
              "              style=\"display:none;\">\n",
              "        \n",
              "  <svg xmlns=\"http://www.w3.org/2000/svg\" height=\"24px\"viewBox=\"0 0 24 24\"\n",
              "       width=\"24px\">\n",
              "    <path d=\"M0 0h24v24H0V0z\" fill=\"none\"/>\n",
              "    <path d=\"M18.56 5.44l.94 2.06.94-2.06 2.06-.94-2.06-.94-.94-2.06-.94 2.06-2.06.94zm-11 1L8.5 8.5l.94-2.06 2.06-.94-2.06-.94L8.5 2.5l-.94 2.06-2.06.94zm10 10l.94 2.06.94-2.06 2.06-.94-2.06-.94-.94-2.06-.94 2.06-2.06.94z\"/><path d=\"M17.41 7.96l-1.37-1.37c-.4-.4-.92-.59-1.43-.59-.52 0-1.04.2-1.43.59L10.3 9.45l-7.72 7.72c-.78.78-.78 2.05 0 2.83L4 21.41c.39.39.9.59 1.41.59.51 0 1.02-.2 1.41-.59l7.78-7.78 2.81-2.81c.8-.78.8-2.07 0-2.86zM5.41 20L4 18.59l7.72-7.72 1.47 1.35L5.41 20z\"/>\n",
              "  </svg>\n",
              "      </button>\n",
              "      \n",
              "  <style>\n",
              "    .colab-df-container {\n",
              "      display:flex;\n",
              "      flex-wrap:wrap;\n",
              "      gap: 12px;\n",
              "    }\n",
              "\n",
              "    .colab-df-convert {\n",
              "      background-color: #E8F0FE;\n",
              "      border: none;\n",
              "      border-radius: 50%;\n",
              "      cursor: pointer;\n",
              "      display: none;\n",
              "      fill: #1967D2;\n",
              "      height: 32px;\n",
              "      padding: 0 0 0 0;\n",
              "      width: 32px;\n",
              "    }\n",
              "\n",
              "    .colab-df-convert:hover {\n",
              "      background-color: #E2EBFA;\n",
              "      box-shadow: 0px 1px 2px rgba(60, 64, 67, 0.3), 0px 1px 3px 1px rgba(60, 64, 67, 0.15);\n",
              "      fill: #174EA6;\n",
              "    }\n",
              "\n",
              "    [theme=dark] .colab-df-convert {\n",
              "      background-color: #3B4455;\n",
              "      fill: #D2E3FC;\n",
              "    }\n",
              "\n",
              "    [theme=dark] .colab-df-convert:hover {\n",
              "      background-color: #434B5C;\n",
              "      box-shadow: 0px 1px 3px 1px rgba(0, 0, 0, 0.15);\n",
              "      filter: drop-shadow(0px 1px 2px rgba(0, 0, 0, 0.3));\n",
              "      fill: #FFFFFF;\n",
              "    }\n",
              "  </style>\n",
              "\n",
              "      <script>\n",
              "        const buttonEl =\n",
              "          document.querySelector('#df-dd6634d5-eeeb-4d3c-aad7-fed6ee0f871a button.colab-df-convert');\n",
              "        buttonEl.style.display =\n",
              "          google.colab.kernel.accessAllowed ? 'block' : 'none';\n",
              "\n",
              "        async function convertToInteractive(key) {\n",
              "          const element = document.querySelector('#df-dd6634d5-eeeb-4d3c-aad7-fed6ee0f871a');\n",
              "          const dataTable =\n",
              "            await google.colab.kernel.invokeFunction('convertToInteractive',\n",
              "                                                     [key], {});\n",
              "          if (!dataTable) return;\n",
              "\n",
              "          const docLinkHtml = 'Like what you see? Visit the ' +\n",
              "            '<a target=\"_blank\" href=https://colab.research.google.com/notebooks/data_table.ipynb>data table notebook</a>'\n",
              "            + ' to learn more about interactive tables.';\n",
              "          element.innerHTML = '';\n",
              "          dataTable['output_type'] = 'display_data';\n",
              "          await google.colab.output.renderOutput(dataTable, element);\n",
              "          const docLink = document.createElement('div');\n",
              "          docLink.innerHTML = docLinkHtml;\n",
              "          element.appendChild(docLink);\n",
              "        }\n",
              "      </script>\n",
              "    </div>\n",
              "  </div>\n",
              "  "
            ]
          },
          "metadata": {},
          "execution_count": 36
        }
      ],
      "source": [
        "dataset_agrupado[['mean', 'count']].corr()"
      ]
    },
    {
      "cell_type": "code",
      "execution_count": 37,
      "metadata": {
        "id": "UZ38Chhzlsy8"
      },
      "outputs": [],
      "source": [
        "cols = dataset_agrupado.columns[6: ]\n",
        "dict_cols = {coluna:0 for coluna in cols}\n",
        "for i in dataset_agrupado.index:\n",
        "  for coluna in cols:\n",
        "    if(dataset_agrupado.iloc[i][coluna] == 1):\n",
        "      dict_cols[coluna] += dataset_agrupado.iloc[i]['count']\n",
        "dict_cols = {k: v for k,v in sorted(dict_cols.items(), key=lambda item: item[1], reverse=True)}"
      ]
    },
    {
      "cell_type": "code",
      "execution_count": 38,
      "metadata": {
        "id": "eqDkracOnxSk",
        "colab": {
          "base_uri": "https://localhost:8080/",
          "height": 522
        },
        "outputId": "71484c16-3959-4e81-90f1-1539a1de6585"
      },
      "outputs": [
        {
          "output_type": "display_data",
          "data": {
            "text/plain": [
              "<Figure size 864x576 with 1 Axes>"
            ],
            "image/png": "[encoded data removed]"
          },
          "metadata": {
            "needs_background": "light"
          }
        }
      ],
      "source": [
        "plt.figure(figsize=(12,8))\n",
        "plt.title('Temas que mais recebem avaliações na base de dados', fontsize=18)\n",
        "plt.ylabel('Temas', fontsize=15)\n",
        "plt.xlabel('Quantidade de avaliações', fontsize=15)\n",
        "sns.set(style='darkgrid')\n",
        "ax = sns.barplot(x=list(dict_cols.values()), y=list(dict_cols.keys()), color='#404040')"
      ]
    },
    {
      "cell_type": "code",
      "execution_count": 39,
      "metadata": {
        "id": "KP96vdNcpjPF",
        "colab": {
          "base_uri": "https://localhost:8080/",
          "height": 407
        },
        "outputId": "8eb4efc8-dc78-4541-e097-0620788f374e"
      },
      "outputs": [
        {
          "output_type": "display_data",
          "data": {
            "text/plain": [
              "<Figure size 1440x576 with 1 Axes>"
            ],
            "image/png": "[encoded data removed]"
          },
          "metadata": {}
        }
      ],
      "source": [
        "dataset_item['year'] = dataset_item['data_lancamento'].str[4:]\n",
        "g = dataset_item[['year', 'id_filme']].groupby(by='year').count().to_dict()\n",
        "g = g['id_filme']\n",
        "fig, ax = plt.subplots(figsize=(20,8))\n",
        "x = list(g.keys())[::-1]\n",
        "y = list(g.values())[::-1]\n",
        "ax.vlines(x, ymin=0, ymax=y, color='#404040')\n",
        "ax.plot(x,y, 'o', color='#404040')\n",
        "ax.set_ylabel('Quantidade de filmes lançados no ano', fontsize=15)\n",
        "ax.set_title('Lollipop da quantidade de fimes lançados por ano', fontsize=18)\n",
        "plt.savefig('Lollipop_qtr_ano.png', dpi=400, bbox_inches='tight')\n",
        "plt.show()"
      ]
    },
    {
      "cell_type": "code",
      "execution_count": 40,
      "metadata": {
        "id": "vjvaI5cTrFig",
        "colab": {
          "base_uri": "https://localhost:8080/",
          "height": 287
        },
        "outputId": "e309782e-e218-4b5c-cc4c-124f194b1576"
      },
      "outputs": [
        {
          "output_type": "display_data",
          "data": {
            "text/plain": [
              "<Figure size 864x1008 with 1 Axes>"
            ],
            "image/png": "[encoded data removed]"
          },
          "metadata": {}
        }
      ],
      "source": [
        "dict_cols = dataset_usuarios.groupby(by='estado_usa').count().to_dict()['id_usuario']\n",
        "dict_cols = {k: v for k, v in sorted(dict_cols.items(), key=lambda item: item[1], reverse=True)}\n",
        "plt.figure(figsize=(12,14))\n",
        "plt.title('Estados que mais realizam avaliações na base de dados', fontsize=18)\n",
        "plt.ylabel('Estados', fontsize=15)\n",
        "plt.xlabel('Quantidade de avaliações', fontsize=15)\n",
        "sns.set(style='darkgrid')\n",
        "ax = sns.barplot(x=list(dict_cols.values()), y=list(dict_cols.keys()), color='#404040')\n",
        "for p in ax.patches:\n",
        "  ax.annotate(format(p.get_width(), '.0f'),\n",
        "                (p.get_width() + 400, (p.get_height()) + p.get_y()),\n",
        "                ha = 'center', va= 'center',\n",
        "                xytext = (0, 9),\n",
        "                textcoords = 'offset points')\n",
        "plt.savefig('estados_avaliadores.png', dpi=400, bbox_inches='tight')\n",
        "plt.show()"
      ]
    },
    {
      "cell_type": "code",
      "execution_count": 41,
      "metadata": {
        "id": "BMMG1wtdmmag",
        "colab": {
          "base_uri": "https://localhost:8080/",
          "height": 189
        },
        "outputId": "3c024059-135e-4c35-ef56-f24e0ee45f39"
      },
      "outputs": [
        {
          "output_type": "display_data",
          "data": {
            "text/plain": [
              "<Figure size 432x288 with 1 Axes>"
            ],
            "image/png": "[encoded data removed]"
          },
          "metadata": {}
        }
      ],
      "source": [
        "dict_cols = dataset_usuarios.groupby(by='profissao').count().to_dict()['id_usuario']\n",
        "dict_cols = {k: v for k, v in sorted(dict_cols.items(), key=lambda item: item[1], reverse=True)}\n",
        "plt.title('Profissões que  mais realizam avaliações na base de dados', fontsize=18)\n",
        "plt.ylabel('Profissões', fontsize=15)\n",
        "plt.xlabel('Quantidade de avaliações', fontsize=15)\n",
        "sns.set(style='darkgrid')\n",
        "ax = sns.barplot(x=list(dict_cols.values()), y=list(dict_cols.keys()), color='#404040')\n",
        "for p in ax.patches:\n",
        "  ax.annotate(format(p.get_width(), '.0f'),\n",
        "                (p.get_width() + 700, (p.get_height()) +p.get_y()),\n",
        "                ha = 'center', va = 'center',\n",
        "                xytext = (0, 9),\n",
        "                textcoords = 'offset points')\n",
        "plt.savefig('profissão_avaliadores.png', dpi=400, bbox_inches= 'tight')\n",
        "plt.show()"
      ]
    },
    {
      "cell_type": "code",
      "execution_count": 42,
      "metadata": {
        "id": "i0XOjty1pnME"
      },
      "outputs": [],
      "source": [
        "if (1==1): \n",
        "  dataset = dataset.sample(frac=1, random_state=42)\n",
        "  dataset_aux = pd.DataFrame(columns=dataset.columns)\n",
        "  dataset_test = pd.DataFrame(columns=dataset.columns)\n",
        "  dataset_train = pd.DataFrame(columns=dataset.columns)\n",
        "\n",
        "  dataset_contagem = pd.DataFrame(dataset.groupby(by=['id_usuario']).count()['id_filme']).reset_index()\n",
        "  dataset_contagem.head()\n",
        "\n",
        "  for i, rowi in dataset_contagem.iterrows():\n",
        "    num_avals = rowi['id_filme']\n",
        "    test_size = round(num_avals*0.3)\n",
        "\n",
        "    if test_size >= 10:\n",
        "      dataset_test = dataset_test.append(dataset[dataset['id_usuario']==rowi['id_usuario']].iloc[:test_size])\n",
        "      dataset_train = dataset_train.append(dataset[dataset['id_usuario']==rowi['id_usuario']].iloc[test_size:])\n",
        "\n",
        "  dataset_train['idade'] = dataset_train.idade.astype(int)\n",
        "  dataset_train['avaliacao'] = dataset_train.avaliacao.astype(int)\n",
        "else:\n",
        "  dataset_train, dataset_test = train_test_split(dataset, test_size=0.30, random_state=42)"
      ]
    },
    {
      "cell_type": "code",
      "execution_count": 43,
      "metadata": {
        "id": "-UamrtEDQqWf",
        "colab": {
          "base_uri": "https://localhost:8080/"
        },
        "outputId": "ad903f54-ef42-4238-ecd5-5ffe24885fce"
      },
      "outputs": [
        {
          "output_type": "execute_result",
          "data": {
            "text/plain": [
              "94601"
            ]
          },
          "metadata": {},
          "execution_count": 43
        }
      ],
      "source": [
        "dataset_train.shape[0] + dataset_test.shape[0]"
      ]
    },
    {
      "cell_type": "code",
      "execution_count": 44,
      "metadata": {
        "id": "nO9XhNItS7P2"
      },
      "outputs": [],
      "source": [
        "def wr_imdb(dataframe, nome_coluna_avaliacoes='avaliacao', nome_coluna_id_filme='id_filme', percentil_minimo_avaliacoes=0.9):  \n",
        "  dataframe_auxiliar = dataframe[[nome_coluna_id_filme,nome_coluna_avaliacoes]].groupby(by=nome_coluna_id_filme).agg(['count','mean'])[nome_coluna_avaliacoes].reset_index()\n",
        "    \n",
        "  C = dataframe[nome_coluna_avaliacoes].mean()\n",
        "  m = dataframe_auxiliar['count'].quantile(percentil_minimo_avaliacoes)\n",
        "    \n",
        "  lista_auxiliar = []\n",
        "  for i in dataframe_auxiliar.index:\n",
        "      if (dataframe_auxiliar.iloc[i]['count'] < m):\n",
        "          lista_auxiliar.append(1)\n",
        "      else:\n",
        "          R = dataframe_auxiliar.iloc[i]['mean']\n",
        "          v = dataframe_auxiliar.iloc[i]['count']\n",
        "          lista_auxiliar.append( ( R*v + C*m ) / (v+m) )\n",
        "    \n",
        "  dataframe_auxiliar['popularidade'] = lista_auxiliar\n",
        "    \n",
        "  return dataframe_auxiliar[[nome_coluna_id_filme,'popularidade']].copy()    "
      ]
    },
    {
      "cell_type": "code",
      "execution_count": 45,
      "metadata": {
        "id": "NYuXbnzQWJqv"
      },
      "outputs": [],
      "source": [
        "dataset_resultado_popularidade = wr_imdb(dataset_train)\n"
      ]
    },
    {
      "cell_type": "code",
      "execution_count": 46,
      "metadata": {
        "id": "e1y0YUFKfFZ8",
        "colab": {
          "base_uri": "https://localhost:8080/",
          "height": 363
        },
        "outputId": "af0e51df-05b9-455c-ad62-f4a1b33e33cd"
      },
      "outputs": [
        {
          "output_type": "execute_result",
          "data": {
            "text/plain": [
              "     id_filme  popularidade                        nome_filme\n",
              "49         50      4.188636                  Star Wars (1977)\n",
              "317       318      4.136216           Schindler's List (1993)\n",
              "63         64      4.107815  Shawshank Redemption, The (1994)\n",
              "482       483      4.084330                 Casablanca (1942)\n",
              "126       127      4.079559             Godfather, The (1972)\n",
              "97         98      4.076002  Silence of the Lambs, The (1991)\n",
              "11         12      4.061401        Usual Suspects, The (1995)\n",
              "173       174      4.046815    Raiders of the Lost Ark (1981)\n",
              "601       603      3.992505                Rear Window (1954)\n",
              "171       172      3.991765   Empire Strikes Back, The (1980)"
            ],
            "text/html": [
              "\n",
              "  <div id=\"df-3c31e6d1-f738-4b3a-9c21-e89a7d8f6696\">\n",
              "    <div class=\"colab-df-container\">\n",
              "      <div>\n",
              "<style scoped>\n",
              "    .dataframe tbody tr th:only-of-type {\n",
              "        vertical-align: middle;\n",
              "    }\n",
              "\n",
              "    .dataframe tbody tr th {\n",
              "        vertical-align: top;\n",
              "    }\n",
              "\n",
              "    .dataframe thead th {\n",
              "        text-align: right;\n",
              "    }\n",
              "</style>\n",
              "<table border=\"1\" class=\"dataframe\">\n",
              "  <thead>\n",
              "    <tr style=\"text-align: right;\">\n",
              "      <th></th>\n",
              "      <th>id_filme</th>\n",
              "      <th>popularidade</th>\n",
              "      <th>nome_filme</th>\n",
              "    </tr>\n",
              "  </thead>\n",
              "  <tbody>\n",
              "    <tr>\n",
              "      <th>49</th>\n",
              "      <td>50</td>\n",
              "      <td>4.188636</td>\n",
              "      <td>Star Wars (1977)</td>\n",
              "    </tr>\n",
              "    <tr>\n",
              "      <th>317</th>\n",
              "      <td>318</td>\n",
              "      <td>4.136216</td>\n",
              "      <td>Schindler's List (1993)</td>\n",
              "    </tr>\n",
              "    <tr>\n",
              "      <th>63</th>\n",
              "      <td>64</td>\n",
              "      <td>4.107815</td>\n",
              "      <td>Shawshank Redemption, The (1994)</td>\n",
              "    </tr>\n",
              "    <tr>\n",
              "      <th>482</th>\n",
              "      <td>483</td>\n",
              "      <td>4.084330</td>\n",
              "      <td>Casablanca (1942)</td>\n",
              "    </tr>\n",
              "    <tr>\n",
              "      <th>126</th>\n",
              "      <td>127</td>\n",
              "      <td>4.079559</td>\n",
              "      <td>Godfather, The (1972)</td>\n",
              "    </tr>\n",
              "    <tr>\n",
              "      <th>97</th>\n",
              "      <td>98</td>\n",
              "      <td>4.076002</td>\n",
              "      <td>Silence of the Lambs, The (1991)</td>\n",
              "    </tr>\n",
              "    <tr>\n",
              "      <th>11</th>\n",
              "      <td>12</td>\n",
              "      <td>4.061401</td>\n",
              "      <td>Usual Suspects, The (1995)</td>\n",
              "    </tr>\n",
              "    <tr>\n",
              "      <th>173</th>\n",
              "      <td>174</td>\n",
              "      <td>4.046815</td>\n",
              "      <td>Raiders of the Lost Ark (1981)</td>\n",
              "    </tr>\n",
              "    <tr>\n",
              "      <th>601</th>\n",
              "      <td>603</td>\n",
              "      <td>3.992505</td>\n",
              "      <td>Rear Window (1954)</td>\n",
              "    </tr>\n",
              "    <tr>\n",
              "      <th>171</th>\n",
              "      <td>172</td>\n",
              "      <td>3.991765</td>\n",
              "      <td>Empire Strikes Back, The (1980)</td>\n",
              "    </tr>\n",
              "  </tbody>\n",
              "</table>\n",
              "</div>\n",
              "      <button class=\"colab-df-convert\" onclick=\"convertToInteractive('df-3c31e6d1-f738-4b3a-9c21-e89a7d8f6696')\"\n",
              "              title=\"Convert this dataframe to an interactive table.\"\n",
              "              style=\"display:none;\">\n",
              "        \n",
              "  <svg xmlns=\"http://www.w3.org/2000/svg\" height=\"24px\"viewBox=\"0 0 24 24\"\n",
              "       width=\"24px\">\n",
              "    <path d=\"M0 0h24v24H0V0z\" fill=\"none\"/>\n",
              "    <path d=\"M18.56 5.44l.94 2.06.94-2.06 2.06-.94-2.06-.94-.94-2.06-.94 2.06-2.06.94zm-11 1L8.5 8.5l.94-2.06 2.06-.94-2.06-.94L8.5 2.5l-.94 2.06-2.06.94zm10 10l.94 2.06.94-2.06 2.06-.94-2.06-.94-.94-2.06-.94 2.06-2.06.94z\"/><path d=\"M17.41 7.96l-1.37-1.37c-.4-.4-.92-.59-1.43-.59-.52 0-1.04.2-1.43.59L10.3 9.45l-7.72 7.72c-.78.78-.78 2.05 0 2.83L4 21.41c.39.39.9.59 1.41.59.51 0 1.02-.2 1.41-.59l7.78-7.78 2.81-2.81c.8-.78.8-2.07 0-2.86zM5.41 20L4 18.59l7.72-7.72 1.47 1.35L5.41 20z\"/>\n",
              "  </svg>\n",
              "      </button>\n",
              "      \n",
              "  <style>\n",
              "    .colab-df-container {\n",
              "      display:flex;\n",
              "      flex-wrap:wrap;\n",
              "      gap: 12px;\n",
              "    }\n",
              "\n",
              "    .colab-df-convert {\n",
              "      background-color: #E8F0FE;\n",
              "      border: none;\n",
              "      border-radius: 50%;\n",
              "      cursor: pointer;\n",
              "      display: none;\n",
              "      fill: #1967D2;\n",
              "      height: 32px;\n",
              "      padding: 0 0 0 0;\n",
              "      width: 32px;\n",
              "    }\n",
              "\n",
              "    .colab-df-convert:hover {\n",
              "      background-color: #E2EBFA;\n",
              "      box-shadow: 0px 1px 2px rgba(60, 64, 67, 0.3), 0px 1px 3px 1px rgba(60, 64, 67, 0.15);\n",
              "      fill: #174EA6;\n",
              "    }\n",
              "\n",
              "    [theme=dark] .colab-df-convert {\n",
              "      background-color: #3B4455;\n",
              "      fill: #D2E3FC;\n",
              "    }\n",
              "\n",
              "    [theme=dark] .colab-df-convert:hover {\n",
              "      background-color: #434B5C;\n",
              "      box-shadow: 0px 1px 3px 1px rgba(0, 0, 0, 0.15);\n",
              "      filter: drop-shadow(0px 1px 2px rgba(0, 0, 0, 0.3));\n",
              "      fill: #FFFFFF;\n",
              "    }\n",
              "  </style>\n",
              "\n",
              "      <script>\n",
              "        const buttonEl =\n",
              "          document.querySelector('#df-3c31e6d1-f738-4b3a-9c21-e89a7d8f6696 button.colab-df-convert');\n",
              "        buttonEl.style.display =\n",
              "          google.colab.kernel.accessAllowed ? 'block' : 'none';\n",
              "\n",
              "        async function convertToInteractive(key) {\n",
              "          const element = document.querySelector('#df-3c31e6d1-f738-4b3a-9c21-e89a7d8f6696');\n",
              "          const dataTable =\n",
              "            await google.colab.kernel.invokeFunction('convertToInteractive',\n",
              "                                                     [key], {});\n",
              "          if (!dataTable) return;\n",
              "\n",
              "          const docLinkHtml = 'Like what you see? Visit the ' +\n",
              "            '<a target=\"_blank\" href=https://colab.research.google.com/notebooks/data_table.ipynb>data table notebook</a>'\n",
              "            + ' to learn more about interactive tables.';\n",
              "          element.innerHTML = '';\n",
              "          dataTable['output_type'] = 'display_data';\n",
              "          await google.colab.output.renderOutput(dataTable, element);\n",
              "          const docLink = document.createElement('div');\n",
              "          docLink.innerHTML = docLinkHtml;\n",
              "          element.appendChild(docLink);\n",
              "        }\n",
              "      </script>\n",
              "    </div>\n",
              "  </div>\n",
              "  "
            ]
          },
          "metadata": {},
          "execution_count": 46
        }
      ],
      "source": [
        "dataset_resultado_popularidade.merge(dataset_item[['id_filme','nome_filme']], left_on='id_filme', right_on='id_filme', how='left').sort_values(by='popularidade', ascending=False).head(10)"
      ]
    },
    {
      "cell_type": "code",
      "execution_count": 47,
      "metadata": {
        "id": "4XnY32xve8EY"
      },
      "outputs": [],
      "source": [
        "def current_wr_imdb(dataframe, nome_coluna_avaliacoes='avaliacao', nome_coluna_id_filme='id_filme', percentil_minimo_avaliacoes=0.9, periodo_maximo_considerado=30, nome_coluna_data_avaliacao='data_avaliacao'):  \n",
        "  dataframe_auxiliar = dataframe.copy()\n",
        "  dataframe_auxiliar[nome_coluna_data_avaliacao] = pd.to_datetime(dataframe_auxiliar[nome_coluna_data_avaliacao])\n",
        "  dataframe_auxiliar = dataframe_auxiliar[dataframe_auxiliar[nome_coluna_data_avaliacao] >=  dataframe_auxiliar[nome_coluna_data_avaliacao].max() - pd.Timedelta(days=periodo_maximo_considerado)].copy()\n",
        "    \n",
        "  return wr_imdb(dataframe_auxiliar, nome_coluna_avaliacoes, nome_coluna_id_filme, percentil_minimo_avaliacoes)"
      ]
    },
    {
      "cell_type": "code",
      "execution_count": 48,
      "metadata": {
        "id": "a8jdFgpKje_v"
      },
      "outputs": [],
      "source": [
        "from pandas.core.frame import DataFrame\n",
        "def search_theme(dataset_interaçoes, dataframe_filme, theme):\n",
        "  if(theme not in dataframe_filme.columns):\n",
        "    print('Erro: O tema que você está procurando não foi encontrado')\n",
        "    return DataFrame()\n",
        "  else:\n",
        "    dataframe_filme['filtro'] = True\n",
        "    dataframe_interaçoes = dataset_interaçoes.merge(dataframe_filme[dataframe_filme[theme] == 1] [['id_filme', 'filtro']], left_on='id_filme', right_on='id_filme', how='left')\n",
        "    return dataframe_interaçoes[dataframe_interaçoes['filtro'].notna()].copy()"
      ]
    },
    {
      "cell_type": "code",
      "execution_count": 49,
      "metadata": {
        "id": "On9wpYbPsccv",
        "colab": {
          "base_uri": "https://localhost:8080/",
          "height": 363
        },
        "outputId": "9c21f0bb-8ec8-4bd2-f593-dccd20126c3b"
      },
      "outputs": [
        {
          "output_type": "execute_result",
          "data": {
            "text/plain": [
              "    id_filme  popularidade                                    nome_filme\n",
              "13       132      3.941062                      Wizard of Oz, The (1939)\n",
              "55       588      3.806828                   Beauty and the Beast (1991)\n",
              "40       423      3.767824             E.T. the Extra-Terrestrial (1982)\n",
              "42       432      3.764012                               Fantasia (1940)\n",
              "9         99      3.669055        Snow White and the Seven Dwarfs (1937)\n",
              "37       419      3.636925                           Mary Poppins (1964)\n",
              "1          8      3.636925                                   Babe (1995)\n",
              "19       151      3.610182  Willy Wonka and the Chocolate Factory (1971)\n",
              "4         71      3.564109                         Lion King, The (1994)\n",
              "8         95      3.539837                                Aladdin (1992)"
            ],
            "text/html": [
              "\n",
              "  <div id=\"df-b3bcb318-4d0f-41e5-b06b-b074a5fa514b\">\n",
              "    <div class=\"colab-df-container\">\n",
              "      <div>\n",
              "<style scoped>\n",
              "    .dataframe tbody tr th:only-of-type {\n",
              "        vertical-align: middle;\n",
              "    }\n",
              "\n",
              "    .dataframe tbody tr th {\n",
              "        vertical-align: top;\n",
              "    }\n",
              "\n",
              "    .dataframe thead th {\n",
              "        text-align: right;\n",
              "    }\n",
              "</style>\n",
              "<table border=\"1\" class=\"dataframe\">\n",
              "  <thead>\n",
              "    <tr style=\"text-align: right;\">\n",
              "      <th></th>\n",
              "      <th>id_filme</th>\n",
              "      <th>popularidade</th>\n",
              "      <th>nome_filme</th>\n",
              "    </tr>\n",
              "  </thead>\n",
              "  <tbody>\n",
              "    <tr>\n",
              "      <th>13</th>\n",
              "      <td>132</td>\n",
              "      <td>3.941062</td>\n",
              "      <td>Wizard of Oz, The (1939)</td>\n",
              "    </tr>\n",
              "    <tr>\n",
              "      <th>55</th>\n",
              "      <td>588</td>\n",
              "      <td>3.806828</td>\n",
              "      <td>Beauty and the Beast (1991)</td>\n",
              "    </tr>\n",
              "    <tr>\n",
              "      <th>40</th>\n",
              "      <td>423</td>\n",
              "      <td>3.767824</td>\n",
              "      <td>E.T. the Extra-Terrestrial (1982)</td>\n",
              "    </tr>\n",
              "    <tr>\n",
              "      <th>42</th>\n",
              "      <td>432</td>\n",
              "      <td>3.764012</td>\n",
              "      <td>Fantasia (1940)</td>\n",
              "    </tr>\n",
              "    <tr>\n",
              "      <th>9</th>\n",
              "      <td>99</td>\n",
              "      <td>3.669055</td>\n",
              "      <td>Snow White and the Seven Dwarfs (1937)</td>\n",
              "    </tr>\n",
              "    <tr>\n",
              "      <th>37</th>\n",
              "      <td>419</td>\n",
              "      <td>3.636925</td>\n",
              "      <td>Mary Poppins (1964)</td>\n",
              "    </tr>\n",
              "    <tr>\n",
              "      <th>1</th>\n",
              "      <td>8</td>\n",
              "      <td>3.636925</td>\n",
              "      <td>Babe (1995)</td>\n",
              "    </tr>\n",
              "    <tr>\n",
              "      <th>19</th>\n",
              "      <td>151</td>\n",
              "      <td>3.610182</td>\n",
              "      <td>Willy Wonka and the Chocolate Factory (1971)</td>\n",
              "    </tr>\n",
              "    <tr>\n",
              "      <th>4</th>\n",
              "      <td>71</td>\n",
              "      <td>3.564109</td>\n",
              "      <td>Lion King, The (1994)</td>\n",
              "    </tr>\n",
              "    <tr>\n",
              "      <th>8</th>\n",
              "      <td>95</td>\n",
              "      <td>3.539837</td>\n",
              "      <td>Aladdin (1992)</td>\n",
              "    </tr>\n",
              "  </tbody>\n",
              "</table>\n",
              "</div>\n",
              "      <button class=\"colab-df-convert\" onclick=\"convertToInteractive('df-b3bcb318-4d0f-41e5-b06b-b074a5fa514b')\"\n",
              "              title=\"Convert this dataframe to an interactive table.\"\n",
              "              style=\"display:none;\">\n",
              "        \n",
              "  <svg xmlns=\"http://www.w3.org/2000/svg\" height=\"24px\"viewBox=\"0 0 24 24\"\n",
              "       width=\"24px\">\n",
              "    <path d=\"M0 0h24v24H0V0z\" fill=\"none\"/>\n",
              "    <path d=\"M18.56 5.44l.94 2.06.94-2.06 2.06-.94-2.06-.94-.94-2.06-.94 2.06-2.06.94zm-11 1L8.5 8.5l.94-2.06 2.06-.94-2.06-.94L8.5 2.5l-.94 2.06-2.06.94zm10 10l.94 2.06.94-2.06 2.06-.94-2.06-.94-.94-2.06-.94 2.06-2.06.94z\"/><path d=\"M17.41 7.96l-1.37-1.37c-.4-.4-.92-.59-1.43-.59-.52 0-1.04.2-1.43.59L10.3 9.45l-7.72 7.72c-.78.78-.78 2.05 0 2.83L4 21.41c.39.39.9.59 1.41.59.51 0 1.02-.2 1.41-.59l7.78-7.78 2.81-2.81c.8-.78.8-2.07 0-2.86zM5.41 20L4 18.59l7.72-7.72 1.47 1.35L5.41 20z\"/>\n",
              "  </svg>\n",
              "      </button>\n",
              "      \n",
              "  <style>\n",
              "    .colab-df-container {\n",
              "      display:flex;\n",
              "      flex-wrap:wrap;\n",
              "      gap: 12px;\n",
              "    }\n",
              "\n",
              "    .colab-df-convert {\n",
              "      background-color: #E8F0FE;\n",
              "      border: none;\n",
              "      border-radius: 50%;\n",
              "      cursor: pointer;\n",
              "      display: none;\n",
              "      fill: #1967D2;\n",
              "      height: 32px;\n",
              "      padding: 0 0 0 0;\n",
              "      width: 32px;\n",
              "    }\n",
              "\n",
              "    .colab-df-convert:hover {\n",
              "      background-color: #E2EBFA;\n",
              "      box-shadow: 0px 1px 2px rgba(60, 64, 67, 0.3), 0px 1px 3px 1px rgba(60, 64, 67, 0.15);\n",
              "      fill: #174EA6;\n",
              "    }\n",
              "\n",
              "    [theme=dark] .colab-df-convert {\n",
              "      background-color: #3B4455;\n",
              "      fill: #D2E3FC;\n",
              "    }\n",
              "\n",
              "    [theme=dark] .colab-df-convert:hover {\n",
              "      background-color: #434B5C;\n",
              "      box-shadow: 0px 1px 3px 1px rgba(0, 0, 0, 0.15);\n",
              "      filter: drop-shadow(0px 1px 2px rgba(0, 0, 0, 0.3));\n",
              "      fill: #FFFFFF;\n",
              "    }\n",
              "  </style>\n",
              "\n",
              "      <script>\n",
              "        const buttonEl =\n",
              "          document.querySelector('#df-b3bcb318-4d0f-41e5-b06b-b074a5fa514b button.colab-df-convert');\n",
              "        buttonEl.style.display =\n",
              "          google.colab.kernel.accessAllowed ? 'block' : 'none';\n",
              "\n",
              "        async function convertToInteractive(key) {\n",
              "          const element = document.querySelector('#df-b3bcb318-4d0f-41e5-b06b-b074a5fa514b');\n",
              "          const dataTable =\n",
              "            await google.colab.kernel.invokeFunction('convertToInteractive',\n",
              "                                                     [key], {});\n",
              "          if (!dataTable) return;\n",
              "\n",
              "          const docLinkHtml = 'Like what you see? Visit the ' +\n",
              "            '<a target=\"_blank\" href=https://colab.research.google.com/notebooks/data_table.ipynb>data table notebook</a>'\n",
              "            + ' to learn more about interactive tables.';\n",
              "          element.innerHTML = '';\n",
              "          dataTable['output_type'] = 'display_data';\n",
              "          await google.colab.output.renderOutput(dataTable, element);\n",
              "          const docLink = document.createElement('div');\n",
              "          docLink.innerHTML = docLinkHtml;\n",
              "          element.appendChild(docLink);\n",
              "        }\n",
              "      </script>\n",
              "    </div>\n",
              "  </div>\n",
              "  "
            ]
          },
          "metadata": {},
          "execution_count": 49
        }
      ],
      "source": [
        "current_wr_imdb(search_theme(dataset_train, dataset_item, \"tema_criancas\")).merge(dataset_item[['id_filme','nome_filme']],\n",
        "                                                                  left_on='id_filme', right_on='id_filme', \n",
        "                                                                  how='left').sort_values(by='popularidade', ascending=False).head(10)"
      ]
    },
    {
      "cell_type": "code",
      "execution_count": 50,
      "metadata": {
        "id": "gwftx8amsmW1",
        "colab": {
          "base_uri": "https://localhost:8080/",
          "height": 363
        },
        "outputId": "15df9163-af7d-41e4-9a2f-50c7da27498b"
      },
      "outputs": [
        {
          "output_type": "execute_result",
          "data": {
            "text/plain": [
              "  id_usuario  idade sexo      profissao    cep estado_usa\n",
              "0          1     24    M     technician  85711         AZ\n",
              "1          2     53    F          other  94043         CA\n",
              "2          3     23    M         writer  32067         FL\n",
              "3          4     24    M     technician  43537         OH\n",
              "4          5     33    F          other  15213         PA\n",
              "5          6     42    M      executive  98101         WA\n",
              "6          7     57    M  administrator  91344         CA\n",
              "7          8     36    M  administrator  05201         VT\n",
              "8          9     29    M        student  01002         MA\n",
              "9         10     53    M         lawyer  90703         CA"
            ],
            "text/html": [
              "\n",
              "  <div id=\"df-51337b08-47ab-4f15-b786-b502cd3c9f52\">\n",
              "    <div class=\"colab-df-container\">\n",
              "      <div>\n",
              "<style scoped>\n",
              "    .dataframe tbody tr th:only-of-type {\n",
              "        vertical-align: middle;\n",
              "    }\n",
              "\n",
              "    .dataframe tbody tr th {\n",
              "        vertical-align: top;\n",
              "    }\n",
              "\n",
              "    .dataframe thead th {\n",
              "        text-align: right;\n",
              "    }\n",
              "</style>\n",
              "<table border=\"1\" class=\"dataframe\">\n",
              "  <thead>\n",
              "    <tr style=\"text-align: right;\">\n",
              "      <th></th>\n",
              "      <th>id_usuario</th>\n",
              "      <th>idade</th>\n",
              "      <th>sexo</th>\n",
              "      <th>profissao</th>\n",
              "      <th>cep</th>\n",
              "      <th>estado_usa</th>\n",
              "    </tr>\n",
              "  </thead>\n",
              "  <tbody>\n",
              "    <tr>\n",
              "      <th>0</th>\n",
              "      <td>1</td>\n",
              "      <td>24</td>\n",
              "      <td>M</td>\n",
              "      <td>technician</td>\n",
              "      <td>85711</td>\n",
              "      <td>AZ</td>\n",
              "    </tr>\n",
              "    <tr>\n",
              "      <th>1</th>\n",
              "      <td>2</td>\n",
              "      <td>53</td>\n",
              "      <td>F</td>\n",
              "      <td>other</td>\n",
              "      <td>94043</td>\n",
              "      <td>CA</td>\n",
              "    </tr>\n",
              "    <tr>\n",
              "      <th>2</th>\n",
              "      <td>3</td>\n",
              "      <td>23</td>\n",
              "      <td>M</td>\n",
              "      <td>writer</td>\n",
              "      <td>32067</td>\n",
              "      <td>FL</td>\n",
              "    </tr>\n",
              "    <tr>\n",
              "      <th>3</th>\n",
              "      <td>4</td>\n",
              "      <td>24</td>\n",
              "      <td>M</td>\n",
              "      <td>technician</td>\n",
              "      <td>43537</td>\n",
              "      <td>OH</td>\n",
              "    </tr>\n",
              "    <tr>\n",
              "      <th>4</th>\n",
              "      <td>5</td>\n",
              "      <td>33</td>\n",
              "      <td>F</td>\n",
              "      <td>other</td>\n",
              "      <td>15213</td>\n",
              "      <td>PA</td>\n",
              "    </tr>\n",
              "    <tr>\n",
              "      <th>5</th>\n",
              "      <td>6</td>\n",
              "      <td>42</td>\n",
              "      <td>M</td>\n",
              "      <td>executive</td>\n",
              "      <td>98101</td>\n",
              "      <td>WA</td>\n",
              "    </tr>\n",
              "    <tr>\n",
              "      <th>6</th>\n",
              "      <td>7</td>\n",
              "      <td>57</td>\n",
              "      <td>M</td>\n",
              "      <td>administrator</td>\n",
              "      <td>91344</td>\n",
              "      <td>CA</td>\n",
              "    </tr>\n",
              "    <tr>\n",
              "      <th>7</th>\n",
              "      <td>8</td>\n",
              "      <td>36</td>\n",
              "      <td>M</td>\n",
              "      <td>administrator</td>\n",
              "      <td>05201</td>\n",
              "      <td>VT</td>\n",
              "    </tr>\n",
              "    <tr>\n",
              "      <th>8</th>\n",
              "      <td>9</td>\n",
              "      <td>29</td>\n",
              "      <td>M</td>\n",
              "      <td>student</td>\n",
              "      <td>01002</td>\n",
              "      <td>MA</td>\n",
              "    </tr>\n",
              "    <tr>\n",
              "      <th>9</th>\n",
              "      <td>10</td>\n",
              "      <td>53</td>\n",
              "      <td>M</td>\n",
              "      <td>lawyer</td>\n",
              "      <td>90703</td>\n",
              "      <td>CA</td>\n",
              "    </tr>\n",
              "  </tbody>\n",
              "</table>\n",
              "</div>\n",
              "      <button class=\"colab-df-convert\" onclick=\"convertToInteractive('df-51337b08-47ab-4f15-b786-b502cd3c9f52')\"\n",
              "              title=\"Convert this dataframe to an interactive table.\"\n",
              "              style=\"display:none;\">\n",
              "        \n",
              "  <svg xmlns=\"http://www.w3.org/2000/svg\" height=\"24px\"viewBox=\"0 0 24 24\"\n",
              "       width=\"24px\">\n",
              "    <path d=\"M0 0h24v24H0V0z\" fill=\"none\"/>\n",
              "    <path d=\"M18.56 5.44l.94 2.06.94-2.06 2.06-.94-2.06-.94-.94-2.06-.94 2.06-2.06.94zm-11 1L8.5 8.5l.94-2.06 2.06-.94-2.06-.94L8.5 2.5l-.94 2.06-2.06.94zm10 10l.94 2.06.94-2.06 2.06-.94-2.06-.94-.94-2.06-.94 2.06-2.06.94z\"/><path d=\"M17.41 7.96l-1.37-1.37c-.4-.4-.92-.59-1.43-.59-.52 0-1.04.2-1.43.59L10.3 9.45l-7.72 7.72c-.78.78-.78 2.05 0 2.83L4 21.41c.39.39.9.59 1.41.59.51 0 1.02-.2 1.41-.59l7.78-7.78 2.81-2.81c.8-.78.8-2.07 0-2.86zM5.41 20L4 18.59l7.72-7.72 1.47 1.35L5.41 20z\"/>\n",
              "  </svg>\n",
              "      </button>\n",
              "      \n",
              "  <style>\n",
              "    .colab-df-container {\n",
              "      display:flex;\n",
              "      flex-wrap:wrap;\n",
              "      gap: 12px;\n",
              "    }\n",
              "\n",
              "    .colab-df-convert {\n",
              "      background-color: #E8F0FE;\n",
              "      border: none;\n",
              "      border-radius: 50%;\n",
              "      cursor: pointer;\n",
              "      display: none;\n",
              "      fill: #1967D2;\n",
              "      height: 32px;\n",
              "      padding: 0 0 0 0;\n",
              "      width: 32px;\n",
              "    }\n",
              "\n",
              "    .colab-df-convert:hover {\n",
              "      background-color: #E2EBFA;\n",
              "      box-shadow: 0px 1px 2px rgba(60, 64, 67, 0.3), 0px 1px 3px 1px rgba(60, 64, 67, 0.15);\n",
              "      fill: #174EA6;\n",
              "    }\n",
              "\n",
              "    [theme=dark] .colab-df-convert {\n",
              "      background-color: #3B4455;\n",
              "      fill: #D2E3FC;\n",
              "    }\n",
              "\n",
              "    [theme=dark] .colab-df-convert:hover {\n",
              "      background-color: #434B5C;\n",
              "      box-shadow: 0px 1px 3px 1px rgba(0, 0, 0, 0.15);\n",
              "      filter: drop-shadow(0px 1px 2px rgba(0, 0, 0, 0.3));\n",
              "      fill: #FFFFFF;\n",
              "    }\n",
              "  </style>\n",
              "\n",
              "      <script>\n",
              "        const buttonEl =\n",
              "          document.querySelector('#df-51337b08-47ab-4f15-b786-b502cd3c9f52 button.colab-df-convert');\n",
              "        buttonEl.style.display =\n",
              "          google.colab.kernel.accessAllowed ? 'block' : 'none';\n",
              "\n",
              "        async function convertToInteractive(key) {\n",
              "          const element = document.querySelector('#df-51337b08-47ab-4f15-b786-b502cd3c9f52');\n",
              "          const dataTable =\n",
              "            await google.colab.kernel.invokeFunction('convertToInteractive',\n",
              "                                                     [key], {});\n",
              "          if (!dataTable) return;\n",
              "\n",
              "          const docLinkHtml = 'Like what you see? Visit the ' +\n",
              "            '<a target=\"_blank\" href=https://colab.research.google.com/notebooks/data_table.ipynb>data table notebook</a>'\n",
              "            + ' to learn more about interactive tables.';\n",
              "          element.innerHTML = '';\n",
              "          dataTable['output_type'] = 'display_data';\n",
              "          await google.colab.output.renderOutput(dataTable, element);\n",
              "          const docLink = document.createElement('div');\n",
              "          docLink.innerHTML = docLinkHtml;\n",
              "          element.appendChild(docLink);\n",
              "        }\n",
              "      </script>\n",
              "    </div>\n",
              "  </div>\n",
              "  "
            ]
          },
          "metadata": {},
          "execution_count": 50
        }
      ],
      "source": [
        "dataset_usuarios.head(10)"
      ]
    },
    {
      "cell_type": "code",
      "execution_count": 51,
      "metadata": {
        "id": "crdbhQdDUWa3",
        "colab": {
          "base_uri": "https://localhost:8080/",
          "height": 300
        },
        "outputId": "162b255a-c8d6-43ed-d164-c8b13f024f81"
      },
      "outputs": [
        {
          "output_type": "execute_result",
          "data": {
            "text/plain": [
              "   id_usuario_1  id_usuario_10  id_usuario_100  id_usuario_101  \\\n",
              "0             1              0               0               0   \n",
              "1             0              0               0               0   \n",
              "2             0              0               0               0   \n",
              "3             0              0               0               0   \n",
              "4             0              0               0               0   \n",
              "\n",
              "   id_usuario_102  id_usuario_103  id_usuario_104  id_usuario_105  \\\n",
              "0               0               0               0               0   \n",
              "1               0               0               0               0   \n",
              "2               0               0               0               0   \n",
              "3               0               0               0               0   \n",
              "4               0               0               0               0   \n",
              "\n",
              "   id_usuario_106  id_usuario_107  ...  estado_usa_SD  estado_usa_TN  \\\n",
              "0               0               0  ...              0              0   \n",
              "1               0               0  ...              0              0   \n",
              "2               0               0  ...              0              0   \n",
              "3               0               0  ...              0              0   \n",
              "4               0               0  ...              0              0   \n",
              "\n",
              "   estado_usa_TX  estado_usa_UT  estado_usa_VA  estado_usa_VT  estado_usa_WA  \\\n",
              "0              0              0              0              0              0   \n",
              "1              0              0              0              0              0   \n",
              "2              0              0              0              0              0   \n",
              "3              0              0              0              0              0   \n",
              "4              0              0              0              0              0   \n",
              "\n",
              "   estado_usa_WI  estado_usa_WV  estado_usa_WY  \n",
              "0              0              0              0  \n",
              "1              0              0              0  \n",
              "2              0              0              0  \n",
              "3              0              0              0  \n",
              "4              0              0              0  \n",
              "\n",
              "[5 rows x 1018 columns]"
            ],
            "text/html": [
              "\n",
              "  <div id=\"df-3222e6ed-ff25-42e7-9ab7-704b59e2d42b\">\n",
              "    <div class=\"colab-df-container\">\n",
              "      <div>\n",
              "<style scoped>\n",
              "    .dataframe tbody tr th:only-of-type {\n",
              "        vertical-align: middle;\n",
              "    }\n",
              "\n",
              "    .dataframe tbody tr th {\n",
              "        vertical-align: top;\n",
              "    }\n",
              "\n",
              "    .dataframe thead th {\n",
              "        text-align: right;\n",
              "    }\n",
              "</style>\n",
              "<table border=\"1\" class=\"dataframe\">\n",
              "  <thead>\n",
              "    <tr style=\"text-align: right;\">\n",
              "      <th></th>\n",
              "      <th>id_usuario_1</th>\n",
              "      <th>id_usuario_10</th>\n",
              "      <th>id_usuario_100</th>\n",
              "      <th>id_usuario_101</th>\n",
              "      <th>id_usuario_102</th>\n",
              "      <th>id_usuario_103</th>\n",
              "      <th>id_usuario_104</th>\n",
              "      <th>id_usuario_105</th>\n",
              "      <th>id_usuario_106</th>\n",
              "      <th>id_usuario_107</th>\n",
              "      <th>...</th>\n",
              "      <th>estado_usa_SD</th>\n",
              "      <th>estado_usa_TN</th>\n",
              "      <th>estado_usa_TX</th>\n",
              "      <th>estado_usa_UT</th>\n",
              "      <th>estado_usa_VA</th>\n",
              "      <th>estado_usa_VT</th>\n",
              "      <th>estado_usa_WA</th>\n",
              "      <th>estado_usa_WI</th>\n",
              "      <th>estado_usa_WV</th>\n",
              "      <th>estado_usa_WY</th>\n",
              "    </tr>\n",
              "  </thead>\n",
              "  <tbody>\n",
              "    <tr>\n",
              "      <th>0</th>\n",
              "      <td>1</td>\n",
              "      <td>0</td>\n",
              "      <td>0</td>\n",
              "      <td>0</td>\n",
              "      <td>0</td>\n",
              "      <td>0</td>\n",
              "      <td>0</td>\n",
              "      <td>0</td>\n",
              "      <td>0</td>\n",
              "      <td>0</td>\n",
              "      <td>...</td>\n",
              "      <td>0</td>\n",
              "      <td>0</td>\n",
              "      <td>0</td>\n",
              "      <td>0</td>\n",
              "      <td>0</td>\n",
              "      <td>0</td>\n",
              "      <td>0</td>\n",
              "      <td>0</td>\n",
              "      <td>0</td>\n",
              "      <td>0</td>\n",
              "    </tr>\n",
              "    <tr>\n",
              "      <th>1</th>\n",
              "      <td>0</td>\n",
              "      <td>0</td>\n",
              "      <td>0</td>\n",
              "      <td>0</td>\n",
              "      <td>0</td>\n",
              "      <td>0</td>\n",
              "      <td>0</td>\n",
              "      <td>0</td>\n",
              "      <td>0</td>\n",
              "      <td>0</td>\n",
              "      <td>...</td>\n",
              "      <td>0</td>\n",
              "      <td>0</td>\n",
              "      <td>0</td>\n",
              "      <td>0</td>\n",
              "      <td>0</td>\n",
              "      <td>0</td>\n",
              "      <td>0</td>\n",
              "      <td>0</td>\n",
              "      <td>0</td>\n",
              "      <td>0</td>\n",
              "    </tr>\n",
              "    <tr>\n",
              "      <th>2</th>\n",
              "      <td>0</td>\n",
              "      <td>0</td>\n",
              "      <td>0</td>\n",
              "      <td>0</td>\n",
              "      <td>0</td>\n",
              "      <td>0</td>\n",
              "      <td>0</td>\n",
              "      <td>0</td>\n",
              "      <td>0</td>\n",
              "      <td>0</td>\n",
              "      <td>...</td>\n",
              "      <td>0</td>\n",
              "      <td>0</td>\n",
              "      <td>0</td>\n",
              "      <td>0</td>\n",
              "      <td>0</td>\n",
              "      <td>0</td>\n",
              "      <td>0</td>\n",
              "      <td>0</td>\n",
              "      <td>0</td>\n",
              "      <td>0</td>\n",
              "    </tr>\n",
              "    <tr>\n",
              "      <th>3</th>\n",
              "      <td>0</td>\n",
              "      <td>0</td>\n",
              "      <td>0</td>\n",
              "      <td>0</td>\n",
              "      <td>0</td>\n",
              "      <td>0</td>\n",
              "      <td>0</td>\n",
              "      <td>0</td>\n",
              "      <td>0</td>\n",
              "      <td>0</td>\n",
              "      <td>...</td>\n",
              "      <td>0</td>\n",
              "      <td>0</td>\n",
              "      <td>0</td>\n",
              "      <td>0</td>\n",
              "      <td>0</td>\n",
              "      <td>0</td>\n",
              "      <td>0</td>\n",
              "      <td>0</td>\n",
              "      <td>0</td>\n",
              "      <td>0</td>\n",
              "    </tr>\n",
              "    <tr>\n",
              "      <th>4</th>\n",
              "      <td>0</td>\n",
              "      <td>0</td>\n",
              "      <td>0</td>\n",
              "      <td>0</td>\n",
              "      <td>0</td>\n",
              "      <td>0</td>\n",
              "      <td>0</td>\n",
              "      <td>0</td>\n",
              "      <td>0</td>\n",
              "      <td>0</td>\n",
              "      <td>...</td>\n",
              "      <td>0</td>\n",
              "      <td>0</td>\n",
              "      <td>0</td>\n",
              "      <td>0</td>\n",
              "      <td>0</td>\n",
              "      <td>0</td>\n",
              "      <td>0</td>\n",
              "      <td>0</td>\n",
              "      <td>0</td>\n",
              "      <td>0</td>\n",
              "    </tr>\n",
              "  </tbody>\n",
              "</table>\n",
              "<p>5 rows × 1018 columns</p>\n",
              "</div>\n",
              "      <button class=\"colab-df-convert\" onclick=\"convertToInteractive('df-3222e6ed-ff25-42e7-9ab7-704b59e2d42b')\"\n",
              "              title=\"Convert this dataframe to an interactive table.\"\n",
              "              style=\"display:none;\">\n",
              "        \n",
              "  <svg xmlns=\"http://www.w3.org/2000/svg\" height=\"24px\"viewBox=\"0 0 24 24\"\n",
              "       width=\"24px\">\n",
              "    <path d=\"M0 0h24v24H0V0z\" fill=\"none\"/>\n",
              "    <path d=\"M18.56 5.44l.94 2.06.94-2.06 2.06-.94-2.06-.94-.94-2.06-.94 2.06-2.06.94zm-11 1L8.5 8.5l.94-2.06 2.06-.94-2.06-.94L8.5 2.5l-.94 2.06-2.06.94zm10 10l.94 2.06.94-2.06 2.06-.94-2.06-.94-.94-2.06-.94 2.06-2.06.94z\"/><path d=\"M17.41 7.96l-1.37-1.37c-.4-.4-.92-.59-1.43-.59-.52 0-1.04.2-1.43.59L10.3 9.45l-7.72 7.72c-.78.78-.78 2.05 0 2.83L4 21.41c.39.39.9.59 1.41.59.51 0 1.02-.2 1.41-.59l7.78-7.78 2.81-2.81c.8-.78.8-2.07 0-2.86zM5.41 20L4 18.59l7.72-7.72 1.47 1.35L5.41 20z\"/>\n",
              "  </svg>\n",
              "      </button>\n",
              "      \n",
              "  <style>\n",
              "    .colab-df-container {\n",
              "      display:flex;\n",
              "      flex-wrap:wrap;\n",
              "      gap: 12px;\n",
              "    }\n",
              "\n",
              "    .colab-df-convert {\n",
              "      background-color: #E8F0FE;\n",
              "      border: none;\n",
              "      border-radius: 50%;\n",
              "      cursor: pointer;\n",
              "      display: none;\n",
              "      fill: #1967D2;\n",
              "      height: 32px;\n",
              "      padding: 0 0 0 0;\n",
              "      width: 32px;\n",
              "    }\n",
              "\n",
              "    .colab-df-convert:hover {\n",
              "      background-color: #E2EBFA;\n",
              "      box-shadow: 0px 1px 2px rgba(60, 64, 67, 0.3), 0px 1px 3px 1px rgba(60, 64, 67, 0.15);\n",
              "      fill: #174EA6;\n",
              "    }\n",
              "\n",
              "    [theme=dark] .colab-df-convert {\n",
              "      background-color: #3B4455;\n",
              "      fill: #D2E3FC;\n",
              "    }\n",
              "\n",
              "    [theme=dark] .colab-df-convert:hover {\n",
              "      background-color: #434B5C;\n",
              "      box-shadow: 0px 1px 3px 1px rgba(0, 0, 0, 0.15);\n",
              "      filter: drop-shadow(0px 1px 2px rgba(0, 0, 0, 0.3));\n",
              "      fill: #FFFFFF;\n",
              "    }\n",
              "  </style>\n",
              "\n",
              "      <script>\n",
              "        const buttonEl =\n",
              "          document.querySelector('#df-3222e6ed-ff25-42e7-9ab7-704b59e2d42b button.colab-df-convert');\n",
              "        buttonEl.style.display =\n",
              "          google.colab.kernel.accessAllowed ? 'block' : 'none';\n",
              "\n",
              "        async function convertToInteractive(key) {\n",
              "          const element = document.querySelector('#df-3222e6ed-ff25-42e7-9ab7-704b59e2d42b');\n",
              "          const dataTable =\n",
              "            await google.colab.kernel.invokeFunction('convertToInteractive',\n",
              "                                                     [key], {});\n",
              "          if (!dataTable) return;\n",
              "\n",
              "          const docLinkHtml = 'Like what you see? Visit the ' +\n",
              "            '<a target=\"_blank\" href=https://colab.research.google.com/notebooks/data_table.ipynb>data table notebook</a>'\n",
              "            + ' to learn more about interactive tables.';\n",
              "          element.innerHTML = '';\n",
              "          dataTable['output_type'] = 'display_data';\n",
              "          await google.colab.output.renderOutput(dataTable, element);\n",
              "          const docLink = document.createElement('div');\n",
              "          docLink.innerHTML = docLinkHtml;\n",
              "          element.appendChild(docLink);\n",
              "        }\n",
              "      </script>\n",
              "    </div>\n",
              "  </div>\n",
              "  "
            ]
          },
          "metadata": {},
          "execution_count": 51
        }
      ],
      "source": [
        "dataset_clusting = pd.get_dummies(dataset_usuarios[['id_usuario', 'sexo', 'profissao', 'estado_usa']])\n",
        "dataset_clusting.head()"
      ]
    },
    {
      "cell_type": "code",
      "execution_count": 52,
      "metadata": {
        "id": "6O68B68jVqwh",
        "colab": {
          "base_uri": "https://localhost:8080/",
          "height": 322
        },
        "outputId": "5a289e81-126b-4eea-ff57-65a33f671180"
      },
      "outputs": [
        {
          "output_type": "display_data",
          "data": {
            "text/plain": [
              "<Figure size 1008x360 with 1 Axes>"
            ],
            "image/png": "[encoded data removed]"
          },
          "metadata": {}
        }
      ],
      "source": [
        "plt.figure(figsize=(14,5))\n",
        "mergins = linkage(dataset_clusting, method='ward', metric='euclidean')\n",
        "dendrogram(mergins)\n",
        "plt.savefig('dendogram_png', dpi=400, bbox_inches='tight')\n",
        "plt.show(True)"
      ]
    },
    {
      "cell_type": "code",
      "execution_count": 53,
      "metadata": {
        "id": "4FL_khojXPlo",
        "colab": {
          "base_uri": "https://localhost:8080/"
        },
        "outputId": "4b8b4b0d-b25c-4aa0-a4ba-7ebee3cfd3a6"
      },
      "outputs": [
        {
          "output_type": "stream",
          "name": "stdout",
          "text": [
            "2  - Ward's Silhouette score: 0.1903412361197277\n",
            "3  - Ward's Silhouette score: 0.1993410030219412\n",
            "4  - Ward's Silhouette score: 0.1867274102234031\n",
            "5  - Ward's Silhouette score: 0.18995497766934197\n",
            "6  - Ward's Silhouette score: 0.19295997689806346\n",
            "7  - Ward's Silhouette score: 0.19463619431571808\n",
            "8  - Ward's Silhouette score: 0.19938638959868268\n",
            "9  - Ward's Silhouette score: 0.2076792396637109\n",
            "10  - Ward's Silhouette score: 0.21042679838509223\n",
            "11  - Ward's Silhouette score: 0.21114483310623952\n",
            "12  - Ward's Silhouette score: 0.21957992585417122\n",
            "13  - Ward's Silhouette score: 0.22118423405344148\n",
            "14  - Ward's Silhouette score: 0.22119155378813607\n",
            "15  - Ward's Silhouette score: 0.22712585450956396\n",
            "16  - Ward's Silhouette score: 0.21492062359503458\n",
            "17  - Ward's Silhouette score: 0.22352042476117873\n",
            "18  - Ward's Silhouette score: 0.2272293795049259\n",
            "19  - Ward's Silhouette score: 0.2275404344650294\n"
          ]
        }
      ],
      "source": [
        "for i in range(2,20):\n",
        "  dataset_clusting['ClusterHWard'] = cut_tree(mergins, n_clusters=i).reshape(-1, )\n",
        "  print(i, \" - Ward's Silhouette score:\", silhouette_score(dataset_clusting, dataset_clusting['ClusterHWard'], metric='euclidean'))"
      ]
    },
    {
      "cell_type": "code",
      "execution_count": 54,
      "metadata": {
        "id": "hh9xKaooaGii"
      },
      "outputs": [],
      "source": [
        "dataset_usuarios['grupo'] = cut_tree(mergins, n_clusters=10).reshape(-1, )"
      ]
    },
    {
      "cell_type": "code",
      "execution_count": 55,
      "metadata": {
        "id": "ebIDL2EkccS-",
        "colab": {
          "base_uri": "https://localhost:8080/",
          "height": 206
        },
        "outputId": "c0dcc4e7-8cbf-44f2-922f-ea8b7c3de70f"
      },
      "outputs": [
        {
          "output_type": "execute_result",
          "data": {
            "text/plain": [
              "  id_usuario  idade sexo   profissao    cep estado_usa  grupo\n",
              "0          1     24    M  technician  85711         AZ      0\n",
              "1          2     53    F       other  94043         CA      1\n",
              "2          3     23    M      writer  32067         FL      0\n",
              "3          4     24    M  technician  43537         OH      0\n",
              "4          5     33    F       other  15213         PA      1"
            ],
            "text/html": [
              "\n",
              "  <div id=\"df-5e029487-eead-4b0c-8fac-33f7eaee002e\">\n",
              "    <div class=\"colab-df-container\">\n",
              "      <div>\n",
              "<style scoped>\n",
              "    .dataframe tbody tr th:only-of-type {\n",
              "        vertical-align: middle;\n",
              "    }\n",
              "\n",
              "    .dataframe tbody tr th {\n",
              "        vertical-align: top;\n",
              "    }\n",
              "\n",
              "    .dataframe thead th {\n",
              "        text-align: right;\n",
              "    }\n",
              "</style>\n",
              "<table border=\"1\" class=\"dataframe\">\n",
              "  <thead>\n",
              "    <tr style=\"text-align: right;\">\n",
              "      <th></th>\n",
              "      <th>id_usuario</th>\n",
              "      <th>idade</th>\n",
              "      <th>sexo</th>\n",
              "      <th>profissao</th>\n",
              "      <th>cep</th>\n",
              "      <th>estado_usa</th>\n",
              "      <th>grupo</th>\n",
              "    </tr>\n",
              "  </thead>\n",
              "  <tbody>\n",
              "    <tr>\n",
              "      <th>0</th>\n",
              "      <td>1</td>\n",
              "      <td>24</td>\n",
              "      <td>M</td>\n",
              "      <td>technician</td>\n",
              "      <td>85711</td>\n",
              "      <td>AZ</td>\n",
              "      <td>0</td>\n",
              "    </tr>\n",
              "    <tr>\n",
              "      <th>1</th>\n",
              "      <td>2</td>\n",
              "      <td>53</td>\n",
              "      <td>F</td>\n",
              "      <td>other</td>\n",
              "      <td>94043</td>\n",
              "      <td>CA</td>\n",
              "      <td>1</td>\n",
              "    </tr>\n",
              "    <tr>\n",
              "      <th>2</th>\n",
              "      <td>3</td>\n",
              "      <td>23</td>\n",
              "      <td>M</td>\n",
              "      <td>writer</td>\n",
              "      <td>32067</td>\n",
              "      <td>FL</td>\n",
              "      <td>0</td>\n",
              "    </tr>\n",
              "    <tr>\n",
              "      <th>3</th>\n",
              "      <td>4</td>\n",
              "      <td>24</td>\n",
              "      <td>M</td>\n",
              "      <td>technician</td>\n",
              "      <td>43537</td>\n",
              "      <td>OH</td>\n",
              "      <td>0</td>\n",
              "    </tr>\n",
              "    <tr>\n",
              "      <th>4</th>\n",
              "      <td>5</td>\n",
              "      <td>33</td>\n",
              "      <td>F</td>\n",
              "      <td>other</td>\n",
              "      <td>15213</td>\n",
              "      <td>PA</td>\n",
              "      <td>1</td>\n",
              "    </tr>\n",
              "  </tbody>\n",
              "</table>\n",
              "</div>\n",
              "      <button class=\"colab-df-convert\" onclick=\"convertToInteractive('df-5e029487-eead-4b0c-8fac-33f7eaee002e')\"\n",
              "              title=\"Convert this dataframe to an interactive table.\"\n",
              "              style=\"display:none;\">\n",
              "        \n",
              "  <svg xmlns=\"http://www.w3.org/2000/svg\" height=\"24px\"viewBox=\"0 0 24 24\"\n",
              "       width=\"24px\">\n",
              "    <path d=\"M0 0h24v24H0V0z\" fill=\"none\"/>\n",
              "    <path d=\"M18.56 5.44l.94 2.06.94-2.06 2.06-.94-2.06-.94-.94-2.06-.94 2.06-2.06.94zm-11 1L8.5 8.5l.94-2.06 2.06-.94-2.06-.94L8.5 2.5l-.94 2.06-2.06.94zm10 10l.94 2.06.94-2.06 2.06-.94-2.06-.94-.94-2.06-.94 2.06-2.06.94z\"/><path d=\"M17.41 7.96l-1.37-1.37c-.4-.4-.92-.59-1.43-.59-.52 0-1.04.2-1.43.59L10.3 9.45l-7.72 7.72c-.78.78-.78 2.05 0 2.83L4 21.41c.39.39.9.59 1.41.59.51 0 1.02-.2 1.41-.59l7.78-7.78 2.81-2.81c.8-.78.8-2.07 0-2.86zM5.41 20L4 18.59l7.72-7.72 1.47 1.35L5.41 20z\"/>\n",
              "  </svg>\n",
              "      </button>\n",
              "      \n",
              "  <style>\n",
              "    .colab-df-container {\n",
              "      display:flex;\n",
              "      flex-wrap:wrap;\n",
              "      gap: 12px;\n",
              "    }\n",
              "\n",
              "    .colab-df-convert {\n",
              "      background-color: #E8F0FE;\n",
              "      border: none;\n",
              "      border-radius: 50%;\n",
              "      cursor: pointer;\n",
              "      display: none;\n",
              "      fill: #1967D2;\n",
              "      height: 32px;\n",
              "      padding: 0 0 0 0;\n",
              "      width: 32px;\n",
              "    }\n",
              "\n",
              "    .colab-df-convert:hover {\n",
              "      background-color: #E2EBFA;\n",
              "      box-shadow: 0px 1px 2px rgba(60, 64, 67, 0.3), 0px 1px 3px 1px rgba(60, 64, 67, 0.15);\n",
              "      fill: #174EA6;\n",
              "    }\n",
              "\n",
              "    [theme=dark] .colab-df-convert {\n",
              "      background-color: #3B4455;\n",
              "      fill: #D2E3FC;\n",
              "    }\n",
              "\n",
              "    [theme=dark] .colab-df-convert:hover {\n",
              "      background-color: #434B5C;\n",
              "      box-shadow: 0px 1px 3px 1px rgba(0, 0, 0, 0.15);\n",
              "      filter: drop-shadow(0px 1px 2px rgba(0, 0, 0, 0.3));\n",
              "      fill: #FFFFFF;\n",
              "    }\n",
              "  </style>\n",
              "\n",
              "      <script>\n",
              "        const buttonEl =\n",
              "          document.querySelector('#df-5e029487-eead-4b0c-8fac-33f7eaee002e button.colab-df-convert');\n",
              "        buttonEl.style.display =\n",
              "          google.colab.kernel.accessAllowed ? 'block' : 'none';\n",
              "\n",
              "        async function convertToInteractive(key) {\n",
              "          const element = document.querySelector('#df-5e029487-eead-4b0c-8fac-33f7eaee002e');\n",
              "          const dataTable =\n",
              "            await google.colab.kernel.invokeFunction('convertToInteractive',\n",
              "                                                     [key], {});\n",
              "          if (!dataTable) return;\n",
              "\n",
              "          const docLinkHtml = 'Like what you see? Visit the ' +\n",
              "            '<a target=\"_blank\" href=https://colab.research.google.com/notebooks/data_table.ipynb>data table notebook</a>'\n",
              "            + ' to learn more about interactive tables.';\n",
              "          element.innerHTML = '';\n",
              "          dataTable['output_type'] = 'display_data';\n",
              "          await google.colab.output.renderOutput(dataTable, element);\n",
              "          const docLink = document.createElement('div');\n",
              "          docLink.innerHTML = docLinkHtml;\n",
              "          element.appendChild(docLink);\n",
              "        }\n",
              "      </script>\n",
              "    </div>\n",
              "  </div>\n",
              "  "
            ]
          },
          "metadata": {},
          "execution_count": 55
        }
      ],
      "source": [
        "dataset_usuarios.head()"
      ]
    },
    {
      "cell_type": "code",
      "execution_count": 56,
      "metadata": {
        "id": "95A4Cow_dVem"
      },
      "outputs": [],
      "source": [
        "def get_recommendations_clusterized(iid_usuario, dataframe_usuarios, dataframe, nome_coluna_id_usuario='id_usuario', nome_coluna_id_filme='id_filme', nome_coluna_grupo='grupo'):\n",
        "  dataframe_auxiliar = dataframe.copy()\n",
        "  dataframe_auxiliar_usuarios = dataframe_usuarios.copy()\n",
        "  grp = list(dataframe_auxiliar_usuarios[dataframe_auxiliar_usuarios[nome_coluna_id_usuario]==str(iid_usuario)][nome_coluna_grupo])[0]\n",
        "  dataframe_auxiliar = dataframe_auxiliar.merge(dataframe_auxiliar_usuarios[dataframe_auxiliar_usuarios[nome_coluna_grupo]==grp][[nome_coluna_id_usuario,nome_coluna_grupo]], left_on=nome_coluna_id_usuario, right_on=nome_coluna_id_usuario, how='left')\n",
        "  dataframe_auxiliar = dataframe_auxiliar[dataframe_auxiliar[nome_coluna_grupo].notna()]\n",
        "    \n",
        "  dataframe_auxiliar_ = dataframe_auxiliar[[nome_coluna_id_usuario,nome_coluna_id_filme]].copy()\n",
        "  dataframe_auxiliar_.columns = ['iid_usuario','iid_filme']\n",
        "  dataframe_auxiliar_ = dataframe_auxiliar_[dataframe_auxiliar_['iid_usuario']==str(iid_usuario)]\n",
        "  dataframe_auxiliar = dataframe_auxiliar.merge(dataframe_auxiliar_, how='left', left_on=nome_coluna_id_filme, right_on='iid_filme')\n",
        "  dataframe_auxiliar = dataframe_auxiliar[dataframe_auxiliar['iid_filme'].isna()]\n",
        "  dataframe_auxiliar.drop(columns=['iid_filme','iid_usuario'], inplace=True)\n",
        "\n",
        "  return dataframe_auxiliar"
      ]
    },
    {
      "cell_type": "code",
      "source": [
        "dataset_resultado_popularidade_atual = current_wr_imdb(get_recommendations_clusterized('2', dataset_usuarios, dataset_train))\n",
        "dataset_resultado_popularidade_atual.merge(dataset_item[['id_filme','nome_filme']], left_on='id_filme', right_on='id_filme', how='left').sort_values(by='popularidade', ascending=False).head(10)"
      ],
      "metadata": {
        "colab": {
          "base_uri": "https://localhost:8080/",
          "height": 363
        },
        "id": "KvDd9Ao3f6O5",
        "outputId": "be8bbdbc-a89d-415d-ed1d-a9108f78c875"
      },
      "execution_count": 57,
      "outputs": [
        {
          "output_type": "execute_result",
          "data": {
            "text/plain": [
              "     id_filme  popularidade                    nome_filme\n",
              "384       496      4.258583  It's a Wonderful Life (1946)\n",
              "459       603      4.157439            Rear Window (1954)\n",
              "180       213      4.113465    Room with a View, A (1986)\n",
              "374       485      4.104737           My Fair Lady (1964)\n",
              "330       427      4.104737  To Kill a Mockingbird (1962)\n",
              "452       588      4.097256   Beauty and the Beast (1991)\n",
              "372       483      4.085099             Casablanca (1942)\n",
              "244       318      4.075643       Schindler's List (1993)\n",
              "9          12      4.030132    Usual Suspects, The (1995)\n",
              "96        124      4.030132              Lone Star (1996)"
            ],
            "text/html": [
              "\n",
              "  <div id=\"df-bd687a34-d37a-4c25-a310-e15576be628c\">\n",
              "    <div class=\"colab-df-container\">\n",
              "      <div>\n",
              "<style scoped>\n",
              "    .dataframe tbody tr th:only-of-type {\n",
              "        vertical-align: middle;\n",
              "    }\n",
              "\n",
              "    .dataframe tbody tr th {\n",
              "        vertical-align: top;\n",
              "    }\n",
              "\n",
              "    .dataframe thead th {\n",
              "        text-align: right;\n",
              "    }\n",
              "</style>\n",
              "<table border=\"1\" class=\"dataframe\">\n",
              "  <thead>\n",
              "    <tr style=\"text-align: right;\">\n",
              "      <th></th>\n",
              "      <th>id_filme</th>\n",
              "      <th>popularidade</th>\n",
              "      <th>nome_filme</th>\n",
              "    </tr>\n",
              "  </thead>\n",
              "  <tbody>\n",
              "    <tr>\n",
              "      <th>384</th>\n",
              "      <td>496</td>\n",
              "      <td>4.258583</td>\n",
              "      <td>It's a Wonderful Life (1946)</td>\n",
              "    </tr>\n",
              "    <tr>\n",
              "      <th>459</th>\n",
              "      <td>603</td>\n",
              "      <td>4.157439</td>\n",
              "      <td>Rear Window (1954)</td>\n",
              "    </tr>\n",
              "    <tr>\n",
              "      <th>180</th>\n",
              "      <td>213</td>\n",
              "      <td>4.113465</td>\n",
              "      <td>Room with a View, A (1986)</td>\n",
              "    </tr>\n",
              "    <tr>\n",
              "      <th>374</th>\n",
              "      <td>485</td>\n",
              "      <td>4.104737</td>\n",
              "      <td>My Fair Lady (1964)</td>\n",
              "    </tr>\n",
              "    <tr>\n",
              "      <th>330</th>\n",
              "      <td>427</td>\n",
              "      <td>4.104737</td>\n",
              "      <td>To Kill a Mockingbird (1962)</td>\n",
              "    </tr>\n",
              "    <tr>\n",
              "      <th>452</th>\n",
              "      <td>588</td>\n",
              "      <td>4.097256</td>\n",
              "      <td>Beauty and the Beast (1991)</td>\n",
              "    </tr>\n",
              "    <tr>\n",
              "      <th>372</th>\n",
              "      <td>483</td>\n",
              "      <td>4.085099</td>\n",
              "      <td>Casablanca (1942)</td>\n",
              "    </tr>\n",
              "    <tr>\n",
              "      <th>244</th>\n",
              "      <td>318</td>\n",
              "      <td>4.075643</td>\n",
              "      <td>Schindler's List (1993)</td>\n",
              "    </tr>\n",
              "    <tr>\n",
              "      <th>9</th>\n",
              "      <td>12</td>\n",
              "      <td>4.030132</td>\n",
              "      <td>Usual Suspects, The (1995)</td>\n",
              "    </tr>\n",
              "    <tr>\n",
              "      <th>96</th>\n",
              "      <td>124</td>\n",
              "      <td>4.030132</td>\n",
              "      <td>Lone Star (1996)</td>\n",
              "    </tr>\n",
              "  </tbody>\n",
              "</table>\n",
              "</div>\n",
              "      <button class=\"colab-df-convert\" onclick=\"convertToInteractive('df-bd687a34-d37a-4c25-a310-e15576be628c')\"\n",
              "              title=\"Convert this dataframe to an interactive table.\"\n",
              "              style=\"display:none;\">\n",
              "        \n",
              "  <svg xmlns=\"http://www.w3.org/2000/svg\" height=\"24px\"viewBox=\"0 0 24 24\"\n",
              "       width=\"24px\">\n",
              "    <path d=\"M0 0h24v24H0V0z\" fill=\"none\"/>\n",
              "    <path d=\"M18.56 5.44l.94 2.06.94-2.06 2.06-.94-2.06-.94-.94-2.06-.94 2.06-2.06.94zm-11 1L8.5 8.5l.94-2.06 2.06-.94-2.06-.94L8.5 2.5l-.94 2.06-2.06.94zm10 10l.94 2.06.94-2.06 2.06-.94-2.06-.94-.94-2.06-.94 2.06-2.06.94z\"/><path d=\"M17.41 7.96l-1.37-1.37c-.4-.4-.92-.59-1.43-.59-.52 0-1.04.2-1.43.59L10.3 9.45l-7.72 7.72c-.78.78-.78 2.05 0 2.83L4 21.41c.39.39.9.59 1.41.59.51 0 1.02-.2 1.41-.59l7.78-7.78 2.81-2.81c.8-.78.8-2.07 0-2.86zM5.41 20L4 18.59l7.72-7.72 1.47 1.35L5.41 20z\"/>\n",
              "  </svg>\n",
              "      </button>\n",
              "      \n",
              "  <style>\n",
              "    .colab-df-container {\n",
              "      display:flex;\n",
              "      flex-wrap:wrap;\n",
              "      gap: 12px;\n",
              "    }\n",
              "\n",
              "    .colab-df-convert {\n",
              "      background-color: #E8F0FE;\n",
              "      border: none;\n",
              "      border-radius: 50%;\n",
              "      cursor: pointer;\n",
              "      display: none;\n",
              "      fill: #1967D2;\n",
              "      height: 32px;\n",
              "      padding: 0 0 0 0;\n",
              "      width: 32px;\n",
              "    }\n",
              "\n",
              "    .colab-df-convert:hover {\n",
              "      background-color: #E2EBFA;\n",
              "      box-shadow: 0px 1px 2px rgba(60, 64, 67, 0.3), 0px 1px 3px 1px rgba(60, 64, 67, 0.15);\n",
              "      fill: #174EA6;\n",
              "    }\n",
              "\n",
              "    [theme=dark] .colab-df-convert {\n",
              "      background-color: #3B4455;\n",
              "      fill: #D2E3FC;\n",
              "    }\n",
              "\n",
              "    [theme=dark] .colab-df-convert:hover {\n",
              "      background-color: #434B5C;\n",
              "      box-shadow: 0px 1px 3px 1px rgba(0, 0, 0, 0.15);\n",
              "      filter: drop-shadow(0px 1px 2px rgba(0, 0, 0, 0.3));\n",
              "      fill: #FFFFFF;\n",
              "    }\n",
              "  </style>\n",
              "\n",
              "      <script>\n",
              "        const buttonEl =\n",
              "          document.querySelector('#df-bd687a34-d37a-4c25-a310-e15576be628c button.colab-df-convert');\n",
              "        buttonEl.style.display =\n",
              "          google.colab.kernel.accessAllowed ? 'block' : 'none';\n",
              "\n",
              "        async function convertToInteractive(key) {\n",
              "          const element = document.querySelector('#df-bd687a34-d37a-4c25-a310-e15576be628c');\n",
              "          const dataTable =\n",
              "            await google.colab.kernel.invokeFunction('convertToInteractive',\n",
              "                                                     [key], {});\n",
              "          if (!dataTable) return;\n",
              "\n",
              "          const docLinkHtml = 'Like what you see? Visit the ' +\n",
              "            '<a target=\"_blank\" href=https://colab.research.google.com/notebooks/data_table.ipynb>data table notebook</a>'\n",
              "            + ' to learn more about interactive tables.';\n",
              "          element.innerHTML = '';\n",
              "          dataTable['output_type'] = 'display_data';\n",
              "          await google.colab.output.renderOutput(dataTable, element);\n",
              "          const docLink = document.createElement('div');\n",
              "          docLink.innerHTML = docLinkHtml;\n",
              "          element.appendChild(docLink);\n",
              "        }\n",
              "      </script>\n",
              "    </div>\n",
              "  </div>\n",
              "  "
            ]
          },
          "metadata": {},
          "execution_count": 57
        }
      ]
    },
    {
      "cell_type": "code",
      "source": [
        "df_resultado_popularidade_atual = current_wr_imdb(get_recommendations_clusterized('2', dataset_usuarios, dataset_train))\n",
        "plt.figure()\n",
        "ax = sns.countplot(x='sexo', data=dataset_usuarios, color='#404040')\n",
        "sns.set(style='darkgrid', rc={'figure.figsize': (12,8)})\n",
        "plt.title('Quantidade de avaliações por gênero', fontsize=18)\n",
        "plt.ylabel('Quantidade de avaliações', fontsize=15)\n",
        "plt.xlabel('Gênero', fontsize=15)\n",
        "for p in ax.patches:\n",
        "   ax.annotate(format(p.get_height(), '.0f'), \n",
        "                   (p.get_x() + p.get_width() / 2., p.get_height()), \n",
        "                   ha = 'center', va = 'center', \n",
        "                   xytext = (0, 9), \n",
        "                   textcoords = 'offset points')\n",
        "\n",
        "plt.savefig(\"genero_avaliadores.png\",dpi=400, bbox_inches='tight')\n",
        "plt.show()"
      ],
      "metadata": {
        "colab": {
          "base_uri": "https://localhost:8080/",
          "height": 307
        },
        "id": "kThYJ8K9fIS7",
        "outputId": "84ad89f8-ef1f-473d-a233-fb6d46d37126"
      },
      "execution_count": 58,
      "outputs": [
        {
          "output_type": "display_data",
          "data": {
            "text/plain": [
              "<Figure size 432x288 with 1 Axes>"
            ],
            "image/png": "[encoded data removed]"
          },
          "metadata": {}
        }
      ]
    },
    {
      "cell_type": "code",
      "execution_count": 59,
      "metadata": {
        "id": "lgPXY4je2LeU"
      },
      "outputs": [],
      "source": [
        "dataset_resultado_popularidade_atual = current_wr_imdb(get_recommendations_clusterized('3', dataset_usuarios, dataset_train))"
      ]
    },
    {
      "cell_type": "code",
      "execution_count": 60,
      "metadata": {
        "id": "CxG5Cokg3IBu",
        "colab": {
          "base_uri": "https://localhost:8080/",
          "height": 363
        },
        "outputId": "bf333b6c-6e92-4718-9388-20bde247f8ee"
      },
      "outputs": [
        {
          "output_type": "execute_result",
          "data": {
            "text/plain": [
              "     id_filme  popularidade                              nome_filme\n",
              "41         50      4.361594                        Star Wars (1977)\n",
              "116       134      4.266289                     Citizen Kane (1941)\n",
              "110       127      4.222811                   Godfather, The (1972)\n",
              "388       484      4.217087              Maltese Falcon, The (1941)\n",
              "387       483      4.204986                       Casablanca (1942)\n",
              "176       199      4.173591    Bridge on the River Kwai, The (1957)\n",
              "419       515      4.164455                        Boot, Das (1981)\n",
              "286       357      4.106232  One Flew Over the Cuckoo's Nest (1975)\n",
              "168       191      4.101174                          Amadeus (1984)\n",
              "117       135      4.088527            2001: A Space Odyssey (1968)"
            ],
            "text/html": [
              "\n",
              "  <div id=\"df-bd6d1f52-7c81-42e8-88a4-ba624dd5064c\">\n",
              "    <div class=\"colab-df-container\">\n",
              "      <div>\n",
              "<style scoped>\n",
              "    .dataframe tbody tr th:only-of-type {\n",
              "        vertical-align: middle;\n",
              "    }\n",
              "\n",
              "    .dataframe tbody tr th {\n",
              "        vertical-align: top;\n",
              "    }\n",
              "\n",
              "    .dataframe thead th {\n",
              "        text-align: right;\n",
              "    }\n",
              "</style>\n",
              "<table border=\"1\" class=\"dataframe\">\n",
              "  <thead>\n",
              "    <tr style=\"text-align: right;\">\n",
              "      <th></th>\n",
              "      <th>id_filme</th>\n",
              "      <th>popularidade</th>\n",
              "      <th>nome_filme</th>\n",
              "    </tr>\n",
              "  </thead>\n",
              "  <tbody>\n",
              "    <tr>\n",
              "      <th>41</th>\n",
              "      <td>50</td>\n",
              "      <td>4.361594</td>\n",
              "      <td>Star Wars (1977)</td>\n",
              "    </tr>\n",
              "    <tr>\n",
              "      <th>116</th>\n",
              "      <td>134</td>\n",
              "      <td>4.266289</td>\n",
              "      <td>Citizen Kane (1941)</td>\n",
              "    </tr>\n",
              "    <tr>\n",
              "      <th>110</th>\n",
              "      <td>127</td>\n",
              "      <td>4.222811</td>\n",
              "      <td>Godfather, The (1972)</td>\n",
              "    </tr>\n",
              "    <tr>\n",
              "      <th>388</th>\n",
              "      <td>484</td>\n",
              "      <td>4.217087</td>\n",
              "      <td>Maltese Falcon, The (1941)</td>\n",
              "    </tr>\n",
              "    <tr>\n",
              "      <th>387</th>\n",
              "      <td>483</td>\n",
              "      <td>4.204986</td>\n",
              "      <td>Casablanca (1942)</td>\n",
              "    </tr>\n",
              "    <tr>\n",
              "      <th>176</th>\n",
              "      <td>199</td>\n",
              "      <td>4.173591</td>\n",
              "      <td>Bridge on the River Kwai, The (1957)</td>\n",
              "    </tr>\n",
              "    <tr>\n",
              "      <th>419</th>\n",
              "      <td>515</td>\n",
              "      <td>4.164455</td>\n",
              "      <td>Boot, Das (1981)</td>\n",
              "    </tr>\n",
              "    <tr>\n",
              "      <th>286</th>\n",
              "      <td>357</td>\n",
              "      <td>4.106232</td>\n",
              "      <td>One Flew Over the Cuckoo's Nest (1975)</td>\n",
              "    </tr>\n",
              "    <tr>\n",
              "      <th>168</th>\n",
              "      <td>191</td>\n",
              "      <td>4.101174</td>\n",
              "      <td>Amadeus (1984)</td>\n",
              "    </tr>\n",
              "    <tr>\n",
              "      <th>117</th>\n",
              "      <td>135</td>\n",
              "      <td>4.088527</td>\n",
              "      <td>2001: A Space Odyssey (1968)</td>\n",
              "    </tr>\n",
              "  </tbody>\n",
              "</table>\n",
              "</div>\n",
              "      <button class=\"colab-df-convert\" onclick=\"convertToInteractive('df-bd6d1f52-7c81-42e8-88a4-ba624dd5064c')\"\n",
              "              title=\"Convert this dataframe to an interactive table.\"\n",
              "              style=\"display:none;\">\n",
              "        \n",
              "  <svg xmlns=\"http://www.w3.org/2000/svg\" height=\"24px\"viewBox=\"0 0 24 24\"\n",
              "       width=\"24px\">\n",
              "    <path d=\"M0 0h24v24H0V0z\" fill=\"none\"/>\n",
              "    <path d=\"M18.56 5.44l.94 2.06.94-2.06 2.06-.94-2.06-.94-.94-2.06-.94 2.06-2.06.94zm-11 1L8.5 8.5l.94-2.06 2.06-.94-2.06-.94L8.5 2.5l-.94 2.06-2.06.94zm10 10l.94 2.06.94-2.06 2.06-.94-2.06-.94-.94-2.06-.94 2.06-2.06.94z\"/><path d=\"M17.41 7.96l-1.37-1.37c-.4-.4-.92-.59-1.43-.59-.52 0-1.04.2-1.43.59L10.3 9.45l-7.72 7.72c-.78.78-.78 2.05 0 2.83L4 21.41c.39.39.9.59 1.41.59.51 0 1.02-.2 1.41-.59l7.78-7.78 2.81-2.81c.8-.78.8-2.07 0-2.86zM5.41 20L4 18.59l7.72-7.72 1.47 1.35L5.41 20z\"/>\n",
              "  </svg>\n",
              "      </button>\n",
              "      \n",
              "  <style>\n",
              "    .colab-df-container {\n",
              "      display:flex;\n",
              "      flex-wrap:wrap;\n",
              "      gap: 12px;\n",
              "    }\n",
              "\n",
              "    .colab-df-convert {\n",
              "      background-color: #E8F0FE;\n",
              "      border: none;\n",
              "      border-radius: 50%;\n",
              "      cursor: pointer;\n",
              "      display: none;\n",
              "      fill: #1967D2;\n",
              "      height: 32px;\n",
              "      padding: 0 0 0 0;\n",
              "      width: 32px;\n",
              "    }\n",
              "\n",
              "    .colab-df-convert:hover {\n",
              "      background-color: #E2EBFA;\n",
              "      box-shadow: 0px 1px 2px rgba(60, 64, 67, 0.3), 0px 1px 3px 1px rgba(60, 64, 67, 0.15);\n",
              "      fill: #174EA6;\n",
              "    }\n",
              "\n",
              "    [theme=dark] .colab-df-convert {\n",
              "      background-color: #3B4455;\n",
              "      fill: #D2E3FC;\n",
              "    }\n",
              "\n",
              "    [theme=dark] .colab-df-convert:hover {\n",
              "      background-color: #434B5C;\n",
              "      box-shadow: 0px 1px 3px 1px rgba(0, 0, 0, 0.15);\n",
              "      filter: drop-shadow(0px 1px 2px rgba(0, 0, 0, 0.3));\n",
              "      fill: #FFFFFF;\n",
              "    }\n",
              "  </style>\n",
              "\n",
              "      <script>\n",
              "        const buttonEl =\n",
              "          document.querySelector('#df-bd6d1f52-7c81-42e8-88a4-ba624dd5064c button.colab-df-convert');\n",
              "        buttonEl.style.display =\n",
              "          google.colab.kernel.accessAllowed ? 'block' : 'none';\n",
              "\n",
              "        async function convertToInteractive(key) {\n",
              "          const element = document.querySelector('#df-bd6d1f52-7c81-42e8-88a4-ba624dd5064c');\n",
              "          const dataTable =\n",
              "            await google.colab.kernel.invokeFunction('convertToInteractive',\n",
              "                                                     [key], {});\n",
              "          if (!dataTable) return;\n",
              "\n",
              "          const docLinkHtml = 'Like what you see? Visit the ' +\n",
              "            '<a target=\"_blank\" href=https://colab.research.google.com/notebooks/data_table.ipynb>data table notebook</a>'\n",
              "            + ' to learn more about interactive tables.';\n",
              "          element.innerHTML = '';\n",
              "          dataTable['output_type'] = 'display_data';\n",
              "          await google.colab.output.renderOutput(dataTable, element);\n",
              "          const docLink = document.createElement('div');\n",
              "          docLink.innerHTML = docLinkHtml;\n",
              "          element.appendChild(docLink);\n",
              "        }\n",
              "      </script>\n",
              "    </div>\n",
              "  </div>\n",
              "  "
            ]
          },
          "metadata": {},
          "execution_count": 60
        }
      ],
      "source": [
        "dataset_resultado_popularidade_atual.merge(dataset_item[['id_filme','nome_filme']], left_on='id_filme', right_on='id_filme', how='left').sort_values(by='popularidade', ascending=False).head(10)"
      ]
    },
    {
      "cell_type": "code",
      "execution_count": 61,
      "metadata": {
        "id": "479urT_LUGXk"
      },
      "outputs": [],
      "source": [
        "reader = Reader(rating_scale=(1, 5))\n",
        "svd = SVD()"
      ]
    },
    {
      "cell_type": "code",
      "execution_count": 62,
      "metadata": {
        "id": "e0x4ehpeVmZw",
        "colab": {
          "base_uri": "https://localhost:8080/"
        },
        "outputId": "7051c4fa-5486-4c68-d5c2-d9029cb50f82"
      },
      "outputs": [
        {
          "output_type": "stream",
          "name": "stdout",
          "text": [
            "Evaluating RMSE, MAE of algorithm SVD on 3 split(s).\n",
            "\n",
            "                  Fold 1  Fold 2  Fold 3  Mean    Std     \n",
            "RMSE (testset)    0.9508  0.9544  0.9499  0.9517  0.0020  \n",
            "MAE (testset)     0.7539  0.7550  0.7503  0.7531  0.0020  \n",
            "Fit time          2.64    3.55    2.64    2.95    0.43    \n",
            "Test time         0.34    0.16    0.19    0.23    0.08    \n"
          ]
        },
        {
          "output_type": "execute_result",
          "data": {
            "text/plain": [
              "{'test_rmse': array([0.95080572, 0.95443767, 0.94991574]),\n",
              " 'test_mae': array([0.75385451, 0.75503407, 0.7503044 ]),\n",
              " 'fit_time': (2.644171714782715, 3.55148983001709, 2.6442747116088867),\n",
              " 'test_time': (0.3381383419036865, 0.16180968284606934, 0.1902763843536377)}"
            ]
          },
          "metadata": {},
          "execution_count": 62
        }
      ],
      "source": [
        "data = Dataset.load_from_df(dataset_train[['id_usuario', 'id_filme', 'avaliacao']], reader)\n",
        "cross_validate(svd, data, measures=['RMSE', 'MAE'], cv=3, verbose=True)"
      ]
    },
    {
      "cell_type": "code",
      "execution_count": 63,
      "metadata": {
        "id": "7umwyr2-V5T2",
        "colab": {
          "base_uri": "https://localhost:8080/"
        },
        "outputId": "297a1c4d-e620-4533-bec3-f96b313e8a60"
      },
      "outputs": [
        {
          "output_type": "execute_result",
          "data": {
            "text/plain": [
              "<surprise.prediction_algorithms.matrix_factorization.SVD at 0x7fce79898f90>"
            ]
          },
          "metadata": {},
          "execution_count": 63
        }
      ],
      "source": [
        "trainset = data.build_full_trainset()\n",
        "svd.fit(trainset)"
      ]
    },
    {
      "cell_type": "code",
      "execution_count": 64,
      "metadata": {
        "id": "vwe_rYXsV7Zs",
        "colab": {
          "base_uri": "https://localhost:8080/"
        },
        "outputId": "2dca021c-8dd8-4057-eb0b-562fff91d5f9"
      },
      "outputs": [
        {
          "output_type": "execute_result",
          "data": {
            "text/plain": [
              "3.6559617820621546"
            ]
          },
          "metadata": {},
          "execution_count": 64
        }
      ],
      "source": [
        "svd.predict('2', '296').est"
      ]
    },
    {
      "cell_type": "code",
      "execution_count": 65,
      "metadata": {
        "id": "UX4MqxviWQ9H",
        "colab": {
          "base_uri": "https://localhost:8080/",
          "height": 143
        },
        "outputId": "b7588c9a-4856-41aa-cee7-9e7ee2d56b75"
      },
      "outputs": [
        {
          "output_type": "execute_result",
          "data": {
            "text/plain": [
              "     id_filme  popularidade                    nome_filme\n",
              "384       496      4.258583  It's a Wonderful Life (1946)\n",
              "459       603      4.157439            Rear Window (1954)\n",
              "180       213      4.113465    Room with a View, A (1986)"
            ],
            "text/html": [
              "\n",
              "  <div id=\"df-9f9bcce6-74ea-4db8-85b0-735c3b572f13\">\n",
              "    <div class=\"colab-df-container\">\n",
              "      <div>\n",
              "<style scoped>\n",
              "    .dataframe tbody tr th:only-of-type {\n",
              "        vertical-align: middle;\n",
              "    }\n",
              "\n",
              "    .dataframe tbody tr th {\n",
              "        vertical-align: top;\n",
              "    }\n",
              "\n",
              "    .dataframe thead th {\n",
              "        text-align: right;\n",
              "    }\n",
              "</style>\n",
              "<table border=\"1\" class=\"dataframe\">\n",
              "  <thead>\n",
              "    <tr style=\"text-align: right;\">\n",
              "      <th></th>\n",
              "      <th>id_filme</th>\n",
              "      <th>popularidade</th>\n",
              "      <th>nome_filme</th>\n",
              "    </tr>\n",
              "  </thead>\n",
              "  <tbody>\n",
              "    <tr>\n",
              "      <th>384</th>\n",
              "      <td>496</td>\n",
              "      <td>4.258583</td>\n",
              "      <td>It's a Wonderful Life (1946)</td>\n",
              "    </tr>\n",
              "    <tr>\n",
              "      <th>459</th>\n",
              "      <td>603</td>\n",
              "      <td>4.157439</td>\n",
              "      <td>Rear Window (1954)</td>\n",
              "    </tr>\n",
              "    <tr>\n",
              "      <th>180</th>\n",
              "      <td>213</td>\n",
              "      <td>4.113465</td>\n",
              "      <td>Room with a View, A (1986)</td>\n",
              "    </tr>\n",
              "  </tbody>\n",
              "</table>\n",
              "</div>\n",
              "      <button class=\"colab-df-convert\" onclick=\"convertToInteractive('df-9f9bcce6-74ea-4db8-85b0-735c3b572f13')\"\n",
              "              title=\"Convert this dataframe to an interactive table.\"\n",
              "              style=\"display:none;\">\n",
              "        \n",
              "  <svg xmlns=\"http://www.w3.org/2000/svg\" height=\"24px\"viewBox=\"0 0 24 24\"\n",
              "       width=\"24px\">\n",
              "    <path d=\"M0 0h24v24H0V0z\" fill=\"none\"/>\n",
              "    <path d=\"M18.56 5.44l.94 2.06.94-2.06 2.06-.94-2.06-.94-.94-2.06-.94 2.06-2.06.94zm-11 1L8.5 8.5l.94-2.06 2.06-.94-2.06-.94L8.5 2.5l-.94 2.06-2.06.94zm10 10l.94 2.06.94-2.06 2.06-.94-2.06-.94-.94-2.06-.94 2.06-2.06.94z\"/><path d=\"M17.41 7.96l-1.37-1.37c-.4-.4-.92-.59-1.43-.59-.52 0-1.04.2-1.43.59L10.3 9.45l-7.72 7.72c-.78.78-.78 2.05 0 2.83L4 21.41c.39.39.9.59 1.41.59.51 0 1.02-.2 1.41-.59l7.78-7.78 2.81-2.81c.8-.78.8-2.07 0-2.86zM5.41 20L4 18.59l7.72-7.72 1.47 1.35L5.41 20z\"/>\n",
              "  </svg>\n",
              "      </button>\n",
              "      \n",
              "  <style>\n",
              "    .colab-df-container {\n",
              "      display:flex;\n",
              "      flex-wrap:wrap;\n",
              "      gap: 12px;\n",
              "    }\n",
              "\n",
              "    .colab-df-convert {\n",
              "      background-color: #E8F0FE;\n",
              "      border: none;\n",
              "      border-radius: 50%;\n",
              "      cursor: pointer;\n",
              "      display: none;\n",
              "      fill: #1967D2;\n",
              "      height: 32px;\n",
              "      padding: 0 0 0 0;\n",
              "      width: 32px;\n",
              "    }\n",
              "\n",
              "    .colab-df-convert:hover {\n",
              "      background-color: #E2EBFA;\n",
              "      box-shadow: 0px 1px 2px rgba(60, 64, 67, 0.3), 0px 1px 3px 1px rgba(60, 64, 67, 0.15);\n",
              "      fill: #174EA6;\n",
              "    }\n",
              "\n",
              "    [theme=dark] .colab-df-convert {\n",
              "      background-color: #3B4455;\n",
              "      fill: #D2E3FC;\n",
              "    }\n",
              "\n",
              "    [theme=dark] .colab-df-convert:hover {\n",
              "      background-color: #434B5C;\n",
              "      box-shadow: 0px 1px 3px 1px rgba(0, 0, 0, 0.15);\n",
              "      filter: drop-shadow(0px 1px 2px rgba(0, 0, 0, 0.3));\n",
              "      fill: #FFFFFF;\n",
              "    }\n",
              "  </style>\n",
              "\n",
              "      <script>\n",
              "        const buttonEl =\n",
              "          document.querySelector('#df-9f9bcce6-74ea-4db8-85b0-735c3b572f13 button.colab-df-convert');\n",
              "        buttonEl.style.display =\n",
              "          google.colab.kernel.accessAllowed ? 'block' : 'none';\n",
              "\n",
              "        async function convertToInteractive(key) {\n",
              "          const element = document.querySelector('#df-9f9bcce6-74ea-4db8-85b0-735c3b572f13');\n",
              "          const dataTable =\n",
              "            await google.colab.kernel.invokeFunction('convertToInteractive',\n",
              "                                                     [key], {});\n",
              "          if (!dataTable) return;\n",
              "\n",
              "          const docLinkHtml = 'Like what you see? Visit the ' +\n",
              "            '<a target=\"_blank\" href=https://colab.research.google.com/notebooks/data_table.ipynb>data table notebook</a>'\n",
              "            + ' to learn more about interactive tables.';\n",
              "          element.innerHTML = '';\n",
              "          dataTable['output_type'] = 'display_data';\n",
              "          await google.colab.output.renderOutput(dataTable, element);\n",
              "          const docLink = document.createElement('div');\n",
              "          docLink.innerHTML = docLinkHtml;\n",
              "          element.appendChild(docLink);\n",
              "        }\n",
              "      </script>\n",
              "    </div>\n",
              "  </div>\n",
              "  "
            ]
          },
          "metadata": {},
          "execution_count": 65
        }
      ],
      "source": [
        "dataset_resultado_popularidade_atual = current_wr_imdb(get_recommendations_clusterized('2', dataset_usuarios, dataset_train))\n",
        "dataset_resultado_popularidade_atual.merge(dataset_item[['id_filme','nome_filme']], left_on='id_filme', right_on='id_filme', how='left').sort_values(by='popularidade', ascending=False).head(3)"
      ]
    },
    {
      "cell_type": "code",
      "execution_count": 66,
      "metadata": {
        "id": "eP-EglhVtamD",
        "colab": {
          "base_uri": "https://localhost:8080/"
        },
        "outputId": "05b38c18-f78b-47a7-d648-bc5d3a77ac2f"
      },
      "outputs": [
        {
          "output_type": "execute_result",
          "data": {
            "text/plain": [
              "3.6559617820621546"
            ]
          },
          "metadata": {},
          "execution_count": 66
        }
      ],
      "source": [
        "svd.predict('2', '357').est"
      ]
    },
    {
      "cell_type": "code",
      "execution_count": 67,
      "metadata": {
        "id": "xK1Jwg5hX8_a",
        "colab": {
          "base_uri": "https://localhost:8080/"
        },
        "outputId": "6a2ba880-cb24-4cfd-8f09-6d6029270a12"
      },
      "outputs": [
        {
          "output_type": "execute_result",
          "data": {
            "text/plain": [
              "3.6559617820621546"
            ]
          },
          "metadata": {},
          "execution_count": 67
        }
      ],
      "source": [
        "svd.predict('2', '528').est"
      ]
    },
    {
      "cell_type": "code",
      "execution_count": 68,
      "metadata": {
        "id": "ieCT9y38YL2V"
      },
      "outputs": [],
      "source": [
        "def get_recommendations_collaborative_filtering(iid_usuario, dataframe_svd, dataframe_filmes, dataframe, n=5, nome_coluna_id_filme='id_filme', nome_coluna_id_usuario = 'id_usuario'):  \n",
        "  films_list = list(dataframe_filmes[nome_coluna_id_filme].unique())\n",
        "  score_list = []\n",
        "    \n",
        "  for f in films_list:\n",
        "    score_list.append(dataframe_svd.predict(str(iid_usuario), str(f)).est)\n",
        "        \n",
        "    dataframe_output = pd.DataFrame([str(iid_usuario)]*len(films_list), columns=[nome_coluna_id_usuario])\n",
        "    dataframe_output[nome_coluna_id_filme] = films_list\n",
        "    dataframe_output['avaliacao'] = score_list\n",
        "    dataframe_output = dataframe_output.sort_values(by='avaliacao',ascending=False)\n",
        "    dataset_aux = dataframe[dataframe[nome_coluna_id_usuario]==iid_usuario][[nome_coluna_id_filme, 'data_avaliacao']]\n",
        "    dataframe_output = dataframe_output.merge(dataset_aux, how='left', left_on=nome_coluna_id_filme, right_on=nome_coluna_id_filme)\n",
        "    dataframe_output = dataframe_output[dataframe_output['data_avaliacao'].isna()]\n",
        "    dataframe_output.drop(columns=['data_avaliacao'],inplace=True)\n",
        "\n",
        "    return dataframe_output.head(n)"
      ]
    },
    {
      "cell_type": "code",
      "execution_count": 73,
      "metadata": {
        "id": "4yjSerlgUjjH",
        "colab": {
          "base_uri": "https://localhost:8080/",
          "height": 365
        },
        "outputId": "a2c385bf-1664-4a61-8583-b1e66cc43b1f"
      },
      "outputs": [
        {
          "output_type": "error",
          "ename": "ValueError",
          "evalue": "ignored",
          "traceback": [
            "\u001b[0;31m---------------------------------------------------------------------------\u001b[0m",
            "\u001b[0;31mValueError\u001b[0m                                Traceback (most recent call last)",
            "\u001b[0;32m<ipython-input-73-0bbb53696963>\u001b[0m in \u001b[0;36m<module>\u001b[0;34m\u001b[0m\n\u001b[0;32m----> 1\u001b[0;31m \u001b[0mdataset_resultado_filtragem_colaborativa\u001b[0m \u001b[0;34m=\u001b[0m \u001b[0mget_recommendations_collaborative_filtering\u001b[0m\u001b[0;34m(\u001b[0m\u001b[0;34m'2'\u001b[0m\u001b[0;34m,\u001b[0m\u001b[0msvd\u001b[0m\u001b[0;34m,\u001b[0m\u001b[0mdataset_item\u001b[0m\u001b[0;34m,\u001b[0m \u001b[0mdataset_train\u001b[0m\u001b[0;34m,\u001b[0m \u001b[0;36m10\u001b[0m\u001b[0;34m)\u001b[0m\u001b[0;34m\u001b[0m\u001b[0;34m\u001b[0m\u001b[0m\n\u001b[0m\u001b[1;32m      2\u001b[0m \u001b[0mdataset_resultado_filtragem_colaborativa\u001b[0m\u001b[0;34m.\u001b[0m\u001b[0mmerge\u001b[0m\u001b[0;34m(\u001b[0m\u001b[0mdataset_item\u001b[0m\u001b[0;34m[\u001b[0m\u001b[0;34m[\u001b[0m\u001b[0;34m'id_filme'\u001b[0m\u001b[0;34m,\u001b[0m\u001b[0;34m'nome_filme'\u001b[0m\u001b[0;34m]\u001b[0m\u001b[0;34m]\u001b[0m\u001b[0;34m,\u001b[0m \u001b[0mleft_on\u001b[0m\u001b[0;34m=\u001b[0m\u001b[0;34m'id_filme'\u001b[0m\u001b[0;34m,\u001b[0m \u001b[0mright_on\u001b[0m\u001b[0;34m=\u001b[0m\u001b[0;34m'id_filme'\u001b[0m\u001b[0;34m,\u001b[0m \u001b[0mhow\u001b[0m\u001b[0;34m=\u001b[0m\u001b[0;34m'left'\u001b[0m\u001b[0;34m)\u001b[0m\u001b[0;34m\u001b[0m\u001b[0;34m\u001b[0m\u001b[0m\n",
            "\u001b[0;32m<ipython-input-68-7bc5575e164b>\u001b[0m in \u001b[0;36mget_recommendations_collaborative_filtering\u001b[0;34m(iid_usuario, dataframe_svd, dataframe_filmes, dataframe, n, nome_coluna_id_filme, nome_coluna_id_usuario)\u001b[0m\n\u001b[1;32m      8\u001b[0m     \u001b[0mdataframe_output\u001b[0m \u001b[0;34m=\u001b[0m \u001b[0mpd\u001b[0m\u001b[0;34m.\u001b[0m\u001b[0mDataFrame\u001b[0m\u001b[0;34m(\u001b[0m\u001b[0;34m[\u001b[0m\u001b[0mstr\u001b[0m\u001b[0;34m(\u001b[0m\u001b[0miid_usuario\u001b[0m\u001b[0;34m)\u001b[0m\u001b[0;34m]\u001b[0m\u001b[0;34m*\u001b[0m\u001b[0mlen\u001b[0m\u001b[0;34m(\u001b[0m\u001b[0mfilms_list\u001b[0m\u001b[0;34m)\u001b[0m\u001b[0;34m,\u001b[0m \u001b[0mcolumns\u001b[0m\u001b[0;34m=\u001b[0m\u001b[0;34m[\u001b[0m\u001b[0mnome_coluna_id_usuario\u001b[0m\u001b[0;34m]\u001b[0m\u001b[0;34m)\u001b[0m\u001b[0;34m\u001b[0m\u001b[0;34m\u001b[0m\u001b[0m\n\u001b[1;32m      9\u001b[0m     \u001b[0mdataframe_output\u001b[0m\u001b[0;34m[\u001b[0m\u001b[0mnome_coluna_id_filme\u001b[0m\u001b[0;34m]\u001b[0m \u001b[0;34m=\u001b[0m \u001b[0mfilms_list\u001b[0m\u001b[0;34m\u001b[0m\u001b[0;34m\u001b[0m\u001b[0m\n\u001b[0;32m---> 10\u001b[0;31m     \u001b[0mdataframe_output\u001b[0m\u001b[0;34m[\u001b[0m\u001b[0;34m'avaliacao'\u001b[0m\u001b[0;34m]\u001b[0m \u001b[0;34m=\u001b[0m \u001b[0mscore_list\u001b[0m\u001b[0;34m\u001b[0m\u001b[0;34m\u001b[0m\u001b[0m\n\u001b[0m\u001b[1;32m     11\u001b[0m     \u001b[0mdataframe_output\u001b[0m \u001b[0;34m=\u001b[0m \u001b[0mdataframe_output\u001b[0m\u001b[0;34m.\u001b[0m\u001b[0msort_values\u001b[0m\u001b[0;34m(\u001b[0m\u001b[0mby\u001b[0m\u001b[0;34m=\u001b[0m\u001b[0;34m'avaliacao'\u001b[0m\u001b[0;34m,\u001b[0m\u001b[0mascending\u001b[0m\u001b[0;34m=\u001b[0m\u001b[0;32mFalse\u001b[0m\u001b[0;34m)\u001b[0m\u001b[0;34m\u001b[0m\u001b[0;34m\u001b[0m\u001b[0m\n\u001b[1;32m     12\u001b[0m     \u001b[0mdataset_aux\u001b[0m \u001b[0;34m=\u001b[0m \u001b[0mdataframe\u001b[0m\u001b[0;34m[\u001b[0m\u001b[0mdataframe\u001b[0m\u001b[0;34m[\u001b[0m\u001b[0mnome_coluna_id_usuario\u001b[0m\u001b[0;34m]\u001b[0m\u001b[0;34m==\u001b[0m\u001b[0miid_usuario\u001b[0m\u001b[0;34m]\u001b[0m\u001b[0;34m[\u001b[0m\u001b[0;34m[\u001b[0m\u001b[0mnome_coluna_id_filme\u001b[0m\u001b[0;34m,\u001b[0m \u001b[0;34m'data_avaliacao'\u001b[0m\u001b[0;34m]\u001b[0m\u001b[0;34m]\u001b[0m\u001b[0;34m\u001b[0m\u001b[0;34m\u001b[0m\u001b[0m\n",
            "\u001b[0;32m/usr/local/lib/python3.7/dist-packages/pandas/core/frame.py\u001b[0m in \u001b[0;36m__setitem__\u001b[0;34m(self, key, value)\u001b[0m\n\u001b[1;32m   3610\u001b[0m         \u001b[0;32melse\u001b[0m\u001b[0;34m:\u001b[0m\u001b[0;34m\u001b[0m\u001b[0;34m\u001b[0m\u001b[0m\n\u001b[1;32m   3611\u001b[0m             \u001b[0;31m# set column\u001b[0m\u001b[0;34m\u001b[0m\u001b[0;34m\u001b[0m\u001b[0;34m\u001b[0m\u001b[0m\n\u001b[0;32m-> 3612\u001b[0;31m             \u001b[0mself\u001b[0m\u001b[0;34m.\u001b[0m\u001b[0m_set_item\u001b[0m\u001b[0;34m(\u001b[0m\u001b[0mkey\u001b[0m\u001b[0;34m,\u001b[0m \u001b[0mvalue\u001b[0m\u001b[0;34m)\u001b[0m\u001b[0;34m\u001b[0m\u001b[0;34m\u001b[0m\u001b[0m\n\u001b[0m\u001b[1;32m   3613\u001b[0m \u001b[0;34m\u001b[0m\u001b[0m\n\u001b[1;32m   3614\u001b[0m     \u001b[0;32mdef\u001b[0m \u001b[0m_setitem_slice\u001b[0m\u001b[0;34m(\u001b[0m\u001b[0mself\u001b[0m\u001b[0;34m,\u001b[0m \u001b[0mkey\u001b[0m\u001b[0;34m:\u001b[0m \u001b[0mslice\u001b[0m\u001b[0;34m,\u001b[0m \u001b[0mvalue\u001b[0m\u001b[0;34m)\u001b[0m\u001b[0;34m:\u001b[0m\u001b[0;34m\u001b[0m\u001b[0;34m\u001b[0m\u001b[0m\n",
            "\u001b[0;32m/usr/local/lib/python3.7/dist-packages/pandas/core/frame.py\u001b[0m in \u001b[0;36m_set_item\u001b[0;34m(self, key, value)\u001b[0m\n\u001b[1;32m   3782\u001b[0m         \u001b[0mensure\u001b[0m \u001b[0mhomogeneity\u001b[0m\u001b[0;34m.\u001b[0m\u001b[0;34m\u001b[0m\u001b[0;34m\u001b[0m\u001b[0m\n\u001b[1;32m   3783\u001b[0m         \"\"\"\n\u001b[0;32m-> 3784\u001b[0;31m         \u001b[0mvalue\u001b[0m \u001b[0;34m=\u001b[0m \u001b[0mself\u001b[0m\u001b[0;34m.\u001b[0m\u001b[0m_sanitize_column\u001b[0m\u001b[0;34m(\u001b[0m\u001b[0mvalue\u001b[0m\u001b[0;34m)\u001b[0m\u001b[0;34m\u001b[0m\u001b[0;34m\u001b[0m\u001b[0m\n\u001b[0m\u001b[1;32m   3785\u001b[0m \u001b[0;34m\u001b[0m\u001b[0m\n\u001b[1;32m   3786\u001b[0m         if (\n",
            "\u001b[0;32m/usr/local/lib/python3.7/dist-packages/pandas/core/frame.py\u001b[0m in \u001b[0;36m_sanitize_column\u001b[0;34m(self, value)\u001b[0m\n\u001b[1;32m   4507\u001b[0m \u001b[0;34m\u001b[0m\u001b[0m\n\u001b[1;32m   4508\u001b[0m         \u001b[0;32mif\u001b[0m \u001b[0mis_list_like\u001b[0m\u001b[0;34m(\u001b[0m\u001b[0mvalue\u001b[0m\u001b[0;34m)\u001b[0m\u001b[0;34m:\u001b[0m\u001b[0;34m\u001b[0m\u001b[0;34m\u001b[0m\u001b[0m\n\u001b[0;32m-> 4509\u001b[0;31m             \u001b[0mcom\u001b[0m\u001b[0;34m.\u001b[0m\u001b[0mrequire_length_match\u001b[0m\u001b[0;34m(\u001b[0m\u001b[0mvalue\u001b[0m\u001b[0;34m,\u001b[0m \u001b[0mself\u001b[0m\u001b[0;34m.\u001b[0m\u001b[0mindex\u001b[0m\u001b[0;34m)\u001b[0m\u001b[0;34m\u001b[0m\u001b[0;34m\u001b[0m\u001b[0m\n\u001b[0m\u001b[1;32m   4510\u001b[0m         \u001b[0;32mreturn\u001b[0m \u001b[0msanitize_array\u001b[0m\u001b[0;34m(\u001b[0m\u001b[0mvalue\u001b[0m\u001b[0;34m,\u001b[0m \u001b[0mself\u001b[0m\u001b[0;34m.\u001b[0m\u001b[0mindex\u001b[0m\u001b[0;34m,\u001b[0m \u001b[0mcopy\u001b[0m\u001b[0;34m=\u001b[0m\u001b[0;32mTrue\u001b[0m\u001b[0;34m,\u001b[0m \u001b[0mallow_2d\u001b[0m\u001b[0;34m=\u001b[0m\u001b[0;32mTrue\u001b[0m\u001b[0;34m)\u001b[0m\u001b[0;34m\u001b[0m\u001b[0;34m\u001b[0m\u001b[0m\n\u001b[1;32m   4511\u001b[0m \u001b[0;34m\u001b[0m\u001b[0m\n",
            "\u001b[0;32m/usr/local/lib/python3.7/dist-packages/pandas/core/common.py\u001b[0m in \u001b[0;36mrequire_length_match\u001b[0;34m(data, index)\u001b[0m\n\u001b[1;32m    530\u001b[0m     \u001b[0;32mif\u001b[0m \u001b[0mlen\u001b[0m\u001b[0;34m(\u001b[0m\u001b[0mdata\u001b[0m\u001b[0;34m)\u001b[0m \u001b[0;34m!=\u001b[0m \u001b[0mlen\u001b[0m\u001b[0;34m(\u001b[0m\u001b[0mindex\u001b[0m\u001b[0;34m)\u001b[0m\u001b[0;34m:\u001b[0m\u001b[0;34m\u001b[0m\u001b[0;34m\u001b[0m\u001b[0m\n\u001b[1;32m    531\u001b[0m         raise ValueError(\n\u001b[0;32m--> 532\u001b[0;31m             \u001b[0;34m\"Length of values \"\u001b[0m\u001b[0;34m\u001b[0m\u001b[0;34m\u001b[0m\u001b[0m\n\u001b[0m\u001b[1;32m    533\u001b[0m             \u001b[0;34mf\"({len(data)}) \"\u001b[0m\u001b[0;34m\u001b[0m\u001b[0;34m\u001b[0m\u001b[0m\n\u001b[1;32m    534\u001b[0m             \u001b[0;34m\"does not match length of index \"\u001b[0m\u001b[0;34m\u001b[0m\u001b[0;34m\u001b[0m\u001b[0m\n",
            "\u001b[0;31mValueError\u001b[0m: Length of values (1) does not match length of index (1681)"
          ]
        }
      ],
      "source": [
        "dataset_resultado_filtragem_colaborativa = get_recommendations_collaborative_filtering('2',svd,dataset_item, dataset_train, 10)\n",
        "dataset_resultado_filtragem_colaborativa.merge(dataset_item[['id_filme','nome_filme']], left_on='id_filme', right_on='id_filme', how='left')"
      ]
    },
    {
      "cell_type": "code",
      "execution_count": null,
      "metadata": {
        "id": "qf7qk3-3Z1H7"
      },
      "outputs": [],
      "source": [
        "def get_genres(iid_filme, dataframe_filme, columns, nome_coluna_id_filme='id_filme') :\n",
        "  genres_list = list()\n",
        "  dataframe_line = dataframe_filme[dataframe_filme[nome_coluna_id_filme]== iid_filme]\n",
        "  for col in columns:\n",
        "    if dataframe_line[col].values[0] == 1:\n",
        "      genres_list.append(col)\n",
        "  return genres_list"
      ]
    },
    {
      "cell_type": "code",
      "execution_count": null,
      "metadata": {
        "id": "NlgtogHw519A"
      },
      "outputs": [],
      "source": [
        "def generate_graph(dataframe, dataframe_filmes, dataframe_usuarios, nome_coluna_id_filme='id_filme', nome_coluna_id_usuaio='id_usuario', nome_coluna_grupo='grupo', nome_coluna_ano='year'):  \n",
        "  G_ = nx.Graph(label=\"MOVIE\")\n",
        "  for i, rowi in dataframe.iterrows():\n",
        "    G_.add_node(rowi[nome_coluna_id_filme],label=\"FILME\")\n",
        "    G_.add_node(\"user_\"+rowi[nome_coluna_id_usuaio],label=\"USUARIO\")\n",
        "    G_.add_edge(rowi[nome_coluna_id_filme], \"user_\"+rowi[nome_coluna_id_usuaio], label=\"ASSISTIU\")\n",
        "\n",
        "  df_aux = dataframe.merge(dataframe_usuarios[[nome_coluna_id_usuaio,'grupo']], how='left', left_on=nome_coluna_id_usuaio, right_on=nome_coluna_id_usuaio)[[nome_coluna_id_filme,nome_coluna_grupo]].drop_duplicates()\n",
        "  dicio_cluster = dict()\n",
        "  for i, rowi in df_aux.iterrows():\n",
        "    G_.add_node(\"group_\"+str(rowi[nome_coluna_grupo]),label=\"GRUPO\")\n",
        "    G_.add_edge(rowi[nome_coluna_id_filme], \"group_\"+str(rowi[nome_coluna_grupo]), label=\"GRUPO\")\n",
        "\n",
        "  for i, rowi in dataframe_filmes.iterrows():\n",
        "    if rowi[nome_coluna_id_filme] in G_.nodes:\n",
        "      for subject in get_genres(rowi[nome_coluna_id_filme],dataframe_filmes, temas):\n",
        "        G_.add_node(subject,label=\"TEMA\")\n",
        "        G_.add_edge(rowi[nome_coluna_id_filme], subject, label=\"TEMA\")\n",
        "\n",
        "        ano = rowi[nome_coluna_ano]\n",
        "        G_.add_node(\"year_\"+str(ano),label=\"ANO\")\n",
        "        G_.add_edge(rowi[nome_coluna_id_filme], \"year_\"+str(ano), label=\"ANO\")\n",
        "\n",
        "  return G_"
      ]
    },
    {
      "cell_type": "code",
      "source": [
        "G = generate_graph(dataset_train, dataset_item, dataset_usuarios)"
      ],
      "metadata": {
        "id": "MbeyxN_3hKRF"
      },
      "execution_count": null,
      "outputs": []
    },
    {
      "cell_type": "code",
      "execution_count": null,
      "metadata": {
        "id": "v9tCujQ2ymgr"
      },
      "outputs": [],
      "source": [
        "def get_recommendation_from_graph(G_, root):\n",
        "  commons_dict = {}\n",
        "  for e in G_.neighbors(root):\n",
        "      for e2 in G_.neighbors(e):\n",
        "          if e2==root:\n",
        "              continue\n",
        "          if G_.nodes[e2]['label']==\"FILME\":\n",
        "              commons = commons_dict.get(e2)\n",
        "              if commons==None:\n",
        "                  commons_dict.update({e2 : [e]})\n",
        "              else:\n",
        "                  commons.append(e)\n",
        "                  commons_dict.update({e2 : commons})\n",
        "      movies=[]\n",
        "      weight=[]\n",
        "      for key, values in commons_dict.items():\n",
        "          w=0.0\n",
        "          for e in values:\n",
        "            w=w+1/math.log(G_.degree(e))\n",
        "          movies.append(key) \n",
        "          weight.append(w)\n",
        "    \n",
        "      result = pd.Series(data=np.array(weight),index=movies)\n",
        "      result.sort_values(inplace=True,ascending=False)        \n",
        "      return result"
      ]
    },
    {
      "cell_type": "code",
      "execution_count": null,
      "metadata": {
        "id": "L0aQNm9tZuun"
      },
      "outputs": [],
      "source": [
        "G = generate_graph(dataset_train, dataset_item, dataset_usuarios)"
      ]
    },
    {
      "cell_type": "code",
      "execution_count": null,
      "metadata": {
        "id": "Ldabl5Cnd6rQ"
      },
      "outputs": [],
      "source": [
        "def get_all_adj_nodes(G_, list_in):\n",
        "  sub_graph=set()\n",
        "  for m in list_in:\n",
        "      sub_graph.add(m)\n",
        "      for e in G_.neighbors(m):        \n",
        "              sub_graph.add(e)\n",
        "  return list(sub_graph)\n",
        "\n",
        "def draw_sub_graph(G_, sub_graph):\n",
        "  \n",
        "    subgraph = G_.subgraph(sub_graph)\n",
        "    pos = nx.spring_layout(G_, seed=5)\n",
        "    colors=[]\n",
        "    for e in subgraph.nodes():\n",
        "        if G_.nodes[e]['label']==\"FILME\":\n",
        "            colors.append('blue')\n",
        "        elif G_.nodes[e]['label']==\"USUARIO\":\n",
        "            colors.append('red')\n",
        "        elif G_.nodes[e]['label']==\"TEMA\":\n",
        "            colors.append('yellow')\n",
        "        elif G_.nodes[e]['label']==\"ANO\":\n",
        "            colors.append('orange')\n",
        "        elif G_.nodes[e]['label']==\"GRUPO\":\n",
        "            colors.append('green')\n",
        "    nx.draw(subgraph,pos=pos, with_labels=True, font_weight='bold',node_color=colors)\n",
        "    plt.savefig(\"grafo.png\",dpi=400, bbox_inches='tight')\n",
        "    plt.show()"
      ]
    },
    {
      "cell_type": "code",
      "execution_count": null,
      "metadata": {
        "id": "xcrn9maUidoN"
      },
      "outputs": [],
      "source": [
        "def adamic_adar_rec1(G_, dataframe, dataframe_filmes, n=20, nome_coluna_id_usuario='id_usuario', nome_coluna_id_filme = 'id_filme'):  \n",
        "  dataset_item_proximity = pd.DataFrame(columns=['id_filme_proximo', 'adamic_adar','id_filme'])\n",
        "  dataset_retorno = pd.DataFrame(columns=['id_usuario','recomendacoes'])\n",
        "  for filme in dataframe_filmes[nome_coluna_id_filme]:\n",
        "    if filme in dataframe[nome_coluna_id_filme].unique():\n",
        "      dataset_aux = pd.DataFrame(get_recommendation_from_graph(G_, filme).head(10)).reset_index()\n",
        "      dataset_aux['id_filme'] = filme\n",
        "      dataset_aux.columns = ['id_filme_proximo', 'adamic_adar','id_filme']\n",
        "      dataset_item_proximity = dataset_item_proximity.append(dataset_aux, ignore_index=True)\n",
        "\n",
        "  \n",
        "  for usuario in dataframe[nome_coluna_id_usuario].unique():\n",
        "    dataset_aux = dataframe[dataframe[nome_coluna_id_usuario]==usuario].sort_values(by=['data_avaliacao'],ascending=[False]).head(n)\n",
        "    dataset_aux = dataset_aux.merge(dataset_item_proximity, how='left', left_on=nome_coluna_id_filme,right_on=nome_coluna_id_filme)\n",
        "    dataset_aux = dataset_aux.sort_values(by='adamic_adar',ascending=False)\n",
        "    dataset_aux = dataset_aux.drop_duplicates(subset=['id_filme_proximo'])\n",
        "    dataset_aux = dataset_aux.merge(dataframe[dataframe[nome_coluna_id_usuario]==usuario][[nome_coluna_id_filme]], how='left', left_on='id_filme_proximo',right_on=nome_coluna_id_filme)\n",
        "    dataset_aux = dataset_aux[dataset_aux[nome_coluna_id_filme + '_y'].isna()]\n",
        "\n",
        "    \n",
        "    if len(list(dataset_aux.head(10).id_filme_proximo)) == 10:\n",
        "      dataset_retorno = dataset_retorno.append(pd.DataFrame([[usuario,list(dataset_aux.head(10).id_filme_proximo)]],columns=['id_usuario','recomendacoes']), ignore_index=True)\n",
        "    else:\n",
        "      dataset_aux = dataframe[dataframe[nome_coluna_id_usuario]==usuario].sort_values(by=['data_avaliacao'],ascending=[False]).head(n+10)\n",
        "      dataset_aux = dataset_aux.merge(dataset_item_proximity, how='left', left_on=nome_coluna_id_filme,right_on=nome_coluna_id_filme)\n",
        "      dataset_aux = dataset_aux.sort_values(by='adamic_adar',ascending=False)\n",
        "      dataset_aux = dataset_aux.drop_duplicates(subset=['id_filme_proximo'])\n",
        "      dataset_aux = dataset_aux.merge(dataframe[dataframe[nome_coluna_id_usuario]==usuario][[nome_coluna_id_filme]], how='left', left_on='id_filme_proximo',right_on=nome_coluna_id_filme)\n",
        "      dataset_aux = dataset_aux[dataset_aux[nome_coluna_id_filme + '_y'].isna()]\n",
        "      dataset_retorno = dataset_retorno.append(pd.DataFrame([[usuario,list(dataset_aux.head(10).id_filme_proximo)]],columns=['id_usuario','recomendacoes']), ignore_index=True)\n",
        "\n",
        "  return dataset_retorno"
      ]
    },
    {
      "cell_type": "code",
      "execution_count": null,
      "metadata": {
        "id": "Gn94FV8q-SCt"
      },
      "outputs": [],
      "source": [
        "def adamic_adar_ordered(G_, dataframe, dataframe_filmes, dataframe_svd, n=20, nome_coluna_id_usuario='id_usuario', nome_coluna_id_filme = 'id_filme'):  \n",
        "  dataset_item_proximity = pd.DataFrame(columns=['id_filme_proximo', 'adamic_adar','id_filme'])\n",
        "  dataset_retorno = pd.DataFrame(columns=['id_usuario','recomendacoes'])\n",
        "\n",
        "  for filme in dataframe_filmes[nome_coluna_id_filme]:\n",
        "    if filme in dataframe[nome_coluna_id_filme].unique():\n",
        "      dataset_aux = pd.DataFrame(get_recommendation_from_graph(G_, filme).head(10)).reset_index()\n",
        "      dataset_aux['id_filme'] = filme\n",
        "      dataset_aux.columns = ['id_filme_proximo', 'adamic_adar','id_filme']\n",
        "      dataset_item_proximity = dataset_item_proximity.append(dataset_aux, ignore_index=True)\n",
        "  \n",
        "  for usuario in dataframe[nome_coluna_id_usuario].unique():\n",
        "    dataset_aux = dataframe[dataframe[nome_coluna_id_usuario] == usuario].sort_values(by=['data_avaliacao'], ascending= [False]).head(n)\n",
        "    dataset_aux = dataset_aux.merge(dataset_item_proximity, how='left', left_on= nome_coluna_id_filme, right_on=nome_coluna_id_filme)\n",
        "    films_list = list(dataset_aux[nome_coluna_id_filme])\n",
        "    score_list = []\n",
        "\n",
        "\n",
        "  for usuario in dataframe[nome_coluna_id_usuario].unique():\n",
        "    dataset_aux = dataframe[dataframe[nome_coluna_id_usuario]==usuario].sort_values(by=['data_avaliacao'],ascending=[False]).head(n)\n",
        "    dataset_aux = dataset_aux.merge(dataset_item_proximity, how='left', left_on=nome_coluna_id_filme,right_on=nome_coluna_id_filme)\n",
        "    films_list = list(dataset_aux[nome_coluna_id_filme])\n",
        "    score_list = []\n",
        "    \n",
        "  for f in films_list:\n",
        "      score_list.append(dataframe_svd.predict(str(usuario), str(f)).est)\n",
        "  dataset_aux['score'] = score_list\n",
        "  dataset_aux = dataset_aux.sort_values(by='score',ascending=False)\n",
        "  dataset_aux = dataset_aux.drop_duplicates(subset=['id_filme_proximo'])\n",
        "  dataset_aux = dataset_aux.merge(dataframe[dataframe[nome_coluna_id_usuario]==usuario][[nome_coluna_id_filme]], how='left', left_on='id_filme_proximo',right_on=nome_coluna_id_filme)\n",
        "  dataset_aux = dataset_aux[dataset_aux[nome_coluna_id_filme + '_y'].isna()]\n",
        "\n",
        "  if len(list(dataset_aux.head(10).id_filme_proximo)) == 10:\n",
        "    dataset_retorno = dataset_retorno.append(pd.DataFrame([[usuario,list(dataset_aux.head(10).id_filme_proximo)]],columns=['id_usuario','recomendacoes']), ignore_index=True)\n",
        "  else:\n",
        "    dataset_aux = dataframe[dataframe[nome_coluna_id_usuario]==usuario].sort_values(by=['data_avaliacao'],ascending=[False]).head(n+10)\n",
        "    dataset_aux = dataset_aux.merge(dataset_item_proximity, how='left', left_on=nome_coluna_id_filme,right_on=nome_coluna_id_filme)\n",
        "    score_list = []\n",
        "\n",
        "  films_list = list(dataset_aux[nome_coluna_id_filme])\n",
        "  score_list = []\n",
        "  for f in films_list:\n",
        "    score_list.append(dataframe_svd.predict(str(usuario), str(f)).est)\n",
        "  dataset_aux['score'] = score_list\n",
        "  dataset_aux = dataset_aux.sort_values(by='score',ascending=False)\n",
        "  dataset_aux = dataset_aux.drop_duplicates(subset=['id_filme_proximo'])\n",
        "  dataset_aux = dataset_aux.merge(dataframe[dataframe[nome_coluna_id_usuario]==usuario][[nome_coluna_id_filme]], how='left', left_on='id_filme_proximo',right_on=nome_coluna_id_filme)\n",
        "  dataset_aux = dataset_aux[dataset_aux[nome_coluna_id_filme + '_y'].isna()]\n",
        "\n",
        "  dataset_retorno = dataset_retorno.append(pd.DataFrame([[usuario,list(dataset_aux.head(10).id_filme_proximo)]],columns=['id_usuario','recomendacoes']), ignore_index=True)\n",
        "  return dataset_retorno"
      ]
    },
    {
      "cell_type": "code",
      "execution_count": null,
      "metadata": {
        "id": "EctZ0OVYqmUc"
      },
      "outputs": [],
      "source": [
        "def apk(actual, predicted, k=10, func_type= 'ordered_precition'):\n",
        "    if len(str(predicted))>k:\n",
        "        predicted = predicted[:k]\n",
        "\n",
        "    score = 0.0\n",
        "    num_hits = 0.0\n",
        "\n",
        "    if not actual or actual!=actual:\n",
        "        return 0.0\n",
        "\n",
        "    for i,p in enumerate(predicted):\n",
        "        if p in actual and p not in predicted[:i]:\n",
        "            num_hits += 1.0\n",
        "            score += num_hits / (i+1.0)\n",
        "\n",
        "    if (func_type == 'precision'):\n",
        "      return num_hits / min(len(actual), k)\n",
        "    elif (func_type == 'ordered_precision'):\n",
        "      return score / min(len(actual), k)"
      ]
    },
    {
      "cell_type": "code",
      "execution_count": null,
      "metadata": {
        "id": "_WPITPV2OMjV"
      },
      "outputs": [],
      "source": [
        "def mapk(actual, predicted, k=10, func_type = 'ordered_precision'):  \n",
        "  return np.mean([apk(a,p,k, func_type) for a,p in zip(actual, predicted)])"
      ]
    },
    {
      "cell_type": "code",
      "execution_count": null,
      "metadata": {
        "id": "Ty5l6PCtPDLz"
      },
      "outputs": [],
      "source": [
        "def predicted_coverage(predicted, catalog):\n",
        "  predicted_flattend = [p for sublist in predicted for p in sublist]\n",
        "  unique_predictions = len(set(predicted_flattend))\n",
        "  predicted_coverage = round(unique_predictions/(len(catalog) * 1.0) *100,4)\n",
        "  return predicted_coverage"
      ]
    },
    {
      "cell_type": "code",
      "execution_count": null,
      "metadata": {
        "id": "Kk-EpxjLQK76"
      },
      "outputs": [],
      "source": [
        "def personalization(predicted):\n",
        "  def make_rec_matrix(predicted):\n",
        "    dataset_aux = pd.DataFrame(data=predicted).reset_index().melt(id_vars='index', value_name='item')\n",
        "    dataset_aux = dataset_aux[['index', 'item']].provot(index='index', columns='item', values='item')\n",
        "    dataset_aux = pd.notna(dataset_aux)*1\n",
        "    rec_matrix = sp.csr_matrix(dataset_aux.values)\n",
        "    return rec_matrix\n",
        "\n",
        "  predicted = np.array(predicted)\n",
        "  rec_matrix_sparse = make_rec_matrix(predicted)\n",
        "  similarity = cosine_similarity(X=rec_matrix_sparse, dense_output=False)\n",
        "  dim = similarity.shape[0]\n",
        "  personalization = (similarity.sum() - dim) / (dim * (dim-1))\n",
        "  return round(1-personalization, 4)"
      ]
    },
    {
      "cell_type": "code",
      "execution_count": null,
      "metadata": {
        "id": "E9atl7JoOujX"
      },
      "outputs": [],
      "source": [
        "dataset_aux = pd.DataFrame(columns=['id_usuario','actual'])\n",
        "for usuario in dataset_test.id_usuario.unique():\n",
        "  dataset_aux = dataset_aux.append(pd.DataFrame([[usuario,list(dataset_test[dataset_test['id_usuario']==usuario].id_filme)]],columns=['id_usuario','actual']), ignore_index=True)\n",
        "dataset_test = dataset_aux.copy()\n",
        "\n",
        "dataset_test.head()"
      ]
    },
    {
      "cell_type": "code",
      "execution_count": null,
      "metadata": {
        "id": "gO8CNPY-utzS"
      },
      "outputs": [],
      "source": [
        "dataset_retorno_sem_cluster = pd.DataFrame(columns=['id_usuario','avaliacao'])\n",
        "for usuario in dataset_train.id_usuario.unique():\n",
        "  dataset_aux = current_wr_imdb(dataset_train, periodo_maximo_considerado=10000).sort_values(by='popularidade', ascending=False)\n",
        "  dataframe_auxiliar_ = dataset_train[['id_usuario','id_filme']].copy()\n",
        "  dataframe_auxiliar_.columns = ['iid_usuario','iid_filme']\n",
        "  dataframe_auxiliar_ = dataframe_auxiliar_[dataframe_auxiliar_['iid_usuario']==str(usuario)]\n",
        "  dataset_aux = dataset_aux.merge(dataframe_auxiliar_, how='left', left_on='id_filme', right_on='iid_filme')\n",
        "  dataset_aux = dataset_aux[dataset_aux['iid_filme'].isna()]\n",
        "  dataset_aux.drop(columns=['iid_filme','iid_usuario'], inplace=True)\n",
        "  dataset_retorno_sem_cluster = dataset_retorno_sem_cluster.append(pd.DataFrame([[usuario,list(dataset_aux.head(10).id_filme)]],columns=['id_usuario','avaliacao']), ignore_index=True)"
      ]
    },
    {
      "cell_type": "code",
      "execution_count": null,
      "metadata": {
        "id": "I7vxd71extQ7"
      },
      "outputs": [],
      "source": [
        "dataset_result_adamic_adar_rec = adamic_adar_rec1(G, dataset_train, dataset_item, 20)"
      ]
    },
    {
      "cell_type": "code",
      "execution_count": null,
      "metadata": {
        "id": "rPDyPYdiyN-y"
      },
      "outputs": [],
      "source": [
        "dataset_result_adamic_adar_rec = dataset_result_adamic_adar_rec.merge(dataset_test, how='left', left_on='id_usuario', right_on='id_usuario')"
      ]
    },
    {
      "cell_type": "code",
      "execution_count": null,
      "metadata": {
        "id": "k8RP7q_cNeAC"
      },
      "outputs": [],
      "source": [
        "dataset_retorno_cluster = pd.DataFrame(columns=['id_usuario','avaliacao'])\n",
        "for usuario in dataset_train.id_usuario.unique():\n",
        "  dataset_aux = current_wr_imdb(get_recommendations_clusterized(usuario, dataset_usuarios, dataset_train), periodo_maximo_considerado=10000).sort_values(by='popularidade', ascending=False)\n",
        "  dataset_retorno_cluster = dataset_retorno_cluster.append(pd.DataFrame([[usuario,list(dataset_aux.head(10).id_filme)]],columns=['id_usuario','avaliacao']), ignore_index=True)\n",
        "dataset_retorno_cluster.head()"
      ]
    },
    {
      "cell_type": "code",
      "execution_count": null,
      "metadata": {
        "id": "svP5B7C2Cj9U"
      },
      "outputs": [],
      "source": [
        "mapk(dataset_result_adamic_adar_rec.actual, dataset_result_adamic_adar_rec.recomendacoes)"
      ]
    },
    {
      "cell_type": "code",
      "execution_count": null,
      "metadata": {
        "id": "7cexd-oHVtYO"
      },
      "outputs": [],
      "source": [
        "mapk(dataset_result_adamic_adar_rec.actual, dataset_result_adamic_adar_rec.recomendacoes, func_type = 'precision')"
      ]
    },
    {
      "cell_type": "code",
      "execution_count": null,
      "metadata": {
        "id": "tBXEjPwVOAG3"
      },
      "outputs": [],
      "source": [
        "G.columns"
      ]
    },
    {
      "cell_type": "code",
      "execution_count": null,
      "metadata": {
        "id": "OGBgOrBazYxM"
      },
      "outputs": [],
      "source": [
        "dataset_item"
      ]
    },
    {
      "cell_type": "code",
      "execution_count": null,
      "metadata": {
        "id": "h3KrewUL0lyL"
      },
      "outputs": [],
      "source": [
        "dataset_retorno_svd = pd.DataFrame(columns=['id_usuario','avaliacao'])\n",
        "for usuario in dataset_train.id_usuario.unique():\n",
        "  dataset_aux = get_recommendation_collaborative_filtering(usuario,svd,dataset_item, dataset_train, 10)\n",
        "  dataset_retorno_svd = dataset_retorno_svd.append(pd.DataFrame([[usuario,list(dataset_aux.head(10).id_filme)]],columns=['id_usuario','avaliacao']), ignore_index=True)"
      ]
    },
    {
      "cell_type": "code",
      "execution_count": null,
      "metadata": {
        "id": "WGOjyO-ljCt0"
      },
      "outputs": [],
      "source": [
        "dataset_retorno_svd = dataset_retorno_svd.merge(dataset_test, how='left', left_on='id_usuario', right_on= 'id_usuario')"
      ]
    },
    {
      "cell_type": "code",
      "execution_count": null,
      "metadata": {
        "id": "fSvY-3Hvj2WA"
      },
      "outputs": [],
      "source": [
        "mapk(dataset_retorno_svd.actual, dataset_retorno_svd.avaliacao)"
      ]
    },
    {
      "cell_type": "code",
      "execution_count": null,
      "metadata": {
        "id": "NO987-bs64NL"
      },
      "outputs": [],
      "source": [
        "dataset_retorno_sem_cluster = dataset_retorno_sem_cluster.merge(dataset_test, how='left', left_on='id_usuario', right_on='id_usuario')"
      ]
    },
    {
      "cell_type": "code",
      "execution_count": null,
      "metadata": {
        "id": "2lLMxh1itE5L"
      },
      "outputs": [],
      "source": [
        "predicted_coverage(dataset_retorno_sem_cluster)"
      ]
    }
  ],
  "metadata": {
    "colab": {
      "collapsed_sections": [],
      "provenance": []
    },
    "kernelspec": {
      "display_name": "Python 3",
      "name": "python3"
    },
    "language_info": {
      "name": "python"
    }
  },
  "nbformat": 4,
  "nbformat_minor": 0
}